{
  "nbformat": 4,
  "nbformat_minor": 0,
  "metadata": {
    "colab": {
      "provenance": [],
      "include_colab_link": true
    },
    "kernelspec": {
      "name": "python3",
      "display_name": "Python 3"
    },
    "language_info": {
      "name": "python"
    }
  },
  "cells": [
    {
      "cell_type": "markdown",
      "metadata": {
        "id": "view-in-github",
        "colab_type": "text"
      },
      "source": [
        "<a href=\"https://colab.research.google.com/github/Existanze54/sirius-neural-networks-2024/blob/main/Homeworks/03HW_Optimization.ipynb\" target=\"_parent\"><img src=\"https://colab.research.google.com/assets/colab-badge.svg\" alt=\"Open In Colab\"/></a>"
      ]
    },
    {
      "cell_type": "markdown",
      "source": [
        "# Домашнее задание 3. Оптимизация моделей и Transfer learning\n",
        "В этом задании вы будете работать с датасетом [DermaMNIST](https://medmnist.com/). Используя материалы семинара 5 (05S_NN_methods), необходимо будет обучить две простые модели, а затем создать свою собственную, призванную побить их по метрикам качества."
      ],
      "metadata": {
        "id": "4SDVOvDx1xGs"
      }
    },
    {
      "cell_type": "code",
      "execution_count": null,
      "metadata": {
        "id": "Caa_20EsVv2p"
      },
      "outputs": [],
      "source": [
        "import numpy as np\n",
        "import matplotlib.pyplot as plt\n",
        "import torch\n",
        "import torch.nn as nn\n",
        "import torch.optim as optim\n",
        "import torch.nn.functional as F\n",
        "from tqdm import tqdm"
      ]
    },
    {
      "cell_type": "code",
      "source": [
        "device = torch.device(\"cuda:0\" if torch.cuda.is_available() else \"cpu\")\n",
        "print(device)\n",
        "if torch.cuda.is_available():\n",
        "  print(torch.cuda.get_device_properties(device))"
      ],
      "metadata": {
        "id": "CC6xVwSLV6dO"
      },
      "execution_count": null,
      "outputs": []
    },
    {
      "cell_type": "code",
      "source": [
        "def set_random_seed(seed):\n",
        "    torch.backends.cudnn.deterministic = True\n",
        "    torch.manual_seed(seed)\n",
        "    torch.cuda.manual_seed(seed)\n",
        "    np.random.seed(seed)"
      ],
      "metadata": {
        "id": "A8vhaRK84iyZ"
      },
      "execution_count": null,
      "outputs": []
    },
    {
      "cell_type": "markdown",
      "source": [
        "# Задание 0. Подготовка данных\n",
        "Подгрузите датасет DermaMNIST, оформите даталоадеры, задайте функцию потерь."
      ],
      "metadata": {
        "id": "JBvnTNHKae0K"
      }
    },
    {
      "cell_type": "code",
      "source": [
        "pip install --upgrade git+https://github.com/MedMNIST/MedMNIST.git"
      ],
      "metadata": {
        "id": "WLqlgJpvV7-V"
      },
      "execution_count": null,
      "outputs": []
    },
    {
      "cell_type": "code",
      "source": [
        "import medmnist\n",
        "from medmnist import INFO, Evaluator"
      ],
      "metadata": {
        "id": "qBi2j9V2V8zx"
      },
      "execution_count": null,
      "outputs": []
    },
    {
      "cell_type": "code",
      "source": [
        "DataClass = # your code here"
      ],
      "metadata": {
        "id": "cPIbcF_jV-Vi"
      },
      "execution_count": null,
      "outputs": []
    },
    {
      "cell_type": "markdown",
      "source": [
        "Выберем лосс функцию исходя из задачи\n"
      ],
      "metadata": {
        "id": "ow0wHu5l5WED"
      }
    },
    {
      "cell_type": "code",
      "source": [
        "if task == \"multi-label, binary-class\":\n",
        "    criterion = nn.BCEWithLogitsLoss()\n",
        "else:\n",
        "    criterion = nn.CrossEntropyLoss()\n",
        "criterion"
      ],
      "metadata": {
        "id": "3CTvvOax5eyK"
      },
      "execution_count": null,
      "outputs": []
    },
    {
      "cell_type": "code",
      "source": [
        "data_transform = transforms.Compose([\n",
        "    transforms.ToTensor(),\n",
        "])"
      ],
      "metadata": {
        "id": "p0_ACOk1WVNE"
      },
      "execution_count": null,
      "outputs": []
    },
    {
      "cell_type": "code",
      "source": [
        "train_dataset = # your code here\n",
        "test_dataset = # your code here\n",
        "\n",
        "BATCH_SIZE = 128 # оставим таким на протяжении всего ноутбука\n",
        "\n",
        "train_loader = # your code here\n",
        "train_loader_at_eval = # your code here\n",
        "test_loader = # your code here"
      ],
      "metadata": {
        "id": "YtJFvPOnWsZo"
      },
      "execution_count": null,
      "outputs": []
    },
    {
      "cell_type": "code",
      "source": [
        "print(train_dataset)\n",
        "print(\"===================\")\n",
        "print(test_dataset)"
      ],
      "metadata": {
        "id": "Za2srhPaWxDL"
      },
      "execution_count": null,
      "outputs": []
    },
    {
      "cell_type": "code",
      "source": [
        "train_dataset.montage(length=10)"
      ],
      "metadata": {
        "id": "xFYTmO_JWziN"
      },
      "execution_count": null,
      "outputs": []
    },
    {
      "cell_type": "markdown",
      "source": [
        "# Задание 1. Простая модель\n",
        "Попробуем создать простую нейросеть с fully connected структурой и обучить ее.\n",
        "\n",
        "Реализуйте следующую архитектуру:\n",
        "1. Flatten слой\n",
        "2. Линейный слой с входом n * m * m (n - кол-во каналов, m - размер изображения) и выходом 100, функция активации ReLU()\n",
        "3. Линейный слой с выходом 10, ReLU()\n",
        "4. Линейный аутпут слой. Учитывайте нашу задачу (см. флаг task) и используемую функцию потерь (criterion).\n"
      ],
      "metadata": {
        "id": "MejNI6hV3GB0"
      }
    },
    {
      "cell_type": "code",
      "source": [
        "class SimpleModel(nn.Module):\n",
        "    def __init__(self, in_channels, num_classes):\n",
        "        set_random_seed(42) # - оставляйте эту строку для воспроизводимости результатов\n",
        "        super().__init__()\n",
        "\n",
        "        self.fc = nn.Sequential(\n",
        "            # your code here\n",
        "        )\n",
        "\n",
        "    def forward(self, x):\n",
        "        x = self.fc(x)\n",
        "        return x"
      ],
      "metadata": {
        "id": "1dMNHBZ8W6FU"
      },
      "execution_count": null,
      "outputs": []
    },
    {
      "cell_type": "code",
      "source": [
        "model = SimpleModel(in_channels=n_channels, num_classes=n_classes)\n",
        "model = model.to(device)\n",
        "\n",
        "# число эпох и lr можно менять\n",
        "NUM_EPOCHS = 3\n",
        "lr = 0.001\n",
        "\n",
        "optimizer = optim.SGD(model.parameters(), lr=lr)"
      ],
      "metadata": {
        "id": "NDObrc-TXE1G"
      },
      "execution_count": null,
      "outputs": []
    },
    {
      "cell_type": "markdown",
      "source": [
        "Используем сценарии train и test со встроенными метриками из семинара"
      ],
      "metadata": {
        "id": "So0YxR7p4ySo"
      }
    },
    {
      "cell_type": "code",
      "source": [
        "def train(model):\n",
        "    print('==> Training ...')\n",
        "    for epoch in range(NUM_EPOCHS):\n",
        "      model.train()\n",
        "      for inputs, targets in tqdm(train_loader):\n",
        "\n",
        "          inputs = inputs.to(device)\n",
        "          targets = targets.to(device)\n",
        "\n",
        "          # forward + backward + optimize\n",
        "          optimizer.zero_grad()\n",
        "          outputs = model(inputs)\n",
        "\n",
        "          if task == 'multi-label, binary-class':\n",
        "              targets = targets.to(torch.float32)\n",
        "              loss = criterion(outputs, targets)\n",
        "          else:\n",
        "              targets = targets.squeeze()\n",
        "              loss = criterion(outputs, targets)\n",
        "\n",
        "          loss.backward()\n",
        "          optimizer.step()\n",
        "    print('\\n ==> Finished training')"
      ],
      "metadata": {
        "id": "szpvbTkmXaQ5"
      },
      "execution_count": null,
      "outputs": []
    },
    {
      "cell_type": "code",
      "source": [
        "def test_split(model, split):\n",
        "    model.eval()\n",
        "    y_score = torch.tensor([]).to(device)\n",
        "\n",
        "    data_loader = train_loader_at_eval if split == 'train' else test_loader\n",
        "\n",
        "    with torch.no_grad():\n",
        "        for inputs, targets in data_loader:\n",
        "            inputs = inputs.to(device)\n",
        "            targets = targets.to(device)\n",
        "\n",
        "            outputs = model(inputs)\n",
        "\n",
        "            if task == 'multi-label, binary-class':\n",
        "                targets = targets.to(torch.float32)\n",
        "                outputs = outputs.softmax(dim=-1)\n",
        "            else:\n",
        "                targets = targets.squeeze()\n",
        "                outputs = outputs.softmax(dim=-1)\n",
        "\n",
        "            y_score = torch.cat((y_score, outputs), 0)\n",
        "\n",
        "        y_score = y_score.cpu().detach().numpy()\n",
        "\n",
        "        evaluator = Evaluator(data_flag, split)\n",
        "        metrics = evaluator.evaluate(y_score)\n",
        "\n",
        "        print('%s  auc: %.3f  acc:%.3f' % (split, *metrics))\n",
        "\n",
        "def test(model):\n",
        "    print('==> Evaluating ...')\n",
        "    test_split(model, 'train')\n",
        "    test_split(model, 'test')"
      ],
      "metadata": {
        "id": "JT-2ZE6kXcIf"
      },
      "execution_count": null,
      "outputs": []
    },
    {
      "cell_type": "code",
      "source": [
        "train(model)"
      ],
      "metadata": {
        "id": "R4o48RT-XctI"
      },
      "execution_count": null,
      "outputs": []
    },
    {
      "cell_type": "code",
      "source": [
        "test(model)"
      ],
      "metadata": {
        "id": "o1U8gYAvXeON"
      },
      "execution_count": null,
      "outputs": []
    },
    {
      "cell_type": "markdown",
      "source": [
        "# Задание 2. Модель посложнее\n",
        "Создайте более сложную CNN модель по представленной ниже схеме и обучите ее\n",
        "1. Конволюция с 6 каналами на выход, ядро 5x5 со страйдом 1 и 'same' паддингом (заполнение нулями), ReLU функция активации\n",
        "2. AveragePooling2D, 2x2 ядро, страйд 2\n",
        "3. Conv2D, 16 фичей, ядро 5x5 со страйдом 1 и без паддинга (padding='valid'), ReLU\n",
        "4. AveragePooling2D, 2x2 ядро, страйд 2\n",
        "5. Conv2D, 40 фичей, ядро 5x5 со страйдом 1 и без паддинга, ReLU\n",
        "6. Flatten слой\n",
        "7. Линейный слой со входом 40 * n * n  (n - размер картинки после предыдущих слоев) и выходом 60, ReLU\n",
        "8. Dropout 50%\n",
        "9. Линейный аутпут слой. Учитывайте нашу задачу (см. флаг task) и используемую функцию потерь (criterion)"
      ],
      "metadata": {
        "id": "tWTrB2cd6Rs_"
      }
    },
    {
      "cell_type": "code",
      "source": [
        "class CNNModel(nn.Module):\n",
        "    def __init__(self, in_channels, num_classes):\n",
        "        set_random_seed(42) # оставляем для воспроизводимости результатов\n",
        "        super().__init__()\n",
        "\n",
        "        # your code here\n",
        "\n",
        "    def forward(self, x):\n",
        "        # your code here\n",
        "        return x"
      ],
      "metadata": {
        "id": "LAsypTPiXjh6"
      },
      "execution_count": null,
      "outputs": []
    },
    {
      "cell_type": "code",
      "source": [
        "model = CNNModel(in_channels=n_channels, num_classes=n_classes)\n",
        "model = model.to(device)\n",
        "\n",
        "# число эпох и lr можно менять\n",
        "NUM_EPOCHS = 3\n",
        "lr = 0.001\n",
        "\n",
        "optimizer = optim.SGD(model.parameters(), lr=lr)"
      ],
      "metadata": {
        "id": "YrBSWMMdBkiE"
      },
      "execution_count": null,
      "outputs": []
    },
    {
      "cell_type": "code",
      "source": [
        "train(model)"
      ],
      "metadata": {
        "id": "a41GSKPeX68I"
      },
      "execution_count": null,
      "outputs": []
    },
    {
      "cell_type": "code",
      "source": [
        "test(model)"
      ],
      "metadata": {
        "id": "ZgBoRILyX72C"
      },
      "execution_count": null,
      "outputs": []
    },
    {
      "cell_type": "markdown",
      "source": [
        "Сравните результаты обучения обеих сетей. Что изменилось в плане качества и изменилось ли? Сделайте выводы относительно созданных архитектур."
      ],
      "metadata": {
        "id": "QNwHT_7D8aHh"
      }
    },
    {
      "cell_type": "code",
      "source": [
        "# your conclusions here"
      ],
      "metadata": {
        "id": "GJTtnFzGfMko"
      },
      "execution_count": null,
      "outputs": []
    },
    {
      "cell_type": "markdown",
      "source": [
        "# Задание 3. Своя модель\n",
        "Попробуйте создать свою собственную архитектуру и попытайтесь максимально повысить качество предсказаний. Можно варьировать ЛЮБЫЕ параметры (кроме лосс функции, объявленной в начале) - число эпох, значение learning rate, оптимизатор, количество слоев (можно использовать дропауты, батч нормы и т.д.), функции активации и т.д.\n",
        "\n",
        "За основу можно брать полученные на семинаре архитектуры\n",
        "\n"
      ],
      "metadata": {
        "id": "ZbLAdkr48pTj"
      }
    },
    {
      "cell_type": "code",
      "source": [
        "class MyLittleModel(nn.Module):\n",
        "    def __init__(self, in_channels, num_classes):\n",
        "        set_random_seed(42) # оставляем для воспроизводимости результатов\n",
        "        super().__init__()\n",
        "\n",
        "        # your code here"
      ],
      "metadata": {
        "id": "f4afuCDTX8_G"
      },
      "execution_count": null,
      "outputs": []
    },
    {
      "cell_type": "code",
      "source": [
        "model = MyLittleModel(in_channels=n_channels, num_classes=n_classes)\n",
        "model = model.to(device)\n",
        "\n",
        "# your code here"
      ],
      "metadata": {
        "id": "lPn1upH_YRij"
      },
      "execution_count": null,
      "outputs": []
    },
    {
      "cell_type": "code",
      "source": [
        "train(model)"
      ],
      "metadata": {
        "id": "DW33X5lwYWHi"
      },
      "execution_count": null,
      "outputs": []
    },
    {
      "cell_type": "code",
      "source": [
        "test(model)"
      ],
      "metadata": {
        "id": "9mPAo4WgYXKD"
      },
      "execution_count": null,
      "outputs": []
    },
    {
      "cell_type": "markdown",
      "source": [
        "Сделайте вывод относительно ~вашего дитя~ вашей архитектуры. Поднялось ли качество, какие изменения повлияли сильнее всего?"
      ],
      "metadata": {
        "id": "MG1fHaaF-Ei5"
      }
    },
    {
      "cell_type": "code",
      "source": [
        "# your conclusions here"
      ],
      "metadata": {
        "id": "adgZd2k1f85d"
      },
      "execution_count": null,
      "outputs": []
    },
    {
      "cell_type": "markdown",
      "source": [
        "# Задание 4. Transfer learning\n",
        "Идея Transfer learning: загрузим предобученную нейросеть и попробуем дообучить ее на наших данных. Дообучать будем только последний аутпут слой.\n",
        "\n"
      ],
      "metadata": {
        "id": "cryprseF-hYV"
      }
    },
    {
      "cell_type": "code",
      "source": [
        "from torchvision import models\n",
        "from torchvision.models import ResNet50_Weights"
      ],
      "metadata": {
        "id": "StOQkvAhjWs8"
      },
      "execution_count": null,
      "outputs": []
    },
    {
      "cell_type": "code",
      "source": [
        "def get_resnet_model_finetune(num_classes, device, dropout=0):\n",
        "        model = models.resnet50(weights=ResNet50_Weights.IMAGENET1K_V2)\n",
        "\n",
        "        for param in model.parameters():\n",
        "            param.requires_grad = False\n",
        "\n",
        "        num_features = model.fc.in_features\n",
        "\n",
        "        if dropout > 0:\n",
        "            model.fc = nn.Sequential(\n",
        "                nn.Dropout(dropout),\n",
        "                nn.Linear(num_features, #your code here)\n",
        "            )\n",
        "        else:\n",
        "            model.fc = nn.Linear(num_features, #your code here)\n",
        "\n",
        "        model.params = model.fc.parameters()\n",
        "\n",
        "        return model.to(device)"
      ],
      "metadata": {
        "id": "60Hv2dgenSFj"
      },
      "execution_count": null,
      "outputs": []
    },
    {
      "cell_type": "code",
      "source": [
        "model = get_resnet_model_finetune(n_classes, device)"
      ],
      "metadata": {
        "id": "NrI2CvBmoGwy"
      },
      "execution_count": null,
      "outputs": []
    },
    {
      "cell_type": "markdown",
      "source": [
        "Проверим, какой будет размерность выходных данных"
      ],
      "metadata": {
        "id": "qMXMHtGn_Ks4"
      }
    },
    {
      "cell_type": "code",
      "source": [
        "for X, y in train_loader:\n",
        "    break"
      ],
      "metadata": {
        "id": "9uqQVbXwoPG-"
      },
      "execution_count": null,
      "outputs": []
    },
    {
      "cell_type": "code",
      "source": [
        "model(X).shape"
      ],
      "metadata": {
        "id": "fvw2vmi0oNcy"
      },
      "execution_count": null,
      "outputs": []
    },
    {
      "cell_type": "markdown",
      "source": [
        "Рассчитаем качество модели без дообучения"
      ],
      "metadata": {
        "id": "aaAsHoLs_QWf"
      }
    },
    {
      "cell_type": "code",
      "source": [
        "test(model)"
      ],
      "metadata": {
        "id": "CSdk0k-_jgIT"
      },
      "execution_count": null,
      "outputs": []
    },
    {
      "cell_type": "markdown",
      "source": [
        "Дообучим модель на нескольких эпохах"
      ],
      "metadata": {
        "id": "ovf5TCpI_cl6"
      }
    },
    {
      "cell_type": "code",
      "source": [
        "model = get_resnet_model_finetune(n_classes, device)\n",
        "\n",
        "NUM_EPOCHS = 3\n",
        "lr = 0.001\n",
        "\n",
        "optimizer = optim.SGD(model.parameters(), lr=lr)"
      ],
      "metadata": {
        "id": "kUnzIwvHjXN7"
      },
      "execution_count": null,
      "outputs": []
    },
    {
      "cell_type": "code",
      "source": [
        "train(model)"
      ],
      "metadata": {
        "id": "nlRcSkptja0c"
      },
      "execution_count": null,
      "outputs": []
    },
    {
      "cell_type": "code",
      "source": [
        "test(model)"
      ],
      "metadata": {
        "id": "87uGo5l1jkQc"
      },
      "execution_count": null,
      "outputs": []
    },
    {
      "cell_type": "markdown",
      "source": [
        "Увеличим число эпох"
      ],
      "metadata": {
        "id": "5IJ294PuCODS"
      }
    },
    {
      "cell_type": "code",
      "source": [
        "model = get_resnet_model_finetune(n_classes, device)\n",
        "\n",
        "NUM_EPOCHS = 10\n",
        "lr = 0.001\n",
        "\n",
        "optimizer = optim.SGD(model.parameters(), lr=lr)"
      ],
      "metadata": {
        "id": "m6fMilowpsu7"
      },
      "execution_count": null,
      "outputs": []
    },
    {
      "cell_type": "code",
      "source": [
        "train(model)"
      ],
      "metadata": {
        "id": "qU0NZ10BpxwE"
      },
      "execution_count": null,
      "outputs": []
    },
    {
      "cell_type": "code",
      "source": [
        "test(model)"
      ],
      "metadata": {
        "id": "cKJEYCDHpy8C"
      },
      "execution_count": null,
      "outputs": []
    },
    {
      "cell_type": "markdown",
      "source": [
        "Больше эпох!"
      ],
      "metadata": {
        "id": "fC-WIRffCR_B"
      }
    },
    {
      "cell_type": "code",
      "source": [
        "model = get_resnet_model_finetune(n_classes, device)\n",
        "\n",
        "NUM_EPOCHS = 30\n",
        "lr = 3e-4\n",
        "\n",
        "optimizer = optim.AdamW(model.parameters(), lr=lr)"
      ],
      "metadata": {
        "id": "EexR9a9Zw2kL"
      },
      "execution_count": null,
      "outputs": []
    },
    {
      "cell_type": "code",
      "source": [
        "train(model)"
      ],
      "metadata": {
        "id": "NFWsFvhbw49T"
      },
      "execution_count": null,
      "outputs": []
    },
    {
      "cell_type": "code",
      "source": [
        "test(model)"
      ],
      "metadata": {
        "id": "nCKkMKe6w9PM"
      },
      "execution_count": null,
      "outputs": []
    },
    {
      "cell_type": "markdown",
      "source": [
        "Очень много эпох!! Так много, что можно пропустить, если GPU в бане"
      ],
      "metadata": {
        "id": "djoyZ9F-CVzh"
      }
    },
    {
      "cell_type": "code",
      "source": [
        "model = get_resnet_model_finetune(n_classes, device)\n",
        "\n",
        "NUM_EPOCHS = 100\n",
        "lr = 3e-4\n",
        "\n",
        "optimizer = optim.AdamW(model.parameters(), lr=lr)"
      ],
      "metadata": {
        "id": "U8wksTpzy-On"
      },
      "execution_count": null,
      "outputs": []
    },
    {
      "cell_type": "code",
      "source": [
        "train(model)"
      ],
      "metadata": {
        "id": "dxjHSlCZzAgI"
      },
      "execution_count": null,
      "outputs": []
    },
    {
      "cell_type": "code",
      "source": [
        "test(model)"
      ],
      "metadata": {
        "id": "Vxr0krC2zB4X"
      },
      "execution_count": null,
      "outputs": []
    },
    {
      "cell_type": "markdown",
      "metadata": {
        "id": "N9ROIoSfpBbI"
      },
      "source": [
        "Сделайте вывод касаемо применения Transfer learning с учетом результатов задания 3."
      ]
    },
    {
      "cell_type": "code",
      "source": [
        "# your conclusions here"
      ],
      "metadata": {
        "id": "L_Baw7aygyOT"
      },
      "execution_count": null,
      "outputs": []
    }
  ]
}