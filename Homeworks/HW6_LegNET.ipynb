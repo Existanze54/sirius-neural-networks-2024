{
  "nbformat": 4,
  "nbformat_minor": 0,
  "metadata": {
    "colab": {
      "provenance": [],
      "include_colab_link": true
    },
    "kernelspec": {
      "name": "python3",
      "display_name": "Python 3"
    },
    "language_info": {
      "name": "python"
    }
  },
  "cells": [
    {
      "cell_type": "markdown",
      "metadata": {
        "id": "view-in-github",
        "colab_type": "text"
      },
      "source": [
        "<a href=\"https://colab.research.google.com/github/Existanze54/sirius-neural-networks-2024/blob/main/Homeworks/HW6_LegNET.ipynb\" target=\"_parent\"><img src=\"https://colab.research.google.com/assets/colab-badge.svg\" alt=\"Open In Colab\"/></a>"
      ]
    },
    {
      "cell_type": "markdown",
      "metadata": {
        "id": "nkmYDuHl2cR7"
      },
      "source": [
        "# Домашнее задание 6. Собираем LegNET\n",
        "\n",
        "Закончите архитекутру LegNET, частично заполненную на семинаре S12_LegNET. Проверьте работоспособность архитектуры, проведя обучение и тест. Удачи!\n"
      ]
    },
    {
      "cell_type": "markdown",
      "source": [
        "## Обзор всех блоков\n",
        "<img src=\"https://github.com/Existanze54/sirius-neural-networks-2024/blob/main/Images/OurLegNET.png?raw=true\" width=\"800px\">\n",
        "\n",
        "Игнорируем часть D., ее не надо трогать в архитектуре\n"
      ],
      "metadata": {
        "id": "AY73SP-Rl2jT"
      }
    },
    {
      "cell_type": "markdown",
      "source": [
        "А дальше вы сами))"
      ],
      "metadata": {
        "id": "ByDB0riRZzpx"
      }
    }
  ]
}