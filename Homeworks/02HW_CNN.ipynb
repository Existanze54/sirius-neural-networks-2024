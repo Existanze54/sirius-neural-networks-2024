{
  "nbformat": 4,
  "nbformat_minor": 0,
  "metadata": {
    "colab": {
      "provenance": [],
      "authorship_tag": "ABX9TyPX+FOYN9jcxaPrJfoypK4f",
      "include_colab_link": true
    },
    "kernelspec": {
      "name": "python3",
      "display_name": "Python 3"
    },
    "language_info": {
      "name": "python"
    }
  },
  "cells": [
    {
      "cell_type": "markdown",
      "metadata": {
        "id": "view-in-github",
        "colab_type": "text"
      },
      "source": [
        "<a href=\"https://colab.research.google.com/github/Existanze54/sirius-neural-networks-2024/blob/main/Homeworks/02HW_CNN.ipynb\" target=\"_parent\"><img src=\"https://colab.research.google.com/assets/colab-badge.svg\" alt=\"Open In Colab\"/></a>"
      ]
    },
    {
      "cell_type": "markdown",
      "metadata": {
        "id": "Q_upCOEI3Upu"
      },
      "source": [
        "## Домашнее задание 2. Сверточные нейронные сети.\n",
        "\n",
        "### О задании\n",
        "\n",
        "В этом задании вам предстоит в продолжение семинара 2 (BloodMNIST) поработать с датасетом RetinaMnist. Для того, чтобы понять, как его скачать, обратитесь к [документации](https://github.com/MedMNIST/MedMNIST)."
      ]
    },
    {
      "cell_type": "code",
      "source": [
        "# your code here"
      ],
      "metadata": {
        "id": "8V2vw1E7QNlz"
      },
      "execution_count": null,
      "outputs": []
    },
    {
      "cell_type": "markdown",
      "source": [
        "Аналогично семинару постройте CNN с небольшим числом слоев (например, 4)."
      ],
      "metadata": {
        "id": "JQv4zFIWQOIh"
      }
    },
    {
      "cell_type": "code",
      "source": [
        "# your code here"
      ],
      "metadata": {
        "id": "V-rs-aBSQO29"
      },
      "execution_count": null,
      "outputs": []
    },
    {
      "cell_type": "markdown",
      "source": [
        "\n",
        "Пооптимизируйте архитектуру вашей нейронной сети:\n",
        "\n",
        "1. Добавьте больше CNN-блоков.\n",
        "\n",
        "2. Попробуйте использовать GlobalAveragePooling.\n",
        "\n",
        "3. Всегда ли увеличение числа сверточных слоев в сети улучшает ее качество? Помогает ли справиться с данной проблемой BatchNorm2D?"
      ],
      "metadata": {
        "id": "qp1DJ348QLt6"
      }
    },
    {
      "cell_type": "code",
      "source": [
        "# your code here"
      ],
      "metadata": {
        "id": "WPRVTKhBQQn9"
      },
      "execution_count": null,
      "outputs": []
    },
    {
      "cell_type": "markdown",
      "source": [
        "Попробуйте применить оптимизированную архитектуру к задаче, разобранной на семинаре 2 (BloodMnist). Улучшилось ли качество и на этом датасете?"
      ],
      "metadata": {
        "id": "9BXWWRY9P9sh"
      }
    },
    {
      "cell_type": "code",
      "source": [
        "# your code here"
      ],
      "metadata": {
        "id": "-4KKNcu6RJfO"
      },
      "execution_count": null,
      "outputs": []
    },
    {
      "cell_type": "markdown",
      "source": [
        "Ссылку на Jupyter Notebook присылать на почту:\n",
        "tailsdoll98@gmail.com\n"
      ],
      "metadata": {
        "id": "i8mP7dPjSzaF"
      }
    },
    {
      "cell_type": "code",
      "source": [],
      "metadata": {
        "id": "mg23MmDpTmYT"
      },
      "execution_count": null,
      "outputs": []
    }
  ]
}