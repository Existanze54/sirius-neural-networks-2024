{
  "nbformat": 4,
  "nbformat_minor": 0,
  "metadata": {
    "colab": {
      "provenance": [],
      "include_colab_link": true
    },
    "kernelspec": {
      "name": "python3",
      "display_name": "Python 3"
    },
    "language_info": {
      "name": "python"
    },
    "accelerator": "GPU"
  },
  "cells": [
    {
      "cell_type": "markdown",
      "metadata": {
        "id": "view-in-github",
        "colab_type": "text"
      },
      "source": [
        "<a href=\"https://colab.research.google.com/github/Existanze54/sirius-neural-networks-2024/blob/main/Practices/02S_Introduction_NNs.ipynb\" target=\"_parent\"><img src=\"https://colab.research.google.com/assets/colab-badge.svg\" alt=\"Open In Colab\"/></a>"
      ]
    },
    {
      "cell_type": "markdown",
      "metadata": {
        "id": "O6TEGCncDdOi"
      },
      "source": [
        "##Упражнение 1"
      ]
    },
    {
      "cell_type": "markdown",
      "metadata": {
        "id": "LqKDdP2GDiaS"
      },
      "source": [
        "В этом упражнении вам нужно будет написать свою нейронную сеть, обучить ее на датасете Breast cancer wisconsin, оценить на сколько хорошо справляется полносвязная нейронная сеть с табличными данными."
      ]
    },
    {
      "cell_type": "code",
      "metadata": {
        "id": "tO9yq2LgDXRd"
      },
      "source": [
        "import numpy as np\n",
        "import pandas as pd\n",
        "import matplotlib.pyplot as plt\n",
        "\n",
        "from IPython.core.display import display\n",
        "\n",
        "import torch\n",
        "import torch.utils.data as data_utils\n",
        "import torch.nn.init as init\n",
        "\n",
        "import torch.nn as nn\n",
        "import torch.nn.functional as F\n",
        "from torch.utils.data import Dataset, DataLoader\n",
        "\n",
        "from sklearn.model_selection import train_test_split\n",
        "from sklearn.preprocessing import StandardScaler\n",
        "from sklearn import datasets, ensemble\n",
        "from sklearn.metrics import roc_auc_score"
      ],
      "execution_count": 1,
      "outputs": []
    },
    {
      "cell_type": "markdown",
      "metadata": {
        "id": "PKMhw3b7FgDM"
      },
      "source": [
        "Загрузите датасет и разделите его на обучающую, валидационную и тестовую выборки. Размер тестового датасета - 25%, размер валидационного - 25% от оставшегося"
      ]
    },
    {
      "cell_type": "code",
      "source": [
        "data = datasets.load_breast_cancer()\n"
      ],
      "metadata": {
        "id": "LOuTxNiir8zE"
      },
      "execution_count": 6,
      "outputs": []
    },
    {
      "cell_type": "code",
      "source": [
        "X = data['data']\n",
        "y = data['target']\n",
        "fn = data['feature_names']"
      ],
      "metadata": {
        "id": "C5tHcT67r-Lh"
      },
      "execution_count": 10,
      "outputs": []
    },
    {
      "cell_type": "code",
      "source": [
        "fn"
      ],
      "metadata": {
        "id": "EWQ67cURsVNz",
        "outputId": "958dc457-b914-4267-957e-d27dff541279",
        "colab": {
          "base_uri": "https://localhost:8080/"
        }
      },
      "execution_count": 12,
      "outputs": [
        {
          "output_type": "execute_result",
          "data": {
            "text/plain": [
              "array(['mean radius', 'mean texture', 'mean perimeter', 'mean area',\n",
              "       'mean smoothness', 'mean compactness', 'mean concavity',\n",
              "       'mean concave points', 'mean symmetry', 'mean fractal dimension',\n",
              "       'radius error', 'texture error', 'perimeter error', 'area error',\n",
              "       'smoothness error', 'compactness error', 'concavity error',\n",
              "       'concave points error', 'symmetry error',\n",
              "       'fractal dimension error', 'worst radius', 'worst texture',\n",
              "       'worst perimeter', 'worst area', 'worst smoothness',\n",
              "       'worst compactness', 'worst concavity', 'worst concave points',\n",
              "       'worst symmetry', 'worst fractal dimension'], dtype='<U23')"
            ]
          },
          "metadata": {},
          "execution_count": 12
        }
      ]
    },
    {
      "cell_type": "code",
      "source": [
        "X.shape"
      ],
      "metadata": {
        "id": "vMQLD5svsTYr",
        "outputId": "13f90c68-81b8-4277-e06e-e3a60524ef14",
        "colab": {
          "base_uri": "https://localhost:8080/"
        }
      },
      "execution_count": 11,
      "outputs": [
        {
          "output_type": "execute_result",
          "data": {
            "text/plain": [
              "(569, 30)"
            ]
          },
          "metadata": {},
          "execution_count": 11
        }
      ]
    },
    {
      "cell_type": "code",
      "source": [
        "X, y = datasets.load_breast_cancer(return_X_y=True)"
      ],
      "metadata": {
        "id": "01t6QoYJq5BM"
      },
      "execution_count": 2,
      "outputs": []
    },
    {
      "cell_type": "code",
      "source": [
        "X.shape"
      ],
      "metadata": {
        "id": "SYf699sxq-AF",
        "outputId": "e3b54fd1-6e88-4f9e-d6f4-0d41a8a21c61",
        "colab": {
          "base_uri": "https://localhost:8080/"
        }
      },
      "execution_count": 3,
      "outputs": [
        {
          "output_type": "execute_result",
          "data": {
            "text/plain": [
              "(569, 30)"
            ]
          },
          "metadata": {},
          "execution_count": 3
        }
      ]
    },
    {
      "cell_type": "code",
      "source": [
        "X[10]"
      ],
      "metadata": {
        "id": "r7N1uvr4rCFB",
        "outputId": "31bbabf0-49ef-43bc-912b-c0a09fe57a00",
        "colab": {
          "base_uri": "https://localhost:8080/"
        }
      },
      "execution_count": 4,
      "outputs": [
        {
          "output_type": "execute_result",
          "data": {
            "text/plain": [
              "array([1.602e+01, 2.324e+01, 1.027e+02, 7.978e+02, 8.206e-02, 6.669e-02,\n",
              "       3.299e-02, 3.323e-02, 1.528e-01, 5.697e-02, 3.795e-01, 1.187e+00,\n",
              "       2.466e+00, 4.051e+01, 4.029e-03, 9.269e-03, 1.101e-02, 7.591e-03,\n",
              "       1.460e-02, 3.042e-03, 1.919e+01, 3.388e+01, 1.238e+02, 1.150e+03,\n",
              "       1.181e-01, 1.551e-01, 1.459e-01, 9.975e-02, 2.948e-01, 8.452e-02])"
            ]
          },
          "metadata": {},
          "execution_count": 4
        }
      ]
    },
    {
      "cell_type": "code",
      "source": [
        "y[0]"
      ],
      "metadata": {
        "id": "I1M6tBt3rDvG",
        "outputId": "a834392c-212d-4141-c334-3c31abc2482e",
        "colab": {
          "base_uri": "https://localhost:8080/"
        }
      },
      "execution_count": 5,
      "outputs": [
        {
          "output_type": "execute_result",
          "data": {
            "text/plain": [
              "0"
            ]
          },
          "metadata": {},
          "execution_count": 5
        }
      ]
    },
    {
      "cell_type": "code",
      "metadata": {
        "id": "OuCD87zMFxHD"
      },
      "source": [
        "X, y = datasets.load_breast_cancer(return_X_y=True)\n",
        "\n",
        "all_train_X, X_test, all_train_y, y_test = train_test_split(X, y, test_size=0.25, random_state=30)\n",
        "X_train, X_val, y_train, y_val = train_test_split(all_train_X, all_train_y, test_size=0.25, random_state=30)"
      ],
      "execution_count": 2,
      "outputs": []
    },
    {
      "cell_type": "markdown",
      "metadata": {
        "id": "p736f-HdG5rG"
      },
      "source": [
        "Продемонстрируйте размерность датасетов\n"
      ]
    },
    {
      "cell_type": "code",
      "metadata": {
        "id": "np6CtpR6Mfpk",
        "outputId": "02592748-de2b-495d-e62e-f16770893872",
        "colab": {
          "base_uri": "https://localhost:8080/"
        }
      },
      "source": [
        "X_train.shape, X_test.shape, X_val.shape"
      ],
      "execution_count": 15,
      "outputs": [
        {
          "output_type": "execute_result",
          "data": {
            "text/plain": [
              "((319, 30), (143, 30), (107, 30))"
            ]
          },
          "metadata": {},
          "execution_count": 15
        }
      ]
    },
    {
      "cell_type": "markdown",
      "metadata": {
        "id": "6KjrzTdKHIqN"
      },
      "source": [
        "Реализуйте полносвязную модель. Не стоит делать больше 2-3 скрытых слоев."
      ]
    },
    {
      "cell_type": "code",
      "metadata": {
        "id": "Q8s1eCJiHl0o"
      },
      "source": [
        "class NeuralNetwork(nn.Module):\n",
        "    def __init__(self):\n",
        "        super().__init__()\n",
        "        self.model = nn.Sequential(nn.Linear(30, 64),\n",
        "                                   nn.ReLU(),\n",
        "                                   nn.Linear(64, 128),\n",
        "                                   nn.ReLU(),\n",
        "                                   nn.Linear(128, 1),\n",
        "                                   nn.Sigmoid())\n",
        "\n",
        "    def forward(self, x):\n",
        "        x = self.model(x)\n",
        "        return x"
      ],
      "execution_count": 3,
      "outputs": []
    },
    {
      "cell_type": "markdown",
      "metadata": {
        "id": "3DZJsTd9HvsI"
      },
      "source": [
        "Задайте модель, критерий и оптимизатор"
      ]
    },
    {
      "cell_type": "code",
      "metadata": {
        "id": "Fss9iIEZE67Y"
      },
      "source": [
        "device = torch.device(\"cpu\") # we'll use cpu here\n",
        "model = NeuralNetwork()\n",
        "model = model.to(device)\n",
        "optimizer = torch.optim.SGD(model.parameters(), lr=0.0001) # your code here, set lr to 0.0001\n",
        "criterion = nn.BCELoss() # используйте эту функцию в качестве лосса. Она нужна для бинарной классификации."
      ],
      "execution_count": 4,
      "outputs": []
    },
    {
      "cell_type": "markdown",
      "metadata": {
        "id": "JNuazZ8KNaHH"
      },
      "source": [
        "Основной цикл обучения. В модель можно подавать сразу весь датасет"
      ]
    },
    {
      "cell_type": "code",
      "source": [
        "X_train = torch.from_numpy(X_train).float().to(device)"
      ],
      "metadata": {
        "id": "F6RIc3_1ve2L"
      },
      "execution_count": 19,
      "outputs": []
    },
    {
      "cell_type": "code",
      "source": [
        "y_pred = model(X_train)"
      ],
      "metadata": {
        "id": "moxHbzJkvgC4"
      },
      "execution_count": 20,
      "outputs": []
    },
    {
      "cell_type": "code",
      "source": [
        "y_pred.shape"
      ],
      "metadata": {
        "id": "UhlNr9yZvknh",
        "outputId": "76cbc85a-59ac-45cf-c04b-12600f3f4ca6",
        "colab": {
          "base_uri": "https://localhost:8080/"
        }
      },
      "execution_count": 21,
      "outputs": [
        {
          "output_type": "execute_result",
          "data": {
            "text/plain": [
              "torch.Size([319, 1])"
            ]
          },
          "metadata": {},
          "execution_count": 21
        }
      ]
    },
    {
      "cell_type": "code",
      "source": [
        "y_pred.view(-1)"
      ],
      "metadata": {
        "id": "B5-kJX_dvyjG",
        "outputId": "5335381b-8065-4794-de42-8bcaa07b1cc8",
        "colab": {
          "base_uri": "https://localhost:8080/"
        }
      },
      "execution_count": 23,
      "outputs": [
        {
          "output_type": "execute_result",
          "data": {
            "text/plain": [
              "tensor([0.9996, 0.9850, 0.9396, 0.9719, 0.9754, 0.9631, 1.0000, 0.9553, 0.9697,\n",
              "        0.8951, 0.8894, 0.8954, 0.9747, 0.9987, 0.9861, 0.9155, 0.9982, 0.9997,\n",
              "        0.9255, 0.9941, 0.9166, 0.9291, 0.9664, 0.9997, 0.9775, 0.9512, 0.8958,\n",
              "        0.9705, 0.9980, 0.9530, 0.9858, 0.9350, 0.9996, 0.9005, 0.8943, 0.9999,\n",
              "        0.9458, 0.9990, 0.9996, 0.9393, 0.9724, 0.9934, 0.9505, 0.8878, 0.9952,\n",
              "        0.9534, 1.0000, 0.9541, 0.9987, 0.9294, 0.9914, 0.9471, 0.9995, 0.9554,\n",
              "        0.9999, 0.9997, 0.9881, 0.9725, 0.9665, 0.9959, 0.9729, 0.9839, 0.9962,\n",
              "        0.9985, 0.9956, 0.9320, 0.9989, 0.9080, 0.9776, 0.8978, 0.9990, 0.9995,\n",
              "        0.9747, 0.9357, 0.9446, 0.9940, 0.9858, 0.9849, 0.9922, 0.9102, 0.9898,\n",
              "        0.9541, 0.9544, 0.9949, 0.9629, 0.9533, 0.8713, 1.0000, 0.8953, 0.9622,\n",
              "        0.9999, 0.9404, 0.9318, 0.9545, 0.9464, 0.9293, 0.9995, 0.9629, 0.9407,\n",
              "        0.9328, 0.9534, 0.9451, 0.9966, 0.9383, 0.8851, 0.9439, 0.9742, 0.9481,\n",
              "        0.9954, 0.9914, 0.9727, 0.9947, 1.0000, 0.9714, 0.9183, 0.8883, 0.9930,\n",
              "        0.9653, 1.0000, 0.9435, 0.9148, 0.9963, 0.9997, 0.9669, 0.9779, 1.0000,\n",
              "        0.9992, 0.9581, 0.9986, 0.9970, 0.9093, 0.9671, 0.9855, 0.9971, 0.9440,\n",
              "        1.0000, 0.9994, 1.0000, 0.9497, 0.9466, 0.9200, 0.9967, 0.9804, 0.9998,\n",
              "        0.9842, 0.9509, 0.9675, 0.9662, 0.9894, 0.9232, 0.9713, 0.9544, 0.9033,\n",
              "        0.9526, 0.9141, 1.0000, 0.8688, 0.9220, 0.9005, 0.9412, 0.9620, 0.9702,\n",
              "        0.9429, 0.9181, 0.9936, 0.9368, 0.9161, 0.8680, 0.9910, 1.0000, 0.9662,\n",
              "        0.9374, 0.8529, 0.9524, 0.9620, 0.9580, 1.0000, 0.9511, 0.9044, 0.9399,\n",
              "        1.0000, 0.9975, 0.9092, 0.9560, 0.9716, 0.9979, 0.8967, 0.9401, 0.8925,\n",
              "        0.9985, 0.9003, 0.9749, 0.9863, 0.9379, 0.8880, 0.9798, 0.9858, 0.9997,\n",
              "        0.9972, 0.9979, 0.9999, 0.8532, 0.9985, 0.9131, 0.8626, 0.9474, 0.9365,\n",
              "        0.9073, 0.9427, 0.9998, 0.9973, 0.9866, 0.9384, 0.9999, 0.9663, 0.9663,\n",
              "        0.9769, 0.9741, 0.9963, 0.9420, 0.9724, 0.9957, 0.9161, 0.9838, 1.0000,\n",
              "        0.9924, 0.9397, 0.9561, 0.9771, 0.9488, 0.8537, 0.9098, 0.9718, 0.9219,\n",
              "        1.0000, 1.0000, 0.9330, 0.9545, 0.9462, 0.9736, 0.9366, 0.9347, 0.9979,\n",
              "        1.0000, 0.9971, 0.9896, 0.9051, 0.8730, 0.9994, 0.9715, 0.9715, 0.9676,\n",
              "        0.9651, 0.9894, 0.9360, 0.9263, 0.9997, 0.8954, 1.0000, 0.9815, 0.9665,\n",
              "        0.9854, 0.8964, 0.9526, 0.9999, 0.9633, 0.9730, 0.9521, 0.9995, 1.0000,\n",
              "        0.9308, 0.9776, 1.0000, 0.9944, 0.9789, 0.9993, 0.9997, 0.9438, 0.9863,\n",
              "        0.9272, 0.9677, 0.9362, 0.9508, 0.9281, 0.9268, 0.9996, 0.9870, 1.0000,\n",
              "        0.9388, 0.9935, 0.9326, 0.9125, 0.9577, 0.9933, 0.8690, 0.9991, 0.9934,\n",
              "        0.9827, 0.9568, 0.9981, 0.9376, 0.9995, 0.9209, 0.9193, 0.9961, 0.9006,\n",
              "        0.9828, 0.9887, 0.9966, 0.9997, 0.9994, 0.9930, 0.9912, 0.9848, 0.8787,\n",
              "        0.9457, 0.9756, 0.9884, 0.9834], grad_fn=<ViewBackward0>)"
            ]
          },
          "metadata": {},
          "execution_count": 23
        }
      ]
    },
    {
      "cell_type": "code",
      "source": [
        "y_train = torch.from_numpy(y_train).float().to(device)\n",
        "\n",
        "y_pred = model(X_train)\n",
        "y_pred = y_pred.view(-1)\n",
        "loss = criterion(y_pred, y_train)"
      ],
      "metadata": {
        "id": "drTqYnf_vvd3"
      },
      "execution_count": 25,
      "outputs": []
    },
    {
      "cell_type": "code",
      "source": [
        "loss.detach().numpy()"
      ],
      "metadata": {
        "id": "E8DUoSBdxerm",
        "outputId": "d3e2e575-45cc-4106-8fef-a7b658439ae7",
        "colab": {
          "base_uri": "https://localhost:8080/"
        }
      },
      "execution_count": 31,
      "outputs": [
        {
          "output_type": "execute_result",
          "data": {
            "text/plain": [
              "array(3.248522, dtype=float32)"
            ]
          },
          "metadata": {},
          "execution_count": 31
        }
      ]
    },
    {
      "cell_type": "code",
      "source": [
        "loss.numpy()"
      ],
      "metadata": {
        "id": "MDbZrYpyxb8V",
        "outputId": "27b516e4-df43-4275-ec53-710f695823a2",
        "colab": {
          "base_uri": "https://localhost:8080/",
          "height": 144
        }
      },
      "execution_count": 26,
      "outputs": [
        {
          "output_type": "error",
          "ename": "RuntimeError",
          "evalue": "Can't call numpy() on Tensor that requires grad. Use tensor.detach().numpy() instead.",
          "traceback": [
            "\u001b[0;31m---------------------------------------------------------------------------\u001b[0m",
            "\u001b[0;31mRuntimeError\u001b[0m                              Traceback (most recent call last)",
            "\u001b[0;32m<ipython-input-26-6fb113065b3c>\u001b[0m in \u001b[0;36m<cell line: 1>\u001b[0;34m()\u001b[0m\n\u001b[0;32m----> 1\u001b[0;31m \u001b[0mloss\u001b[0m\u001b[0;34m.\u001b[0m\u001b[0mnumpy\u001b[0m\u001b[0;34m(\u001b[0m\u001b[0;34m)\u001b[0m\u001b[0;34m\u001b[0m\u001b[0;34m\u001b[0m\u001b[0m\n\u001b[0m",
            "\u001b[0;31mRuntimeError\u001b[0m: Can't call numpy() on Tensor that requires grad. Use tensor.detach().numpy() instead."
          ]
        }
      ]
    },
    {
      "cell_type": "code",
      "metadata": {
        "id": "5PTRUC3QH2Dh"
      },
      "source": [
        "train_losses = []\n",
        "val_losses = []\n",
        "\n",
        "X_train = torch.from_numpy(X_train).float().to(device)\n",
        "y_train = torch.from_numpy(y_train).float().to(device)\n",
        "X_val = torch.from_numpy(X_val).float().to(device)\n",
        "y_val = torch.from_numpy(y_val).float().to(device)\n",
        "\n",
        "for i in range(10000):\n",
        "    model.train()\n",
        "\n",
        "    y_pred = model(X_train)\n",
        "    y_pred = y_pred.view(-1)\n",
        "    loss = criterion(y_pred, y_train)\n",
        "    optimizer.zero_grad()\n",
        "    loss.backward()\n",
        "    optimizer.step()\n",
        "    train_losses.append(loss.detach().numpy())\n",
        "\n",
        "    with torch.no_grad(): # if no OPTIMIZATION, we can skip grad calculation\n",
        "        # same, but only to get validation score. NO OPTIMIZATION\n",
        "        y_pred = model(X_val)\n",
        "        y_pred = y_pred.view(-1)\n",
        "        val_loss = criterion(y_pred, y_val)\n",
        "        val_losses.append(val_loss.detach().numpy())"
      ],
      "execution_count": 5,
      "outputs": []
    },
    {
      "cell_type": "code",
      "source": [
        "model.eval()"
      ],
      "metadata": {
        "id": "xPGzqHcV124C"
      },
      "execution_count": null,
      "outputs": []
    },
    {
      "cell_type": "markdown",
      "metadata": {
        "id": "uPMoVimLNeFG"
      },
      "source": [
        "Постройте график loss и accuracy от эпохи."
      ]
    },
    {
      "cell_type": "code",
      "metadata": {
        "id": "85LhPsw4G1ce",
        "outputId": "ae4c06b5-756b-4677-958b-0708e0d114c6",
        "colab": {
          "base_uri": "https://localhost:8080/",
          "height": 430
        }
      },
      "source": [
        "import matplotlib.pyplot as plt\n",
        "plt.plot(train_losses, label=\"train\")\n",
        "plt.plot(val_losses, label=\"val\")\n",
        "plt.legend()\n",
        "plt.show()"
      ],
      "execution_count": 6,
      "outputs": [
        {
          "output_type": "display_data",
          "data": {
            "text/plain": [
              "<Figure size 640x480 with 1 Axes>"
            ],
            "image/png": "[encoded data removed]"
          },
          "metadata": {}
        }
      ]
    },
    {
      "cell_type": "code",
      "source": [
        "import matplotlib.pyplot as plt\n",
        "plt.plot(train_losses[:300], label=\"train\")\n",
        "plt.plot(val_losses[:300], label=\"val\")\n",
        "plt.legend()\n",
        "plt.show()"
      ],
      "metadata": {
        "id": "mwrSZ96Pysta",
        "outputId": "7b7ba05c-cda4-4085-c43b-6ea3a74dacd9",
        "colab": {
          "base_uri": "https://localhost:8080/",
          "height": 430
        }
      },
      "execution_count": 36,
      "outputs": [
        {
          "output_type": "display_data",
          "data": {
            "text/plain": [
              "<Figure size 640x480 with 1 Axes>"
            ],
            "image/png": "[encoded data removed]"
          },
          "metadata": {}
        }
      ]
    },
    {
      "cell_type": "markdown",
      "metadata": {
        "id": "A8mypULhHZ15"
      },
      "source": [
        "Посчитайте качество на test\n"
      ]
    },
    {
      "cell_type": "code",
      "metadata": {
        "id": "lA6MQ4y_Hkkn",
        "outputId": "58044afa-fbbe-442b-b677-68f9176fd245",
        "colab": {
          "base_uri": "https://localhost:8080/"
        }
      },
      "source": [
        "with torch.no_grad():\n",
        "        y_pred = model(torch.from_numpy(X_test).float())\n",
        "        y_pred = y_pred.view(-1).numpy()\n",
        "roc_auc_score(y_score=y_pred, y_true=y_test)"
      ],
      "execution_count": 8,
      "outputs": [
        {
          "output_type": "execute_result",
          "data": {
            "text/plain": [
              "0.9676669484361792"
            ]
          },
          "metadata": {},
          "execution_count": 8
        }
      ]
    },
    {
      "cell_type": "markdown",
      "metadata": {
        "id": "TFhB2VHLCCS3"
      },
      "source": [
        "## Упражнение 2\n",
        "\n",
        "Нормализуйте ваши данные и посмотрите на качество нейросети в зависимости от эпохи. Что-то изменилось?\n",
        "\n",
        "Объясните, почему"
      ]
    },
    {
      "cell_type": "code",
      "metadata": {
        "id": "TCp0aGv0CLvj"
      },
      "source": [
        "from sklearn.preprocessing import StandardScaler"
      ],
      "execution_count": 9,
      "outputs": []
    },
    {
      "cell_type": "code",
      "metadata": {
        "id": "gFqM04-eNBAX"
      },
      "source": [
        "scaler = StandardScaler()\n",
        "scaler.fit(X_train)\n",
        "X_train_sc = scaler.transform(X_train)\n",
        "X_val_sc = scaler.transform(X_val)\n",
        "X_test_sc = scaler.transform(X_test)"
      ],
      "execution_count": 10,
      "outputs": []
    },
    {
      "cell_type": "code",
      "metadata": {
        "id": "O_mMJzkGN5VP"
      },
      "source": [
        "device = torch.device(\"cpu\") # we'll use cpu here\n",
        "model = NeuralNetwork()\n",
        "model = model.to(device)\n",
        "optimizer = torch.optim.SGD(model.parameters(), lr=0.0001) # your code here, set lr to 0.0001\n",
        "criterion = nn.BCELoss() # используйте эту функцию в качестве лосса. Она нужна для бинарной классификации."
      ],
      "execution_count": 11,
      "outputs": []
    },
    {
      "cell_type": "code",
      "metadata": {
        "id": "7X4k637dNoPV"
      },
      "source": [
        "train_losses = []\n",
        "val_losses = []\n",
        "\n",
        "X_train_sc = torch.from_numpy(X_train_sc).float().to(device)\n",
        "#y_train = torch.from_numpy(y_train).float().to(device)\n",
        "X_val_sc = torch.from_numpy(X_val_sc).float().to(device)\n",
        "#y_val = torch.from_numpy(y_val).float().to(device)\n",
        "\n",
        "for i in range(10000):\n",
        "    model.train()\n",
        "\n",
        "    y_pred = model(X_train_sc)\n",
        "    y_pred = y_pred.view(-1)\n",
        "    loss = criterion(y_pred, y_train)\n",
        "    optimizer.zero_grad()\n",
        "    loss.backward()\n",
        "    optimizer.step()\n",
        "    train_losses.append(loss.detach().numpy())\n",
        "\n",
        "    with torch.no_grad(): # if no OPTIMIZATION, we can skip grad calculation\n",
        "        # same, but only to get validation score. NO OPTIMIZATION\n",
        "        y_pred = model(X_val_sc)\n",
        "        y_pred = y_pred.view(-1)\n",
        "        val_loss = criterion(y_pred, y_val)\n",
        "        val_losses.append(val_loss.detach().numpy())"
      ],
      "execution_count": 12,
      "outputs": []
    },
    {
      "cell_type": "code",
      "metadata": {
        "id": "Zm3uKJDvNurp",
        "outputId": "b609edeb-2829-47f5-ee30-c3b67fb93796",
        "colab": {
          "base_uri": "https://localhost:8080/",
          "height": 430
        }
      },
      "source": [
        "import matplotlib.pyplot as plt\n",
        "plt.plot(train_losses, label=\"train\")\n",
        "plt.plot(val_losses, label=\"val\")\n",
        "plt.legend()\n",
        "plt.show()"
      ],
      "execution_count": 13,
      "outputs": [
        {
          "output_type": "display_data",
          "data": {
            "text/plain": [
              "<Figure size 640x480 with 1 Axes>"
            ],
            "image/png": "[encoded data removed]"
          },
          "metadata": {}
        }
      ]
    },
    {
      "cell_type": "code",
      "metadata": {
        "id": "kmiTMsMKONkf",
        "outputId": "00455fcd-7960-4201-8d79-01d47c79377b",
        "colab": {
          "base_uri": "https://localhost:8080/"
        }
      },
      "source": [
        "with torch.no_grad():\n",
        "        y_pred = model(torch.from_numpy(X_test_sc).float())\n",
        "        y_pred = y_pred.view(-1).numpy()\n",
        "roc_auc_score(y_score=y_pred, y_true=y_test)"
      ],
      "execution_count": 14,
      "outputs": [
        {
          "output_type": "execute_result",
          "data": {
            "text/plain": [
              "0.9820371935756551"
            ]
          },
          "metadata": {},
          "execution_count": 14
        }
      ]
    },
    {
      "cell_type": "code",
      "source": [],
      "metadata": {
        "id": "dnWUPKNo2_OE"
      },
      "execution_count": null,
      "outputs": []
    },
    {
      "cell_type": "code",
      "source": [
        "device = torch.device(\"cpu\") # we'll use cpu here\n",
        "model = NeuralNetwork()\n",
        "model = model.to(device)\n",
        "optimizer = torch.optim.SGD(model.parameters(), lr=0.01) # your code here, set lr to 0.0001\n",
        "criterion = nn.BCELoss() # используйте эту функцию в качестве лосса. Она нужна для бинарной классификации."
      ],
      "metadata": {
        "id": "wby4WGrA27Bo"
      },
      "execution_count": 15,
      "outputs": []
    },
    {
      "cell_type": "code",
      "source": [
        "train_losses = []\n",
        "val_losses = []\n",
        "\n",
        "#X_train_sc = torch.from_numpy(X_train_sc).float().to(device)\n",
        "#y_train = torch.from_numpy(y_train).float().to(device)\n",
        "#X_val_sc = torch.from_numpy(X_val_sc).float().to(device)\n",
        "#y_val = torch.from_numpy(y_val).float().to(device)\n",
        "\n",
        "for i in range(10000):\n",
        "    model.train()\n",
        "\n",
        "    y_pred = model(X_train_sc)\n",
        "    y_pred = y_pred.view(-1)\n",
        "    loss = criterion(y_pred, y_train)\n",
        "    optimizer.zero_grad()\n",
        "    loss.backward()\n",
        "    optimizer.step()\n",
        "    train_losses.append(loss.detach().numpy())\n",
        "\n",
        "    with torch.no_grad(): # if no OPTIMIZATION, we can skip grad calculation\n",
        "        # same, but only to get validation score. NO OPTIMIZATION\n",
        "        y_pred = model(X_val_sc)\n",
        "        y_pred = y_pred.view(-1)\n",
        "        val_loss = criterion(y_pred, y_val)\n",
        "        val_losses.append(val_loss.detach().numpy())"
      ],
      "metadata": {
        "id": "AnzdCRuY2-G5"
      },
      "execution_count": 16,
      "outputs": []
    },
    {
      "cell_type": "code",
      "source": [
        "import matplotlib.pyplot as plt\n",
        "plt.plot(train_losses, label=\"train\")\n",
        "plt.plot(val_losses, label=\"val\")\n",
        "plt.legend()\n",
        "plt.show()"
      ],
      "metadata": {
        "id": "keoOcb4Y4TF5",
        "outputId": "81caa261-2e4d-482a-8386-ef94e448e7cc",
        "colab": {
          "base_uri": "https://localhost:8080/",
          "height": 430
        }
      },
      "execution_count": 17,
      "outputs": [
        {
          "output_type": "display_data",
          "data": {
            "text/plain": [
              "<Figure size 640x480 with 1 Axes>"
            ],
            "image/png": "[encoded data removed]"
          },
          "metadata": {}
        }
      ]
    },
    {
      "cell_type": "code",
      "source": [
        "np.argmin(val_losses)"
      ],
      "metadata": {
        "id": "NBSkZjwG4dYW",
        "outputId": "2c0eff05-dbdc-494a-e3d9-575aaaacc4c4",
        "colab": {
          "base_uri": "https://localhost:8080/"
        }
      },
      "execution_count": 18,
      "outputs": [
        {
          "output_type": "execute_result",
          "data": {
            "text/plain": [
              "5197"
            ]
          },
          "metadata": {},
          "execution_count": 18
        }
      ]
    },
    {
      "cell_type": "code",
      "source": [
        "device = torch.device(\"cpu\") # we'll use cpu here\n",
        "model = NeuralNetwork()\n",
        "model = model.to(device)\n",
        "optimizer = torch.optim.SGD(model.parameters(), lr=0.01) # your code here, set lr to 0.0001\n",
        "criterion = nn.BCELoss() # используйте эту функцию в качестве лосса. Она нужна для бинарной классификации."
      ],
      "metadata": {
        "id": "yxU2C12e4qYL"
      },
      "execution_count": 19,
      "outputs": []
    },
    {
      "cell_type": "code",
      "source": [
        "train_losses = []\n",
        "val_losses = []\n",
        "\n",
        "#X_train_sc = torch.from_numpy(X_train_sc).float().to(device)\n",
        "#y_train = torch.from_numpy(y_train).float().to(device)\n",
        "#X_val_sc = torch.from_numpy(X_val_sc).float().to(device)\n",
        "#y_val = torch.from_numpy(y_val).float().to(device)\n",
        "\n",
        "for i in range(5200):\n",
        "    model.train()\n",
        "\n",
        "    y_pred = model(X_train_sc)\n",
        "    y_pred = y_pred.view(-1)\n",
        "    loss = criterion(y_pred, y_train)\n",
        "    optimizer.zero_grad()\n",
        "    loss.backward()\n",
        "    optimizer.step()\n",
        "    train_losses.append(loss.detach().numpy())\n",
        "\n",
        "    with torch.no_grad(): # if no OPTIMIZATION, we can skip grad calculation\n",
        "        # same, but only to get validation score. NO OPTIMIZATION\n",
        "        y_pred = model(X_val_sc)\n",
        "        y_pred = y_pred.view(-1)\n",
        "        val_loss = criterion(y_pred, y_val)\n",
        "        val_losses.append(val_loss.detach().numpy())"
      ],
      "metadata": {
        "id": "tTbWMGi-4smE"
      },
      "execution_count": 20,
      "outputs": []
    },
    {
      "cell_type": "code",
      "source": [
        "import matplotlib.pyplot as plt\n",
        "plt.plot(train_losses, label=\"train\")\n",
        "plt.plot(val_losses, label=\"val\")\n",
        "plt.legend()\n",
        "plt.show()"
      ],
      "metadata": {
        "id": "bLCzkPQy4vri",
        "outputId": "eab2cbc9-8daf-455f-9fea-f08dc6f318f7",
        "colab": {
          "base_uri": "https://localhost:8080/",
          "height": 430
        }
      },
      "execution_count": 21,
      "outputs": [
        {
          "output_type": "display_data",
          "data": {
            "text/plain": [
              "<Figure size 640x480 with 1 Axes>"
            ],
            "image/png": "[encoded data removed]"
          },
          "metadata": {}
        }
      ]
    },
    {
      "cell_type": "code",
      "source": [
        "with torch.no_grad():\n",
        "        y_pred = model(torch.from_numpy(X_test_sc).float())\n",
        "        y_pred = y_pred.view(-1).numpy()\n",
        "roc_auc_score(y_score=y_pred, y_true=y_test)"
      ],
      "metadata": {
        "id": "Rdy1bG1y468E",
        "outputId": "209935e2-a11a-4d55-fc9f-8ca4de3f48f7",
        "colab": {
          "base_uri": "https://localhost:8080/"
        }
      },
      "execution_count": 22,
      "outputs": [
        {
          "output_type": "execute_result",
          "data": {
            "text/plain": [
              "0.9985207100591716"
            ]
          },
          "metadata": {},
          "execution_count": 22
        }
      ]
    },
    {
      "cell_type": "markdown",
      "metadata": {
        "id": "-JanKjOwKrQe"
      },
      "source": [
        "## Упражнение 3\n",
        "\n",
        "Сравните скорости обучения на cpu и gpu"
      ]
    },
    {
      "cell_type": "code",
      "metadata": {
        "id": "cwgJZNteLDBO"
      },
      "source": [
        "device = torch.device(\"cuda\")\n",
        "# your code here"
      ],
      "execution_count": null,
      "outputs": []
    },
    {
      "cell_type": "code",
      "metadata": {
        "id": "Bbdwf63eK5kL"
      },
      "source": [
        "# your code here"
      ],
      "execution_count": null,
      "outputs": []
    },
    {
      "cell_type": "code",
      "metadata": {
        "id": "btnkqZb-Ll3i"
      },
      "source": [
        "# your code here"
      ],
      "execution_count": null,
      "outputs": []
    },
    {
      "cell_type": "code",
      "metadata": {
        "id": "S5dWmM2rLpFb"
      },
      "source": [
        "# your code here"
      ],
      "execution_count": null,
      "outputs": []
    },
    {
      "cell_type": "markdown",
      "metadata": {
        "id": "UKUxgrQMB0EX"
      },
      "source": [
        "## Упражнение 4\n",
        "\n",
        "А теперь давайте сравнимся с качеством XGBoost. Не подбираем параметры кроме числа деревьев"
      ]
    },
    {
      "cell_type": "code",
      "metadata": {
        "id": "QwK7YZS8CQxR",
        "outputId": "7c66f98d-e114-47c9-94e2-927ee6933c5a",
        "colab": {
          "base_uri": "https://localhost:8080/",
          "height": 1000
        }
      },
      "source": [
        "import xgboost as xgb\n",
        "\n",
        "model = xgb.XGBClassifier(n_estimators=1000, learning_rate=0.05) # your code here, use classifier,  n_estimators=1000, learning_rate=0.05\n",
        "model.fit(X_train, y_train,\n",
        "          eval_set=[(X_val, y_val)])\n",
        "          # provide xgboost with validation set for automatic number of estimators selection )\n"
      ],
      "execution_count": 25,
      "outputs": [
        {
          "output_type": "stream",
          "name": "stdout",
          "text": [
            "[0]\tvalidation_0-logloss:0.61817\n",
            "[1]\tvalidation_0-logloss:0.58389\n",
            "[2]\tvalidation_0-logloss:0.55219\n",
            "[3]\tvalidation_0-logloss:0.52420\n",
            "[4]\tvalidation_0-logloss:0.49801\n",
            "[5]\tvalidation_0-logloss:0.47466\n",
            "[6]\tvalidation_0-logloss:0.45163\n",
            "[7]\tvalidation_0-logloss:0.43085\n",
            "[8]\tvalidation_0-logloss:0.41129\n",
            "[9]\tvalidation_0-logloss:0.39348\n",
            "[10]\tvalidation_0-logloss:0.37654\n",
            "[11]\tvalidation_0-logloss:0.36150\n",
            "[12]\tvalidation_0-logloss:0.34832\n",
            "[13]\tvalidation_0-logloss:0.33449\n",
            "[14]\tvalidation_0-logloss:0.32244\n",
            "[15]\tvalidation_0-logloss:0.31052\n",
            "[16]\tvalidation_0-logloss:0.29912\n",
            "[17]\tvalidation_0-logloss:0.28920\n",
            "[18]\tvalidation_0-logloss:0.27929\n",
            "[19]\tvalidation_0-logloss:0.27037\n",
            "[20]\tvalidation_0-logloss:0.26220\n",
            "[21]\tvalidation_0-logloss:0.25331\n",
            "[22]\tvalidation_0-logloss:0.24617\n",
            "[23]\tvalidation_0-logloss:0.23955\n",
            "[24]\tvalidation_0-logloss:0.23341\n",
            "[25]\tvalidation_0-logloss:0.22786\n",
            "[26]\tvalidation_0-logloss:0.22210\n",
            "[27]\tvalidation_0-logloss:0.21729\n",
            "[28]\tvalidation_0-logloss:0.21225\n",
            "[29]\tvalidation_0-logloss:0.20825\n",
            "[30]\tvalidation_0-logloss:0.20377\n",
            "[31]\tvalidation_0-logloss:0.20052\n",
            "[32]\tvalidation_0-logloss:0.19644\n",
            "[33]\tvalidation_0-logloss:0.19294\n",
            "[34]\tvalidation_0-logloss:0.19026\n",
            "[35]\tvalidation_0-logloss:0.18648\n",
            "[36]\tvalidation_0-logloss:0.18409\n",
            "[37]\tvalidation_0-logloss:0.18023\n",
            "[38]\tvalidation_0-logloss:0.17748\n",
            "[39]\tvalidation_0-logloss:0.17403\n",
            "[40]\tvalidation_0-logloss:0.17096\n",
            "[41]\tvalidation_0-logloss:0.16793\n",
            "[42]\tvalidation_0-logloss:0.16509\n",
            "[43]\tvalidation_0-logloss:0.16288\n",
            "[44]\tvalidation_0-logloss:0.16159\n",
            "[45]\tvalidation_0-logloss:0.15992\n",
            "[46]\tvalidation_0-logloss:0.15765\n",
            "[47]\tvalidation_0-logloss:0.15553\n",
            "[48]\tvalidation_0-logloss:0.15356\n",
            "[49]\tvalidation_0-logloss:0.15174\n",
            "[50]\tvalidation_0-logloss:0.14992\n",
            "[51]\tvalidation_0-logloss:0.14822\n",
            "[52]\tvalidation_0-logloss:0.14665\n",
            "[53]\tvalidation_0-logloss:0.14622\n",
            "[54]\tvalidation_0-logloss:0.14491\n",
            "[55]\tvalidation_0-logloss:0.14440\n",
            "[56]\tvalidation_0-logloss:0.14354\n",
            "[57]\tvalidation_0-logloss:0.14261\n",
            "[58]\tvalidation_0-logloss:0.14127\n",
            "[59]\tvalidation_0-logloss:0.14040\n",
            "[60]\tvalidation_0-logloss:0.13874\n",
            "[61]\tvalidation_0-logloss:0.13758\n",
            "[62]\tvalidation_0-logloss:0.13664\n",
            "[63]\tvalidation_0-logloss:0.13622\n",
            "[64]\tvalidation_0-logloss:0.13524\n",
            "[65]\tvalidation_0-logloss:0.13476\n",
            "[66]\tvalidation_0-logloss:0.13490\n",
            "[67]\tvalidation_0-logloss:0.13416\n",
            "[68]\tvalidation_0-logloss:0.13378\n",
            "[69]\tvalidation_0-logloss:0.13331\n",
            "[70]\tvalidation_0-logloss:0.13393\n",
            "[71]\tvalidation_0-logloss:0.13335\n",
            "[72]\tvalidation_0-logloss:0.13308\n",
            "[73]\tvalidation_0-logloss:0.13233\n",
            "[74]\tvalidation_0-logloss:0.13237\n",
            "[75]\tvalidation_0-logloss:0.13309\n",
            "[76]\tvalidation_0-logloss:0.13349\n",
            "[77]\tvalidation_0-logloss:0.13359\n",
            "[78]\tvalidation_0-logloss:0.13346\n",
            "[79]\tvalidation_0-logloss:0.13361\n",
            "[80]\tvalidation_0-logloss:0.13407\n",
            "[81]\tvalidation_0-logloss:0.13375\n",
            "[82]\tvalidation_0-logloss:0.13329\n",
            "[83]\tvalidation_0-logloss:0.13298\n",
            "[84]\tvalidation_0-logloss:0.13383\n",
            "[85]\tvalidation_0-logloss:0.13382\n",
            "[86]\tvalidation_0-logloss:0.13338\n",
            "[87]\tvalidation_0-logloss:0.13260\n",
            "[88]\tvalidation_0-logloss:0.13349\n",
            "[89]\tvalidation_0-logloss:0.13280\n",
            "[90]\tvalidation_0-logloss:0.13285\n",
            "[91]\tvalidation_0-logloss:0.13250\n",
            "[92]\tvalidation_0-logloss:0.13226\n",
            "[93]\tvalidation_0-logloss:0.13171\n",
            "[94]\tvalidation_0-logloss:0.13238\n",
            "[95]\tvalidation_0-logloss:0.13186\n",
            "[96]\tvalidation_0-logloss:0.13268\n",
            "[97]\tvalidation_0-logloss:0.13263\n",
            "[98]\tvalidation_0-logloss:0.13331\n",
            "[99]\tvalidation_0-logloss:0.13282\n",
            "[100]\tvalidation_0-logloss:0.13230\n",
            "[101]\tvalidation_0-logloss:0.13298\n",
            "[102]\tvalidation_0-logloss:0.13296\n",
            "[103]\tvalidation_0-logloss:0.13364\n",
            "[104]\tvalidation_0-logloss:0.13320\n",
            "[105]\tvalidation_0-logloss:0.13226\n",
            "[106]\tvalidation_0-logloss:0.13155\n",
            "[107]\tvalidation_0-logloss:0.13213\n",
            "[108]\tvalidation_0-logloss:0.13176\n",
            "[109]\tvalidation_0-logloss:0.13142\n",
            "[110]\tvalidation_0-logloss:0.13080\n",
            "[111]\tvalidation_0-logloss:0.13082\n",
            "[112]\tvalidation_0-logloss:0.13083\n",
            "[113]\tvalidation_0-logloss:0.13073\n",
            "[114]\tvalidation_0-logloss:0.13015\n",
            "[115]\tvalidation_0-logloss:0.13010\n",
            "[116]\tvalidation_0-logloss:0.13015\n",
            "[117]\tvalidation_0-logloss:0.12952\n",
            "[118]\tvalidation_0-logloss:0.12995\n",
            "[119]\tvalidation_0-logloss:0.12991\n",
            "[120]\tvalidation_0-logloss:0.12973\n",
            "[121]\tvalidation_0-logloss:0.12945\n",
            "[122]\tvalidation_0-logloss:0.12886\n",
            "[123]\tvalidation_0-logloss:0.12891\n",
            "[124]\tvalidation_0-logloss:0.12868\n",
            "[125]\tvalidation_0-logloss:0.12882\n",
            "[126]\tvalidation_0-logloss:0.12886\n",
            "[127]\tvalidation_0-logloss:0.12870\n",
            "[128]\tvalidation_0-logloss:0.12814\n",
            "[129]\tvalidation_0-logloss:0.12814\n",
            "[130]\tvalidation_0-logloss:0.12762\n",
            "[131]\tvalidation_0-logloss:0.12809\n",
            "[132]\tvalidation_0-logloss:0.12790\n",
            "[133]\tvalidation_0-logloss:0.12837\n",
            "[134]\tvalidation_0-logloss:0.12861\n",
            "[135]\tvalidation_0-logloss:0.12787\n",
            "[136]\tvalidation_0-logloss:0.12766\n",
            "[137]\tvalidation_0-logloss:0.12694\n",
            "[138]\tvalidation_0-logloss:0.12710\n",
            "[139]\tvalidation_0-logloss:0.12692\n",
            "[140]\tvalidation_0-logloss:0.12656\n",
            "[141]\tvalidation_0-logloss:0.12672\n",
            "[142]\tvalidation_0-logloss:0.12604\n",
            "[143]\tvalidation_0-logloss:0.12583\n",
            "[144]\tvalidation_0-logloss:0.12644\n",
            "[145]\tvalidation_0-logloss:0.12652\n",
            "[146]\tvalidation_0-logloss:0.12589\n",
            "[147]\tvalidation_0-logloss:0.12551\n",
            "[148]\tvalidation_0-logloss:0.12565\n",
            "[149]\tvalidation_0-logloss:0.12624\n",
            "[150]\tvalidation_0-logloss:0.12648\n",
            "[151]\tvalidation_0-logloss:0.12588\n",
            "[152]\tvalidation_0-logloss:0.12605\n",
            "[153]\tvalidation_0-logloss:0.12620\n",
            "[154]\tvalidation_0-logloss:0.12634\n",
            "[155]\tvalidation_0-logloss:0.12576\n",
            "[156]\tvalidation_0-logloss:0.12558\n",
            "[157]\tvalidation_0-logloss:0.12616\n",
            "[158]\tvalidation_0-logloss:0.12633\n",
            "[159]\tvalidation_0-logloss:0.12576\n",
            "[160]\tvalidation_0-logloss:0.12577\n",
            "[161]\tvalidation_0-logloss:0.12633\n",
            "[162]\tvalidation_0-logloss:0.12657\n",
            "[163]\tvalidation_0-logloss:0.12621\n",
            "[164]\tvalidation_0-logloss:0.12677\n",
            "[165]\tvalidation_0-logloss:0.12701\n",
            "[166]\tvalidation_0-logloss:0.12717\n",
            "[167]\tvalidation_0-logloss:0.12700\n",
            "[168]\tvalidation_0-logloss:0.12754\n",
            "[169]\tvalidation_0-logloss:0.12777\n",
            "[170]\tvalidation_0-logloss:0.12778\n",
            "[171]\tvalidation_0-logloss:0.12832\n",
            "[172]\tvalidation_0-logloss:0.12841\n",
            "[173]\tvalidation_0-logloss:0.12829\n",
            "[174]\tvalidation_0-logloss:0.12882\n",
            "[175]\tvalidation_0-logloss:0.12905\n",
            "[176]\tvalidation_0-logloss:0.12841\n",
            "[177]\tvalidation_0-logloss:0.12829\n",
            "[178]\tvalidation_0-logloss:0.12880\n",
            "[179]\tvalidation_0-logloss:0.12903\n",
            "[180]\tvalidation_0-logloss:0.12905\n",
            "[181]\tvalidation_0-logloss:0.12843\n",
            "[182]\tvalidation_0-logloss:0.12893\n",
            "[183]\tvalidation_0-logloss:0.12829\n",
            "[184]\tvalidation_0-logloss:0.12828\n",
            "[185]\tvalidation_0-logloss:0.12771\n",
            "[186]\tvalidation_0-logloss:0.12760\n",
            "[187]\tvalidation_0-logloss:0.12810\n",
            "[188]\tvalidation_0-logloss:0.12748\n",
            "[189]\tvalidation_0-logloss:0.12770\n",
            "[190]\tvalidation_0-logloss:0.12817\n",
            "[191]\tvalidation_0-logloss:0.12821\n",
            "[192]\tvalidation_0-logloss:0.12776\n",
            "[193]\tvalidation_0-logloss:0.12765\n",
            "[194]\tvalidation_0-logloss:0.12790\n",
            "[195]\tvalidation_0-logloss:0.12746\n",
            "[196]\tvalidation_0-logloss:0.12745\n",
            "[197]\tvalidation_0-logloss:0.12685\n",
            "[198]\tvalidation_0-logloss:0.12733\n",
            "[199]\tvalidation_0-logloss:0.12745\n",
            "[200]\tvalidation_0-logloss:0.12735\n",
            "[201]\tvalidation_0-logloss:0.12738\n",
            "[202]\tvalidation_0-logloss:0.12696\n",
            "[203]\tvalidation_0-logloss:0.12699\n",
            "[204]\tvalidation_0-logloss:0.12701\n",
            "[205]\tvalidation_0-logloss:0.12691\n",
            "[206]\tvalidation_0-logloss:0.12737\n",
            "[207]\tvalidation_0-logloss:0.12727\n",
            "[208]\tvalidation_0-logloss:0.12741\n",
            "[209]\tvalidation_0-logloss:0.12740\n",
            "[210]\tvalidation_0-logloss:0.12763\n",
            "[211]\tvalidation_0-logloss:0.12754\n",
            "[212]\tvalidation_0-logloss:0.12745\n",
            "[213]\tvalidation_0-logloss:0.12689\n",
            "[214]\tvalidation_0-logloss:0.12708\n",
            "[215]\tvalidation_0-logloss:0.12752\n",
            "[216]\tvalidation_0-logloss:0.12742\n",
            "[217]\tvalidation_0-logloss:0.12741\n",
            "[218]\tvalidation_0-logloss:0.12687\n",
            "[219]\tvalidation_0-logloss:0.12705\n",
            "[220]\tvalidation_0-logloss:0.12724\n",
            "[221]\tvalidation_0-logloss:0.12715\n",
            "[222]\tvalidation_0-logloss:0.12730\n",
            "[223]\tvalidation_0-logloss:0.12732\n",
            "[224]\tvalidation_0-logloss:0.12724\n",
            "[225]\tvalidation_0-logloss:0.12688\n",
            "[226]\tvalidation_0-logloss:0.12703\n",
            "[227]\tvalidation_0-logloss:0.12702\n",
            "[228]\tvalidation_0-logloss:0.12717\n",
            "[229]\tvalidation_0-logloss:0.12682\n",
            "[230]\tvalidation_0-logloss:0.12681\n",
            "[231]\tvalidation_0-logloss:0.12696\n",
            "[232]\tvalidation_0-logloss:0.12662\n",
            "[233]\tvalidation_0-logloss:0.12676\n",
            "[234]\tvalidation_0-logloss:0.12676\n",
            "[235]\tvalidation_0-logloss:0.12638\n",
            "[236]\tvalidation_0-logloss:0.12637\n",
            "[237]\tvalidation_0-logloss:0.12604\n",
            "[238]\tvalidation_0-logloss:0.12619\n",
            "[239]\tvalidation_0-logloss:0.12618\n",
            "[240]\tvalidation_0-logloss:0.12629\n",
            "[241]\tvalidation_0-logloss:0.12596\n",
            "[242]\tvalidation_0-logloss:0.12612\n",
            "[243]\tvalidation_0-logloss:0.12612\n",
            "[244]\tvalidation_0-logloss:0.12623\n",
            "[245]\tvalidation_0-logloss:0.12591\n",
            "[246]\tvalidation_0-logloss:0.12601\n",
            "[247]\tvalidation_0-logloss:0.12560\n",
            "[248]\tvalidation_0-logloss:0.12560\n",
            "[249]\tvalidation_0-logloss:0.12523\n",
            "[250]\tvalidation_0-logloss:0.12492\n",
            "[251]\tvalidation_0-logloss:0.12497\n",
            "[252]\tvalidation_0-logloss:0.12508\n",
            "[253]\tvalidation_0-logloss:0.12508\n",
            "[254]\tvalidation_0-logloss:0.12472\n",
            "[255]\tvalidation_0-logloss:0.12441\n",
            "[256]\tvalidation_0-logloss:0.12452\n",
            "[257]\tvalidation_0-logloss:0.12457\n",
            "[258]\tvalidation_0-logloss:0.12422\n",
            "[259]\tvalidation_0-logloss:0.12423\n",
            "[260]\tvalidation_0-logloss:0.12393\n",
            "[261]\tvalidation_0-logloss:0.12404\n",
            "[262]\tvalidation_0-logloss:0.12399\n",
            "[263]\tvalidation_0-logloss:0.12360\n",
            "[264]\tvalidation_0-logloss:0.12331\n",
            "[265]\tvalidation_0-logloss:0.12342\n",
            "[266]\tvalidation_0-logloss:0.12338\n",
            "[267]\tvalidation_0-logloss:0.12304\n",
            "[268]\tvalidation_0-logloss:0.12309\n",
            "[269]\tvalidation_0-logloss:0.12320\n",
            "[270]\tvalidation_0-logloss:0.12291\n",
            "[271]\tvalidation_0-logloss:0.12292\n",
            "[272]\tvalidation_0-logloss:0.12303\n",
            "[273]\tvalidation_0-logloss:0.12275\n",
            "[274]\tvalidation_0-logloss:0.12238\n",
            "[275]\tvalidation_0-logloss:0.12205\n",
            "[276]\tvalidation_0-logloss:0.12206\n",
            "[277]\tvalidation_0-logloss:0.12217\n",
            "[278]\tvalidation_0-logloss:0.12190\n",
            "[279]\tvalidation_0-logloss:0.12220\n",
            "[280]\tvalidation_0-logloss:0.12216\n",
            "[281]\tvalidation_0-logloss:0.12184\n",
            "[282]\tvalidation_0-logloss:0.12185\n",
            "[283]\tvalidation_0-logloss:0.12149\n",
            "[284]\tvalidation_0-logloss:0.12179\n",
            "[285]\tvalidation_0-logloss:0.12147\n",
            "[286]\tvalidation_0-logloss:0.12152\n",
            "[287]\tvalidation_0-logloss:0.12126\n",
            "[288]\tvalidation_0-logloss:0.12095\n",
            "[289]\tvalidation_0-logloss:0.12125\n",
            "[290]\tvalidation_0-logloss:0.12089\n",
            "[291]\tvalidation_0-logloss:0.12090\n",
            "[292]\tvalidation_0-logloss:0.12060\n",
            "[293]\tvalidation_0-logloss:0.12056\n",
            "[294]\tvalidation_0-logloss:0.12085\n",
            "[295]\tvalidation_0-logloss:0.12055\n",
            "[296]\tvalidation_0-logloss:0.12056\n",
            "[297]\tvalidation_0-logloss:0.12021\n",
            "[298]\tvalidation_0-logloss:0.12050\n",
            "[299]\tvalidation_0-logloss:0.12025\n",
            "[300]\tvalidation_0-logloss:0.11994\n",
            "[301]\tvalidation_0-logloss:0.11990\n",
            "[302]\tvalidation_0-logloss:0.11991\n",
            "[303]\tvalidation_0-logloss:0.12020\n",
            "[304]\tvalidation_0-logloss:0.11991\n",
            "[305]\tvalidation_0-logloss:0.11957\n",
            "[306]\tvalidation_0-logloss:0.11958\n",
            "[307]\tvalidation_0-logloss:0.11929\n",
            "[308]\tvalidation_0-logloss:0.11957\n",
            "[309]\tvalidation_0-logloss:0.11924\n",
            "[310]\tvalidation_0-logloss:0.11900\n",
            "[311]\tvalidation_0-logloss:0.11928\n",
            "[312]\tvalidation_0-logloss:0.11899\n",
            "[313]\tvalidation_0-logloss:0.11900\n",
            "[314]\tvalidation_0-logloss:0.11868\n",
            "[315]\tvalidation_0-logloss:0.11840\n",
            "[316]\tvalidation_0-logloss:0.11837\n",
            "[317]\tvalidation_0-logloss:0.11838\n",
            "[318]\tvalidation_0-logloss:0.11846\n",
            "[319]\tvalidation_0-logloss:0.11843\n",
            "[320]\tvalidation_0-logloss:0.11845\n",
            "[321]\tvalidation_0-logloss:0.11817\n",
            "[322]\tvalidation_0-logloss:0.11844\n",
            "[323]\tvalidation_0-logloss:0.11844\n",
            "[324]\tvalidation_0-logloss:0.11852\n",
            "[325]\tvalidation_0-logloss:0.11849\n",
            "[326]\tvalidation_0-logloss:0.11851\n",
            "[327]\tvalidation_0-logloss:0.11823\n",
            "[328]\tvalidation_0-logloss:0.11791\n",
            "[329]\tvalidation_0-logloss:0.11789\n",
            "[330]\tvalidation_0-logloss:0.11816\n",
            "[331]\tvalidation_0-logloss:0.11788\n",
            "[332]\tvalidation_0-logloss:0.11790\n",
            "[333]\tvalidation_0-logloss:0.11790\n",
            "[334]\tvalidation_0-logloss:0.11786\n",
            "[335]\tvalidation_0-logloss:0.11783\n",
            "[336]\tvalidation_0-logloss:0.11756\n",
            "[337]\tvalidation_0-logloss:0.11757\n",
            "[338]\tvalidation_0-logloss:0.11754\n",
            "[339]\tvalidation_0-logloss:0.11762\n",
            "[340]\tvalidation_0-logloss:0.11732\n",
            "[341]\tvalidation_0-logloss:0.11705\n",
            "[342]\tvalidation_0-logloss:0.11731\n",
            "[343]\tvalidation_0-logloss:0.11731\n",
            "[344]\tvalidation_0-logloss:0.11733\n",
            "[345]\tvalidation_0-logloss:0.11706\n",
            "[346]\tvalidation_0-logloss:0.11704\n",
            "[347]\tvalidation_0-logloss:0.11711\n",
            "[348]\tvalidation_0-logloss:0.11713\n",
            "[349]\tvalidation_0-logloss:0.11710\n",
            "[350]\tvalidation_0-logloss:0.11680\n",
            "[351]\tvalidation_0-logloss:0.11654\n",
            "[352]\tvalidation_0-logloss:0.11680\n",
            "[353]\tvalidation_0-logloss:0.11681\n",
            "[354]\tvalidation_0-logloss:0.11678\n",
            "[355]\tvalidation_0-logloss:0.11686\n",
            "[356]\tvalidation_0-logloss:0.11660\n",
            "[357]\tvalidation_0-logloss:0.11660\n",
            "[358]\tvalidation_0-logloss:0.11631\n",
            "[359]\tvalidation_0-logloss:0.11656\n",
            "[360]\tvalidation_0-logloss:0.11631\n",
            "[361]\tvalidation_0-logloss:0.11635\n",
            "[362]\tvalidation_0-logloss:0.11633\n",
            "[363]\tvalidation_0-logloss:0.11608\n",
            "[364]\tvalidation_0-logloss:0.11608\n",
            "[365]\tvalidation_0-logloss:0.11616\n",
            "[366]\tvalidation_0-logloss:0.11587\n",
            "[367]\tvalidation_0-logloss:0.11612\n",
            "[368]\tvalidation_0-logloss:0.11627\n",
            "[369]\tvalidation_0-logloss:0.11624\n",
            "[370]\tvalidation_0-logloss:0.11632\n",
            "[371]\tvalidation_0-logloss:0.11633\n",
            "[372]\tvalidation_0-logloss:0.11608\n",
            "[373]\tvalidation_0-logloss:0.11580\n",
            "[374]\tvalidation_0-logloss:0.11605\n",
            "[375]\tvalidation_0-logloss:0.11580\n",
            "[376]\tvalidation_0-logloss:0.11581\n",
            "[377]\tvalidation_0-logloss:0.11585\n",
            "[378]\tvalidation_0-logloss:0.11583\n",
            "[379]\tvalidation_0-logloss:0.11597\n",
            "[380]\tvalidation_0-logloss:0.11573\n",
            "[381]\tvalidation_0-logloss:0.11578\n",
            "[382]\tvalidation_0-logloss:0.11576\n",
            "[383]\tvalidation_0-logloss:0.11600\n",
            "[384]\tvalidation_0-logloss:0.11572\n",
            "[385]\tvalidation_0-logloss:0.11586\n",
            "[386]\tvalidation_0-logloss:0.11563\n",
            "[387]\tvalidation_0-logloss:0.11563\n",
            "[388]\tvalidation_0-logloss:0.11567\n",
            "[389]\tvalidation_0-logloss:0.11565\n",
            "[390]\tvalidation_0-logloss:0.11542\n",
            "[391]\tvalidation_0-logloss:0.11565\n",
            "[392]\tvalidation_0-logloss:0.11538\n",
            "[393]\tvalidation_0-logloss:0.11552\n",
            "[394]\tvalidation_0-logloss:0.11556\n",
            "[395]\tvalidation_0-logloss:0.11555\n",
            "[396]\tvalidation_0-logloss:0.11531\n",
            "[397]\tvalidation_0-logloss:0.11532\n",
            "[398]\tvalidation_0-logloss:0.11555\n",
            "[399]\tvalidation_0-logloss:0.11529\n",
            "[400]\tvalidation_0-logloss:0.11506\n",
            "[401]\tvalidation_0-logloss:0.11510\n",
            "[402]\tvalidation_0-logloss:0.11508\n",
            "[403]\tvalidation_0-logloss:0.11522\n",
            "[404]\tvalidation_0-logloss:0.11530\n",
            "[405]\tvalidation_0-logloss:0.11520\n",
            "[406]\tvalidation_0-logloss:0.11543\n",
            "[407]\tvalidation_0-logloss:0.11520\n",
            "[408]\tvalidation_0-logloss:0.11494\n",
            "[409]\tvalidation_0-logloss:0.11517\n",
            "[410]\tvalidation_0-logloss:0.11526\n",
            "[411]\tvalidation_0-logloss:0.11516\n",
            "[412]\tvalidation_0-logloss:0.11493\n",
            "[413]\tvalidation_0-logloss:0.11491\n",
            "[414]\tvalidation_0-logloss:0.11496\n",
            "[415]\tvalidation_0-logloss:0.11509\n",
            "[416]\tvalidation_0-logloss:0.11509\n",
            "[417]\tvalidation_0-logloss:0.11518\n",
            "[418]\tvalidation_0-logloss:0.11516\n",
            "[419]\tvalidation_0-logloss:0.11529\n",
            "[420]\tvalidation_0-logloss:0.11552\n",
            "[421]\tvalidation_0-logloss:0.11527\n",
            "[422]\tvalidation_0-logloss:0.11505\n",
            "[423]\tvalidation_0-logloss:0.11513\n",
            "[424]\tvalidation_0-logloss:0.11503\n",
            "[425]\tvalidation_0-logloss:0.11525\n",
            "[426]\tvalidation_0-logloss:0.11500\n",
            "[427]\tvalidation_0-logloss:0.11479\n",
            "[428]\tvalidation_0-logloss:0.11477\n",
            "[429]\tvalidation_0-logloss:0.11485\n",
            "[430]\tvalidation_0-logloss:0.11475\n",
            "[431]\tvalidation_0-logloss:0.11489\n",
            "[432]\tvalidation_0-logloss:0.11511\n",
            "[433]\tvalidation_0-logloss:0.11519\n",
            "[434]\tvalidation_0-logloss:0.11520\n",
            "[435]\tvalidation_0-logloss:0.11499\n",
            "[436]\tvalidation_0-logloss:0.11474\n",
            "[437]\tvalidation_0-logloss:0.11473\n",
            "[438]\tvalidation_0-logloss:0.11481\n",
            "[439]\tvalidation_0-logloss:0.11503\n",
            "[440]\tvalidation_0-logloss:0.11516\n",
            "[441]\tvalidation_0-logloss:0.11506\n",
            "[442]\tvalidation_0-logloss:0.11514\n",
            "[443]\tvalidation_0-logloss:0.11513\n",
            "[444]\tvalidation_0-logloss:0.11489\n",
            "[445]\tvalidation_0-logloss:0.11468\n",
            "[446]\tvalidation_0-logloss:0.11489\n",
            "[447]\tvalidation_0-logloss:0.11480\n",
            "[448]\tvalidation_0-logloss:0.11488\n",
            "[449]\tvalidation_0-logloss:0.11501\n",
            "[450]\tvalidation_0-logloss:0.11501\n",
            "[451]\tvalidation_0-logloss:0.11481\n",
            "[452]\tvalidation_0-logloss:0.11457\n",
            "[453]\tvalidation_0-logloss:0.11479\n",
            "[454]\tvalidation_0-logloss:0.11477\n",
            "[455]\tvalidation_0-logloss:0.11485\n",
            "[456]\tvalidation_0-logloss:0.11464\n",
            "[457]\tvalidation_0-logloss:0.11441\n",
            "[458]\tvalidation_0-logloss:0.11462\n",
            "[459]\tvalidation_0-logloss:0.11453\n",
            "[460]\tvalidation_0-logloss:0.11433\n",
            "[461]\tvalidation_0-logloss:0.11410\n",
            "[462]\tvalidation_0-logloss:0.11408\n",
            "[463]\tvalidation_0-logloss:0.11415\n",
            "[464]\tvalidation_0-logloss:0.11436\n",
            "[465]\tvalidation_0-logloss:0.11438\n",
            "[466]\tvalidation_0-logloss:0.11418\n",
            "[467]\tvalidation_0-logloss:0.11425\n",
            "[468]\tvalidation_0-logloss:0.11416\n",
            "[469]\tvalidation_0-logloss:0.11415\n",
            "[470]\tvalidation_0-logloss:0.11392\n",
            "[471]\tvalidation_0-logloss:0.11372\n",
            "[472]\tvalidation_0-logloss:0.11379\n",
            "[473]\tvalidation_0-logloss:0.11380\n",
            "[474]\tvalidation_0-logloss:0.11378\n",
            "[475]\tvalidation_0-logloss:0.11359\n",
            "[476]\tvalidation_0-logloss:0.11337\n",
            "[477]\tvalidation_0-logloss:0.11344\n",
            "[478]\tvalidation_0-logloss:0.11335\n",
            "[479]\tvalidation_0-logloss:0.11334\n",
            "[480]\tvalidation_0-logloss:0.11341\n",
            "[481]\tvalidation_0-logloss:0.11342\n",
            "[482]\tvalidation_0-logloss:0.11341\n",
            "[483]\tvalidation_0-logloss:0.11348\n",
            "[484]\tvalidation_0-logloss:0.11342\n",
            "[485]\tvalidation_0-logloss:0.11320\n",
            "[486]\tvalidation_0-logloss:0.11319\n",
            "[487]\tvalidation_0-logloss:0.11326\n",
            "[488]\tvalidation_0-logloss:0.11320\n",
            "[489]\tvalidation_0-logloss:0.11312\n",
            "[490]\tvalidation_0-logloss:0.11319\n",
            "[491]\tvalidation_0-logloss:0.11318\n",
            "[492]\tvalidation_0-logloss:0.11312\n",
            "[493]\tvalidation_0-logloss:0.11318\n",
            "[494]\tvalidation_0-logloss:0.11320\n",
            "[495]\tvalidation_0-logloss:0.11314\n",
            "[496]\tvalidation_0-logloss:0.11321\n",
            "[497]\tvalidation_0-logloss:0.11320\n",
            "[498]\tvalidation_0-logloss:0.11326\n",
            "[499]\tvalidation_0-logloss:0.11321\n",
            "[500]\tvalidation_0-logloss:0.11320\n",
            "[501]\tvalidation_0-logloss:0.11299\n",
            "[502]\tvalidation_0-logloss:0.11305\n",
            "[503]\tvalidation_0-logloss:0.11307\n",
            "[504]\tvalidation_0-logloss:0.11301\n",
            "[505]\tvalidation_0-logloss:0.11307\n",
            "[506]\tvalidation_0-logloss:0.11302\n",
            "[507]\tvalidation_0-logloss:0.11308\n",
            "[508]\tvalidation_0-logloss:0.11310\n",
            "[509]\tvalidation_0-logloss:0.11304\n",
            "[510]\tvalidation_0-logloss:0.11311\n",
            "[511]\tvalidation_0-logloss:0.11311\n",
            "[512]\tvalidation_0-logloss:0.11303\n",
            "[513]\tvalidation_0-logloss:0.11310\n",
            "[514]\tvalidation_0-logloss:0.11310\n",
            "[515]\tvalidation_0-logloss:0.11290\n",
            "[516]\tvalidation_0-logloss:0.11284\n",
            "[517]\tvalidation_0-logloss:0.11283\n",
            "[518]\tvalidation_0-logloss:0.11289\n",
            "[519]\tvalidation_0-logloss:0.11281\n",
            "[520]\tvalidation_0-logloss:0.11276\n",
            "[521]\tvalidation_0-logloss:0.11282\n",
            "[522]\tvalidation_0-logloss:0.11283\n",
            "[523]\tvalidation_0-logloss:0.11284\n",
            "[524]\tvalidation_0-logloss:0.11290\n",
            "[525]\tvalidation_0-logloss:0.11289\n",
            "[526]\tvalidation_0-logloss:0.11283\n",
            "[527]\tvalidation_0-logloss:0.11264\n",
            "[528]\tvalidation_0-logloss:0.11264\n",
            "[529]\tvalidation_0-logloss:0.11257\n",
            "[530]\tvalidation_0-logloss:0.11263\n",
            "[531]\tvalidation_0-logloss:0.11258\n",
            "[532]\tvalidation_0-logloss:0.11258\n",
            "[533]\tvalidation_0-logloss:0.11264\n",
            "[534]\tvalidation_0-logloss:0.11257\n",
            "[535]\tvalidation_0-logloss:0.11238\n",
            "[536]\tvalidation_0-logloss:0.11238\n",
            "[537]\tvalidation_0-logloss:0.11244\n",
            "[538]\tvalidation_0-logloss:0.11245\n",
            "[539]\tvalidation_0-logloss:0.11244\n",
            "[540]\tvalidation_0-logloss:0.11250\n",
            "[541]\tvalidation_0-logloss:0.11244\n",
            "[542]\tvalidation_0-logloss:0.11237\n",
            "[543]\tvalidation_0-logloss:0.11237\n",
            "[544]\tvalidation_0-logloss:0.11244\n",
            "[545]\tvalidation_0-logloss:0.11225\n",
            "[546]\tvalidation_0-logloss:0.11225\n",
            "[547]\tvalidation_0-logloss:0.11219\n",
            "[548]\tvalidation_0-logloss:0.11225\n",
            "[549]\tvalidation_0-logloss:0.11227\n",
            "[550]\tvalidation_0-logloss:0.11225\n",
            "[551]\tvalidation_0-logloss:0.11209\n",
            "[552]\tvalidation_0-logloss:0.11190\n",
            "[553]\tvalidation_0-logloss:0.11191\n",
            "[554]\tvalidation_0-logloss:0.11185\n",
            "[555]\tvalidation_0-logloss:0.11167\n",
            "[556]\tvalidation_0-logloss:0.11151\n",
            "[557]\tvalidation_0-logloss:0.11152\n",
            "[558]\tvalidation_0-logloss:0.11151\n",
            "[559]\tvalidation_0-logloss:0.11154\n",
            "[560]\tvalidation_0-logloss:0.11149\n",
            "[561]\tvalidation_0-logloss:0.11131\n",
            "[562]\tvalidation_0-logloss:0.11131\n",
            "[563]\tvalidation_0-logloss:0.11126\n",
            "[564]\tvalidation_0-logloss:0.11108\n",
            "[565]\tvalidation_0-logloss:0.11109\n",
            "[566]\tvalidation_0-logloss:0.11109\n",
            "[567]\tvalidation_0-logloss:0.11103\n",
            "[568]\tvalidation_0-logloss:0.11101\n",
            "[569]\tvalidation_0-logloss:0.11096\n",
            "[570]\tvalidation_0-logloss:0.11090\n",
            "[571]\tvalidation_0-logloss:0.11089\n",
            "[572]\tvalidation_0-logloss:0.11071\n",
            "[573]\tvalidation_0-logloss:0.11072\n",
            "[574]\tvalidation_0-logloss:0.11066\n",
            "[575]\tvalidation_0-logloss:0.11061\n",
            "[576]\tvalidation_0-logloss:0.11061\n",
            "[577]\tvalidation_0-logloss:0.11060\n",
            "[578]\tvalidation_0-logloss:0.11054\n",
            "[579]\tvalidation_0-logloss:0.11049\n",
            "[580]\tvalidation_0-logloss:0.11031\n",
            "[581]\tvalidation_0-logloss:0.11032\n",
            "[582]\tvalidation_0-logloss:0.11026\n",
            "[583]\tvalidation_0-logloss:0.11025\n",
            "[584]\tvalidation_0-logloss:0.11025\n",
            "[585]\tvalidation_0-logloss:0.11020\n",
            "[586]\tvalidation_0-logloss:0.11014\n",
            "[587]\tvalidation_0-logloss:0.10997\n",
            "[588]\tvalidation_0-logloss:0.10998\n",
            "[589]\tvalidation_0-logloss:0.10992\n",
            "[590]\tvalidation_0-logloss:0.10991\n",
            "[591]\tvalidation_0-logloss:0.10986\n",
            "[592]\tvalidation_0-logloss:0.10987\n",
            "[593]\tvalidation_0-logloss:0.10981\n",
            "[594]\tvalidation_0-logloss:0.10980\n",
            "[595]\tvalidation_0-logloss:0.10975\n",
            "[596]\tvalidation_0-logloss:0.10970\n",
            "[597]\tvalidation_0-logloss:0.10970\n",
            "[598]\tvalidation_0-logloss:0.10972\n",
            "[599]\tvalidation_0-logloss:0.10971\n",
            "[600]\tvalidation_0-logloss:0.10966\n",
            "[601]\tvalidation_0-logloss:0.10966\n",
            "[602]\tvalidation_0-logloss:0.10967\n",
            "[603]\tvalidation_0-logloss:0.10962\n",
            "[604]\tvalidation_0-logloss:0.10966\n",
            "[605]\tvalidation_0-logloss:0.10950\n",
            "[606]\tvalidation_0-logloss:0.10949\n",
            "[607]\tvalidation_0-logloss:0.10944\n",
            "[608]\tvalidation_0-logloss:0.10949\n",
            "[609]\tvalidation_0-logloss:0.10952\n",
            "[610]\tvalidation_0-logloss:0.10948\n",
            "[611]\tvalidation_0-logloss:0.10948\n",
            "[612]\tvalidation_0-logloss:0.10932\n",
            "[613]\tvalidation_0-logloss:0.10937\n",
            "[614]\tvalidation_0-logloss:0.10938\n",
            "[615]\tvalidation_0-logloss:0.10938\n",
            "[616]\tvalidation_0-logloss:0.10934\n",
            "[617]\tvalidation_0-logloss:0.10937\n",
            "[618]\tvalidation_0-logloss:0.10942\n",
            "[619]\tvalidation_0-logloss:0.10941\n",
            "[620]\tvalidation_0-logloss:0.10936\n",
            "[621]\tvalidation_0-logloss:0.10921\n",
            "[622]\tvalidation_0-logloss:0.10924\n",
            "[623]\tvalidation_0-logloss:0.10920\n",
            "[624]\tvalidation_0-logloss:0.10924\n",
            "[625]\tvalidation_0-logloss:0.10925\n",
            "[626]\tvalidation_0-logloss:0.10925\n",
            "[627]\tvalidation_0-logloss:0.10924\n",
            "[628]\tvalidation_0-logloss:0.10923\n",
            "[629]\tvalidation_0-logloss:0.10918\n",
            "[630]\tvalidation_0-logloss:0.10903\n",
            "[631]\tvalidation_0-logloss:0.10904\n",
            "[632]\tvalidation_0-logloss:0.10907\n",
            "[633]\tvalidation_0-logloss:0.10903\n",
            "[634]\tvalidation_0-logloss:0.10901\n",
            "[635]\tvalidation_0-logloss:0.10903\n",
            "[636]\tvalidation_0-logloss:0.10902\n",
            "[637]\tvalidation_0-logloss:0.10901\n",
            "[638]\tvalidation_0-logloss:0.10896\n",
            "[639]\tvalidation_0-logloss:0.10881\n",
            "[640]\tvalidation_0-logloss:0.10882\n",
            "[641]\tvalidation_0-logloss:0.10885\n",
            "[642]\tvalidation_0-logloss:0.10881\n",
            "[643]\tvalidation_0-logloss:0.10866\n",
            "[644]\tvalidation_0-logloss:0.10866\n",
            "[645]\tvalidation_0-logloss:0.10865\n",
            "[646]\tvalidation_0-logloss:0.10866\n",
            "[647]\tvalidation_0-logloss:0.10864\n",
            "[648]\tvalidation_0-logloss:0.10863\n",
            "[649]\tvalidation_0-logloss:0.10859\n",
            "[650]\tvalidation_0-logloss:0.10863\n",
            "[651]\tvalidation_0-logloss:0.10858\n",
            "[652]\tvalidation_0-logloss:0.10860\n",
            "[653]\tvalidation_0-logloss:0.10858\n",
            "[654]\tvalidation_0-logloss:0.10859\n",
            "[655]\tvalidation_0-logloss:0.10844\n",
            "[656]\tvalidation_0-logloss:0.10845\n",
            "[657]\tvalidation_0-logloss:0.10843\n",
            "[658]\tvalidation_0-logloss:0.10839\n",
            "[659]\tvalidation_0-logloss:0.10843\n",
            "[660]\tvalidation_0-logloss:0.10828\n",
            "[661]\tvalidation_0-logloss:0.10827\n",
            "[662]\tvalidation_0-logloss:0.10823\n",
            "[663]\tvalidation_0-logloss:0.10824\n",
            "[664]\tvalidation_0-logloss:0.10822\n",
            "[665]\tvalidation_0-logloss:0.10823\n",
            "[666]\tvalidation_0-logloss:0.10819\n",
            "[667]\tvalidation_0-logloss:0.10822\n",
            "[668]\tvalidation_0-logloss:0.10821\n",
            "[669]\tvalidation_0-logloss:0.10823\n",
            "[670]\tvalidation_0-logloss:0.10818\n",
            "[671]\tvalidation_0-logloss:0.10818\n",
            "[672]\tvalidation_0-logloss:0.10816\n",
            "[673]\tvalidation_0-logloss:0.10817\n",
            "[674]\tvalidation_0-logloss:0.10818\n",
            "[675]\tvalidation_0-logloss:0.10816\n",
            "[676]\tvalidation_0-logloss:0.10812\n",
            "[677]\tvalidation_0-logloss:0.10816\n",
            "[678]\tvalidation_0-logloss:0.10812\n",
            "[679]\tvalidation_0-logloss:0.10811\n",
            "[680]\tvalidation_0-logloss:0.10809\n",
            "[681]\tvalidation_0-logloss:0.10810\n",
            "[682]\tvalidation_0-logloss:0.10811\n",
            "[683]\tvalidation_0-logloss:0.10807\n",
            "[684]\tvalidation_0-logloss:0.10810\n",
            "[685]\tvalidation_0-logloss:0.10809\n",
            "[686]\tvalidation_0-logloss:0.10809\n",
            "[687]\tvalidation_0-logloss:0.10805\n",
            "[688]\tvalidation_0-logloss:0.10805\n",
            "[689]\tvalidation_0-logloss:0.10803\n",
            "[690]\tvalidation_0-logloss:0.10804\n",
            "[691]\tvalidation_0-logloss:0.10805\n",
            "[692]\tvalidation_0-logloss:0.10803\n",
            "[693]\tvalidation_0-logloss:0.10799\n",
            "[694]\tvalidation_0-logloss:0.10803\n",
            "[695]\tvalidation_0-logloss:0.10799\n",
            "[696]\tvalidation_0-logloss:0.10798\n",
            "[697]\tvalidation_0-logloss:0.10797\n",
            "[698]\tvalidation_0-logloss:0.10798\n",
            "[699]\tvalidation_0-logloss:0.10798\n",
            "[700]\tvalidation_0-logloss:0.10794\n",
            "[701]\tvalidation_0-logloss:0.10793\n",
            "[702]\tvalidation_0-logloss:0.10796\n",
            "[703]\tvalidation_0-logloss:0.10793\n",
            "[704]\tvalidation_0-logloss:0.10792\n",
            "[705]\tvalidation_0-logloss:0.10793\n",
            "[706]\tvalidation_0-logloss:0.10791\n",
            "[707]\tvalidation_0-logloss:0.10792\n",
            "[708]\tvalidation_0-logloss:0.10788\n",
            "[709]\tvalidation_0-logloss:0.10792\n",
            "[710]\tvalidation_0-logloss:0.10790\n",
            "[711]\tvalidation_0-logloss:0.10791\n",
            "[712]\tvalidation_0-logloss:0.10787\n",
            "[713]\tvalidation_0-logloss:0.10787\n",
            "[714]\tvalidation_0-logloss:0.10785\n",
            "[715]\tvalidation_0-logloss:0.10786\n",
            "[716]\tvalidation_0-logloss:0.10782\n",
            "[717]\tvalidation_0-logloss:0.10783\n",
            "[718]\tvalidation_0-logloss:0.10782\n",
            "[719]\tvalidation_0-logloss:0.10785\n",
            "[720]\tvalidation_0-logloss:0.10781\n",
            "[721]\tvalidation_0-logloss:0.10781\n",
            "[722]\tvalidation_0-logloss:0.10779\n",
            "[723]\tvalidation_0-logloss:0.10780\n",
            "[724]\tvalidation_0-logloss:0.10776\n",
            "[725]\tvalidation_0-logloss:0.10780\n",
            "[726]\tvalidation_0-logloss:0.10780\n",
            "[727]\tvalidation_0-logloss:0.10779\n",
            "[728]\tvalidation_0-logloss:0.10775\n",
            "[729]\tvalidation_0-logloss:0.10776\n",
            "[730]\tvalidation_0-logloss:0.10775\n",
            "[731]\tvalidation_0-logloss:0.10776\n",
            "[732]\tvalidation_0-logloss:0.10776\n",
            "[733]\tvalidation_0-logloss:0.10773\n",
            "[734]\tvalidation_0-logloss:0.10771\n",
            "[735]\tvalidation_0-logloss:0.10775\n",
            "[736]\tvalidation_0-logloss:0.10771\n",
            "[737]\tvalidation_0-logloss:0.10772\n",
            "[738]\tvalidation_0-logloss:0.10771\n",
            "[739]\tvalidation_0-logloss:0.10771\n",
            "[740]\tvalidation_0-logloss:0.10768\n",
            "[741]\tvalidation_0-logloss:0.10771\n",
            "[742]\tvalidation_0-logloss:0.10770\n",
            "[743]\tvalidation_0-logloss:0.10770\n",
            "[744]\tvalidation_0-logloss:0.10771\n",
            "[745]\tvalidation_0-logloss:0.10768\n",
            "[746]\tvalidation_0-logloss:0.10766\n",
            "[747]\tvalidation_0-logloss:0.10767\n",
            "[748]\tvalidation_0-logloss:0.10768\n",
            "[749]\tvalidation_0-logloss:0.10764\n",
            "[750]\tvalidation_0-logloss:0.10763\n",
            "[751]\tvalidation_0-logloss:0.10764\n",
            "[752]\tvalidation_0-logloss:0.10764\n",
            "[753]\tvalidation_0-logloss:0.10763\n",
            "[754]\tvalidation_0-logloss:0.10764\n",
            "[755]\tvalidation_0-logloss:0.10763\n",
            "[756]\tvalidation_0-logloss:0.10763\n",
            "[757]\tvalidation_0-logloss:0.10760\n",
            "[758]\tvalidation_0-logloss:0.10761\n",
            "[759]\tvalidation_0-logloss:0.10760\n",
            "[760]\tvalidation_0-logloss:0.10760\n",
            "[761]\tvalidation_0-logloss:0.10757\n",
            "[762]\tvalidation_0-logloss:0.10756\n",
            "[763]\tvalidation_0-logloss:0.10757\n",
            "[764]\tvalidation_0-logloss:0.10757\n",
            "[765]\tvalidation_0-logloss:0.10756\n",
            "[766]\tvalidation_0-logloss:0.10757\n",
            "[767]\tvalidation_0-logloss:0.10754\n",
            "[768]\tvalidation_0-logloss:0.10742\n",
            "[769]\tvalidation_0-logloss:0.10743\n",
            "[770]\tvalidation_0-logloss:0.10742\n",
            "[771]\tvalidation_0-logloss:0.10739\n",
            "[772]\tvalidation_0-logloss:0.10741\n",
            "[773]\tvalidation_0-logloss:0.10742\n",
            "[774]\tvalidation_0-logloss:0.10741\n",
            "[775]\tvalidation_0-logloss:0.10742\n",
            "[776]\tvalidation_0-logloss:0.10738\n",
            "[777]\tvalidation_0-logloss:0.10737\n",
            "[778]\tvalidation_0-logloss:0.10738\n",
            "[779]\tvalidation_0-logloss:0.10739\n",
            "[780]\tvalidation_0-logloss:0.10738\n",
            "[781]\tvalidation_0-logloss:0.10738\n",
            "[782]\tvalidation_0-logloss:0.10739\n",
            "[783]\tvalidation_0-logloss:0.10738\n",
            "[784]\tvalidation_0-logloss:0.10738\n",
            "[785]\tvalidation_0-logloss:0.10737\n",
            "[786]\tvalidation_0-logloss:0.10738\n",
            "[787]\tvalidation_0-logloss:0.10739\n",
            "[788]\tvalidation_0-logloss:0.10738\n",
            "[789]\tvalidation_0-logloss:0.10738\n",
            "[790]\tvalidation_0-logloss:0.10741\n",
            "[791]\tvalidation_0-logloss:0.10738\n",
            "[792]\tvalidation_0-logloss:0.10737\n",
            "[793]\tvalidation_0-logloss:0.10734\n",
            "[794]\tvalidation_0-logloss:0.10737\n",
            "[795]\tvalidation_0-logloss:0.10738\n",
            "[796]\tvalidation_0-logloss:0.10727\n",
            "[797]\tvalidation_0-logloss:0.10724\n",
            "[798]\tvalidation_0-logloss:0.10727\n",
            "[799]\tvalidation_0-logloss:0.10726\n",
            "[800]\tvalidation_0-logloss:0.10723\n",
            "[801]\tvalidation_0-logloss:0.10724\n",
            "[802]\tvalidation_0-logloss:0.10713\n",
            "[803]\tvalidation_0-logloss:0.10716\n",
            "[804]\tvalidation_0-logloss:0.10713\n",
            "[805]\tvalidation_0-logloss:0.10712\n",
            "[806]\tvalidation_0-logloss:0.10713\n",
            "[807]\tvalidation_0-logloss:0.10713\n",
            "[808]\tvalidation_0-logloss:0.10712\n",
            "[809]\tvalidation_0-logloss:0.10710\n",
            "[810]\tvalidation_0-logloss:0.10712\n",
            "[811]\tvalidation_0-logloss:0.10702\n",
            "[812]\tvalidation_0-logloss:0.10703\n",
            "[813]\tvalidation_0-logloss:0.10700\n",
            "[814]\tvalidation_0-logloss:0.10699\n",
            "[815]\tvalidation_0-logloss:0.10700\n",
            "[816]\tvalidation_0-logloss:0.10700\n",
            "[817]\tvalidation_0-logloss:0.10690\n",
            "[818]\tvalidation_0-logloss:0.10687\n",
            "[819]\tvalidation_0-logloss:0.10690\n",
            "[820]\tvalidation_0-logloss:0.10689\n",
            "[821]\tvalidation_0-logloss:0.10686\n",
            "[822]\tvalidation_0-logloss:0.10687\n",
            "[823]\tvalidation_0-logloss:0.10689\n",
            "[824]\tvalidation_0-logloss:0.10687\n",
            "[825]\tvalidation_0-logloss:0.10686\n",
            "[826]\tvalidation_0-logloss:0.10686\n",
            "[827]\tvalidation_0-logloss:0.10676\n",
            "[828]\tvalidation_0-logloss:0.10674\n",
            "[829]\tvalidation_0-logloss:0.10676\n",
            "[830]\tvalidation_0-logloss:0.10676\n",
            "[831]\tvalidation_0-logloss:0.10676\n",
            "[832]\tvalidation_0-logloss:0.10673\n",
            "[833]\tvalidation_0-logloss:0.10676\n",
            "[834]\tvalidation_0-logloss:0.10666\n",
            "[835]\tvalidation_0-logloss:0.10664\n",
            "[836]\tvalidation_0-logloss:0.10664\n",
            "[837]\tvalidation_0-logloss:0.10663\n",
            "[838]\tvalidation_0-logloss:0.10654\n",
            "[839]\tvalidation_0-logloss:0.10654\n",
            "[840]\tvalidation_0-logloss:0.10652\n",
            "[841]\tvalidation_0-logloss:0.10654\n",
            "[842]\tvalidation_0-logloss:0.10653\n",
            "[843]\tvalidation_0-logloss:0.10651\n",
            "[844]\tvalidation_0-logloss:0.10653\n",
            "[845]\tvalidation_0-logloss:0.10651\n",
            "[846]\tvalidation_0-logloss:0.10653\n",
            "[847]\tvalidation_0-logloss:0.10658\n",
            "[848]\tvalidation_0-logloss:0.10648\n",
            "[849]\tvalidation_0-logloss:0.10649\n",
            "[850]\tvalidation_0-logloss:0.10648\n",
            "[851]\tvalidation_0-logloss:0.10646\n",
            "[852]\tvalidation_0-logloss:0.10648\n",
            "[853]\tvalidation_0-logloss:0.10646\n",
            "[854]\tvalidation_0-logloss:0.10646\n",
            "[855]\tvalidation_0-logloss:0.10645\n",
            "[856]\tvalidation_0-logloss:0.10648\n",
            "[857]\tvalidation_0-logloss:0.10645\n",
            "[858]\tvalidation_0-logloss:0.10650\n",
            "[859]\tvalidation_0-logloss:0.10652\n",
            "[860]\tvalidation_0-logloss:0.10651\n",
            "[861]\tvalidation_0-logloss:0.10649\n",
            "[862]\tvalidation_0-logloss:0.10650\n",
            "[863]\tvalidation_0-logloss:0.10652\n",
            "[864]\tvalidation_0-logloss:0.10650\n",
            "[865]\tvalidation_0-logloss:0.10649\n",
            "[866]\tvalidation_0-logloss:0.10648\n",
            "[867]\tvalidation_0-logloss:0.10652\n",
            "[868]\tvalidation_0-logloss:0.10655\n",
            "[869]\tvalidation_0-logloss:0.10653\n",
            "[870]\tvalidation_0-logloss:0.10652\n",
            "[871]\tvalidation_0-logloss:0.10652\n",
            "[872]\tvalidation_0-logloss:0.10650\n",
            "[873]\tvalidation_0-logloss:0.10652\n",
            "[874]\tvalidation_0-logloss:0.10649\n",
            "[875]\tvalidation_0-logloss:0.10640\n",
            "[876]\tvalidation_0-logloss:0.10643\n",
            "[877]\tvalidation_0-logloss:0.10647\n",
            "[878]\tvalidation_0-logloss:0.10645\n",
            "[879]\tvalidation_0-logloss:0.10647\n",
            "[880]\tvalidation_0-logloss:0.10645\n",
            "[881]\tvalidation_0-logloss:0.10636\n",
            "[882]\tvalidation_0-logloss:0.10635\n",
            "[883]\tvalidation_0-logloss:0.10636\n",
            "[884]\tvalidation_0-logloss:0.10627\n",
            "[885]\tvalidation_0-logloss:0.10630\n",
            "[886]\tvalidation_0-logloss:0.10631\n",
            "[887]\tvalidation_0-logloss:0.10628\n",
            "[888]\tvalidation_0-logloss:0.10627\n",
            "[889]\tvalidation_0-logloss:0.10619\n",
            "[890]\tvalidation_0-logloss:0.10621\n",
            "[891]\tvalidation_0-logloss:0.10622\n",
            "[892]\tvalidation_0-logloss:0.10619\n",
            "[893]\tvalidation_0-logloss:0.10617\n",
            "[894]\tvalidation_0-logloss:0.10616\n",
            "[895]\tvalidation_0-logloss:0.10619\n",
            "[896]\tvalidation_0-logloss:0.10616\n",
            "[897]\tvalidation_0-logloss:0.10608\n",
            "[898]\tvalidation_0-logloss:0.10610\n",
            "[899]\tvalidation_0-logloss:0.10609\n",
            "[900]\tvalidation_0-logloss:0.10610\n",
            "[901]\tvalidation_0-logloss:0.10608\n",
            "[902]\tvalidation_0-logloss:0.10599\n",
            "[903]\tvalidation_0-logloss:0.10602\n",
            "[904]\tvalidation_0-logloss:0.10593\n",
            "[905]\tvalidation_0-logloss:0.10592\n",
            "[906]\tvalidation_0-logloss:0.10595\n",
            "[907]\tvalidation_0-logloss:0.10592\n",
            "[908]\tvalidation_0-logloss:0.10584\n",
            "[909]\tvalidation_0-logloss:0.10586\n",
            "[910]\tvalidation_0-logloss:0.10586\n",
            "[911]\tvalidation_0-logloss:0.10578\n",
            "[912]\tvalidation_0-logloss:0.10580\n",
            "[913]\tvalidation_0-logloss:0.10579\n",
            "[914]\tvalidation_0-logloss:0.10572\n",
            "[915]\tvalidation_0-logloss:0.10574\n",
            "[916]\tvalidation_0-logloss:0.10573\n",
            "[917]\tvalidation_0-logloss:0.10572\n",
            "[918]\tvalidation_0-logloss:0.10570\n",
            "[919]\tvalidation_0-logloss:0.10562\n",
            "[920]\tvalidation_0-logloss:0.10562\n",
            "[921]\tvalidation_0-logloss:0.10561\n",
            "[922]\tvalidation_0-logloss:0.10562\n",
            "[923]\tvalidation_0-logloss:0.10561\n",
            "[924]\tvalidation_0-logloss:0.10560\n",
            "[925]\tvalidation_0-logloss:0.10561\n",
            "[926]\tvalidation_0-logloss:0.10560\n",
            "[927]\tvalidation_0-logloss:0.10559\n",
            "[928]\tvalidation_0-logloss:0.10560\n",
            "[929]\tvalidation_0-logloss:0.10559\n",
            "[930]\tvalidation_0-logloss:0.10560\n",
            "[931]\tvalidation_0-logloss:0.10559\n",
            "[932]\tvalidation_0-logloss:0.10559\n",
            "[933]\tvalidation_0-logloss:0.10559\n",
            "[934]\tvalidation_0-logloss:0.10559\n",
            "[935]\tvalidation_0-logloss:0.10558\n",
            "[936]\tvalidation_0-logloss:0.10559\n",
            "[937]\tvalidation_0-logloss:0.10558\n",
            "[938]\tvalidation_0-logloss:0.10560\n",
            "[939]\tvalidation_0-logloss:0.10559\n",
            "[940]\tvalidation_0-logloss:0.10553\n",
            "[941]\tvalidation_0-logloss:0.10551\n",
            "[942]\tvalidation_0-logloss:0.10550\n",
            "[943]\tvalidation_0-logloss:0.10544\n",
            "[944]\tvalidation_0-logloss:0.10542\n",
            "[945]\tvalidation_0-logloss:0.10542\n",
            "[946]\tvalidation_0-logloss:0.10540\n",
            "[947]\tvalidation_0-logloss:0.10539\n",
            "[948]\tvalidation_0-logloss:0.10538\n",
            "[949]\tvalidation_0-logloss:0.10537\n",
            "[950]\tvalidation_0-logloss:0.10537\n",
            "[951]\tvalidation_0-logloss:0.10536\n",
            "[952]\tvalidation_0-logloss:0.10536\n",
            "[953]\tvalidation_0-logloss:0.10535\n",
            "[954]\tvalidation_0-logloss:0.10535\n",
            "[955]\tvalidation_0-logloss:0.10535\n",
            "[956]\tvalidation_0-logloss:0.10534\n",
            "[957]\tvalidation_0-logloss:0.10534\n",
            "[958]\tvalidation_0-logloss:0.10534\n",
            "[959]\tvalidation_0-logloss:0.10534\n",
            "[960]\tvalidation_0-logloss:0.10534\n",
            "[961]\tvalidation_0-logloss:0.10534\n",
            "[962]\tvalidation_0-logloss:0.10534\n",
            "[963]\tvalidation_0-logloss:0.10534\n",
            "[964]\tvalidation_0-logloss:0.10534\n",
            "[965]\tvalidation_0-logloss:0.10534\n",
            "[966]\tvalidation_0-logloss:0.10534\n",
            "[967]\tvalidation_0-logloss:0.10534\n",
            "[968]\tvalidation_0-logloss:0.10534\n",
            "[969]\tvalidation_0-logloss:0.10534\n",
            "[970]\tvalidation_0-logloss:0.10534\n",
            "[971]\tvalidation_0-logloss:0.10534\n",
            "[972]\tvalidation_0-logloss:0.10534\n",
            "[973]\tvalidation_0-logloss:0.10534\n",
            "[974]\tvalidation_0-logloss:0.10534\n",
            "[975]\tvalidation_0-logloss:0.10534\n",
            "[976]\tvalidation_0-logloss:0.10534\n",
            "[977]\tvalidation_0-logloss:0.10534\n",
            "[978]\tvalidation_0-logloss:0.10534\n",
            "[979]\tvalidation_0-logloss:0.10534\n",
            "[980]\tvalidation_0-logloss:0.10534\n",
            "[981]\tvalidation_0-logloss:0.10534\n",
            "[982]\tvalidation_0-logloss:0.10534\n",
            "[983]\tvalidation_0-logloss:0.10534\n",
            "[984]\tvalidation_0-logloss:0.10534\n",
            "[985]\tvalidation_0-logloss:0.10534\n",
            "[986]\tvalidation_0-logloss:0.10534\n",
            "[987]\tvalidation_0-logloss:0.10534\n",
            "[988]\tvalidation_0-logloss:0.10534\n",
            "[989]\tvalidation_0-logloss:0.10534\n",
            "[990]\tvalidation_0-logloss:0.10534\n",
            "[991]\tvalidation_0-logloss:0.10534\n",
            "[992]\tvalidation_0-logloss:0.10534\n",
            "[993]\tvalidation_0-logloss:0.10534\n",
            "[994]\tvalidation_0-logloss:0.10534\n",
            "[995]\tvalidation_0-logloss:0.10534\n",
            "[996]\tvalidation_0-logloss:0.10534\n",
            "[997]\tvalidation_0-logloss:0.10534\n",
            "[998]\tvalidation_0-logloss:0.10534\n",
            "[999]\tvalidation_0-logloss:0.10534\n"
          ]
        },
        {
          "output_type": "execute_result",
          "data": {
            "text/plain": [
              "XGBClassifier(base_score=None, booster=None, callbacks=None,\n",
              "              colsample_bylevel=None, colsample_bynode=None,\n",
              "              colsample_bytree=None, device=None, early_stopping_rounds=None,\n",
              "              enable_categorical=False, eval_metric=None, feature_types=None,\n",
              "              gamma=None, grow_policy=None, importance_type=None,\n",
              "              interaction_constraints=None, learning_rate=0.05, max_bin=None,\n",
              "              max_cat_threshold=None, max_cat_to_onehot=None,\n",
              "              max_delta_step=None, max_depth=None, max_leaves=None,\n",
              "              min_child_weight=None, missing=nan, monotone_constraints=None,\n",
              "              multi_strategy=None, n_estimators=1000, n_jobs=None,\n",
              "              num_parallel_tree=None, random_state=None, ...)"
            ],
            "text/html": [
              "<style>#sk-container-id-1 {color: black;background-color: white;}#sk-container-id-1 pre{padding: 0;}#sk-container-id-1 div.sk-toggleable {background-color: white;}#sk-container-id-1 label.sk-toggleable__label {cursor: pointer;display: block;width: 100%;margin-bottom: 0;padding: 0.3em;box-sizing: border-box;text-align: center;}#sk-container-id-1 label.sk-toggleable__label-arrow:before {content: \"▸\";float: left;margin-right: 0.25em;color: #696969;}#sk-container-id-1 label.sk-toggleable__label-arrow:hover:before {color: black;}#sk-container-id-1 div.sk-estimator:hover label.sk-toggleable__label-arrow:before {color: black;}#sk-container-id-1 div.sk-toggleable__content {max-height: 0;max-width: 0;overflow: hidden;text-align: left;background-color: #f0f8ff;}#sk-container-id-1 div.sk-toggleable__content pre {margin: 0.2em;color: black;border-radius: 0.25em;background-color: #f0f8ff;}#sk-container-id-1 input.sk-toggleable__control:checked~div.sk-toggleable__content {max-height: 200px;max-width: 100%;overflow: auto;}#sk-container-id-1 input.sk-toggleable__control:checked~label.sk-toggleable__label-arrow:before {content: \"▾\";}#sk-container-id-1 div.sk-estimator input.sk-toggleable__control:checked~label.sk-toggleable__label {background-color: #d4ebff;}#sk-container-id-1 div.sk-label input.sk-toggleable__control:checked~label.sk-toggleable__label {background-color: #d4ebff;}#sk-container-id-1 input.sk-hidden--visually {border: 0;clip: rect(1px 1px 1px 1px);clip: rect(1px, 1px, 1px, 1px);height: 1px;margin: -1px;overflow: hidden;padding: 0;position: absolute;width: 1px;}#sk-container-id-1 div.sk-estimator {font-family: monospace;background-color: #f0f8ff;border: 1px dotted black;border-radius: 0.25em;box-sizing: border-box;margin-bottom: 0.5em;}#sk-container-id-1 div.sk-estimator:hover {background-color: #d4ebff;}#sk-container-id-1 div.sk-parallel-item::after {content: \"\";width: 100%;border-bottom: 1px solid gray;flex-grow: 1;}#sk-container-id-1 div.sk-label:hover label.sk-toggleable__label {background-color: #d4ebff;}#sk-container-id-1 div.sk-serial::before {content: \"\";position: absolute;border-left: 1px solid gray;box-sizing: border-box;top: 0;bottom: 0;left: 50%;z-index: 0;}#sk-container-id-1 div.sk-serial {display: flex;flex-direction: column;align-items: center;background-color: white;padding-right: 0.2em;padding-left: 0.2em;position: relative;}#sk-container-id-1 div.sk-item {position: relative;z-index: 1;}#sk-container-id-1 div.sk-parallel {display: flex;align-items: stretch;justify-content: center;background-color: white;position: relative;}#sk-container-id-1 div.sk-item::before, #sk-container-id-1 div.sk-parallel-item::before {content: \"\";position: absolute;border-left: 1px solid gray;box-sizing: border-box;top: 0;bottom: 0;left: 50%;z-index: -1;}#sk-container-id-1 div.sk-parallel-item {display: flex;flex-direction: column;z-index: 1;position: relative;background-color: white;}#sk-container-id-1 div.sk-parallel-item:first-child::after {align-self: flex-end;width: 50%;}#sk-container-id-1 div.sk-parallel-item:last-child::after {align-self: flex-start;width: 50%;}#sk-container-id-1 div.sk-parallel-item:only-child::after {width: 0;}#sk-container-id-1 div.sk-dashed-wrapped {border: 1px dashed gray;margin: 0 0.4em 0.5em 0.4em;box-sizing: border-box;padding-bottom: 0.4em;background-color: white;}#sk-container-id-1 div.sk-label label {font-family: monospace;font-weight: bold;display: inline-block;line-height: 1.2em;}#sk-container-id-1 div.sk-label-container {text-align: center;}#sk-container-id-1 div.sk-container {/* jupyter's `normalize.less` sets `[hidden] { display: none; }` but bootstrap.min.css set `[hidden] { display: none !important; }` so we also need the `!important` here to be able to override the default hidden behavior on the sphinx rendered scikit-learn.org. See: https://github.com/scikit-learn/scikit-learn/issues/21755 */display: inline-block !important;position: relative;}#sk-container-id-1 div.sk-text-repr-fallback {display: none;}</style><div id=\"sk-container-id-1\" class=\"sk-top-container\"><div class=\"sk-text-repr-fallback\"><pre>XGBClassifier(base_score=None, booster=None, callbacks=None,\n",
              "              colsample_bylevel=None, colsample_bynode=None,\n",
              "              colsample_bytree=None, device=None, early_stopping_rounds=None,\n",
              "              enable_categorical=False, eval_metric=None, feature_types=None,\n",
              "              gamma=None, grow_policy=None, importance_type=None,\n",
              "              interaction_constraints=None, learning_rate=0.05, max_bin=None,\n",
              "              max_cat_threshold=None, max_cat_to_onehot=None,\n",
              "              max_delta_step=None, max_depth=None, max_leaves=None,\n",
              "              min_child_weight=None, missing=nan, monotone_constraints=None,\n",
              "              multi_strategy=None, n_estimators=1000, n_jobs=None,\n",
              "              num_parallel_tree=None, random_state=None, ...)</pre><b>In a Jupyter environment, please rerun this cell to show the HTML representation or trust the notebook. <br />On GitHub, the HTML representation is unable to render, please try loading this page with nbviewer.org.</b></div><div class=\"sk-container\" hidden><div class=\"sk-item\"><div class=\"sk-estimator sk-toggleable\"><input class=\"sk-toggleable__control sk-hidden--visually\" id=\"sk-estimator-id-1\" type=\"checkbox\" checked><label for=\"sk-estimator-id-1\" class=\"sk-toggleable__label sk-toggleable__label-arrow\">XGBClassifier</label><div class=\"sk-toggleable__content\"><pre>XGBClassifier(base_score=None, booster=None, callbacks=None,\n",
              "              colsample_bylevel=None, colsample_bynode=None,\n",
              "              colsample_bytree=None, device=None, early_stopping_rounds=None,\n",
              "              enable_categorical=False, eval_metric=None, feature_types=None,\n",
              "              gamma=None, grow_policy=None, importance_type=None,\n",
              "              interaction_constraints=None, learning_rate=0.05, max_bin=None,\n",
              "              max_cat_threshold=None, max_cat_to_onehot=None,\n",
              "              max_delta_step=None, max_depth=None, max_leaves=None,\n",
              "              min_child_weight=None, missing=nan, monotone_constraints=None,\n",
              "              multi_strategy=None, n_estimators=1000, n_jobs=None,\n",
              "              num_parallel_tree=None, random_state=None, ...)</pre></div></div></div></div></div>"
            ]
          },
          "metadata": {},
          "execution_count": 25
        }
      ]
    },
    {
      "cell_type": "code",
      "metadata": {
        "id": "BfF6mOHOCeqP",
        "outputId": "b3f47afe-84b4-4afd-d112-543224b8bbff",
        "colab": {
          "base_uri": "https://localhost:8080/"
        }
      },
      "source": [
        "pred = model.predict_proba(X_test)[:, 1]\n",
        "roc_auc_score(y_score=pred, y_true=y_test)"
      ],
      "execution_count": 26,
      "outputs": [
        {
          "output_type": "execute_result",
          "data": {
            "text/plain": [
              "0.9932375316990701"
            ]
          },
          "metadata": {},
          "execution_count": 26
        }
      ]
    },
    {
      "cell_type": "markdown",
      "metadata": {
        "id": "BAplBICuZko2"
      },
      "source": [
        "## Упражнение 5\n",
        "\n"
      ]
    },
    {
      "cell_type": "markdown",
      "metadata": {
        "id": "jGAYbfZWL6MW"
      },
      "source": [
        "<img src=\"https://raw.githubusercontent.com/aiqm/torchani/master/logo1.png\">\n",
        "\n",
        "[Статья о torchANI](https://pubs.acs.org/doi/pdf/10.1021/acs.jcim.0c00451)"
      ]
    },
    {
      "cell_type": "markdown",
      "metadata": {
        "id": "fkHfCCgiKyZc"
      },
      "source": [
        "Нейронная сеть torchANI обучена на основании координат атомов в составе молекулы / боле сложной системы предсказывать энергию данной системы. Для чего это нужно?\n",
        "\n",
        "Ну например для того, чтобы из нескольких возможных положений атомов молекулы (расстояния между ними, углы) выбрать то, которое имеет наименьшую энергию и потому будет предпочтительным"
      ]
    },
    {
      "cell_type": "markdown",
      "metadata": {
        "id": "bkOqulnRpBkq"
      },
      "source": [
        "В данном задании вам предлагается при помощи нейронной сети torchANI, которая умеет оценивать энергию молекул подобрать длину связей между углеродами в молекуле этана\n",
        "\n",
        "<img src=\"https://upload.wikimedia.org/wikipedia/commons/7/7c/Ethane-2D.png\" width=\"400px\">"
      ]
    },
    {
      "cell_type": "markdown",
      "metadata": {
        "id": "ZIaebArYrca0"
      },
      "source": [
        "Поставим все необходимые пакеты"
      ]
    },
    {
      "cell_type": "code",
      "metadata": {
        "id": "fBVVwStHalRe",
        "colab": {
          "base_uri": "https://localhost:8080/"
        },
        "outputId": "59610362-512e-458b-c85b-de31d216a935"
      },
      "source": [
        "!pip install --pre torch torchvision -f https://download.pytorch.org/whl/nightly/cu100/torch_nightly.html\n",
        "!pip install torchani\n",
        "!pip install rdkit-pypi"
      ],
      "execution_count": null,
      "outputs": [
        {
          "output_type": "stream",
          "name": "stdout",
          "text": [
            "Looking in links: https://download.pytorch.org/whl/nightly/cu100/torch_nightly.html\n",
            "Requirement already satisfied: torch in /usr/local/lib/python3.7/dist-packages (1.10.0+cu111)\n",
            "Requirement already satisfied: torchvision in /usr/local/lib/python3.7/dist-packages (0.11.1+cu111)\n",
            "Requirement already satisfied: typing-extensions in /usr/local/lib/python3.7/dist-packages (from torch) (3.10.0.2)\n",
            "Requirement already satisfied: pillow!=8.3.0,>=5.3.0 in /usr/local/lib/python3.7/dist-packages (from torchvision) (7.1.2)\n",
            "Requirement already satisfied: numpy in /usr/local/lib/python3.7/dist-packages (from torchvision) (1.19.5)\n",
            "Collecting torchani\n",
            "  Downloading torchani-2.2-py3-none-any.whl (10.8 MB)\n",
            "\u001b[K     |████████████████████████████████| 10.8 MB 4.8 MB/s \n",
            "\u001b[?25hCollecting lark-parser\n",
            "  Downloading lark_parser-0.12.0-py2.py3-none-any.whl (103 kB)\n",
            "\u001b[K     |████████████████████████████████| 103 kB 43.6 MB/s \n",
            "\u001b[?25hRequirement already satisfied: torch in /usr/local/lib/python3.7/dist-packages (from torchani) (1.10.0+cu111)\n",
            "Requirement already satisfied: requests in /usr/local/lib/python3.7/dist-packages (from torchani) (2.23.0)\n",
            "Requirement already satisfied: idna<3,>=2.5 in /usr/local/lib/python3.7/dist-packages (from requests->torchani) (2.10)\n",
            "Requirement already satisfied: urllib3!=1.25.0,!=1.25.1,<1.26,>=1.21.1 in /usr/local/lib/python3.7/dist-packages (from requests->torchani) (1.24.3)\n",
            "Requirement already satisfied: certifi>=2017.4.17 in /usr/local/lib/python3.7/dist-packages (from requests->torchani) (2021.10.8)\n",
            "Requirement already satisfied: chardet<4,>=3.0.2 in /usr/local/lib/python3.7/dist-packages (from requests->torchani) (3.0.4)\n",
            "Requirement already satisfied: typing-extensions in /usr/local/lib/python3.7/dist-packages (from torch->torchani) (3.10.0.2)\n",
            "Installing collected packages: lark-parser, torchani\n",
            "Successfully installed lark-parser-0.12.0 torchani-2.2\n",
            "Collecting rdkit-pypi\n",
            "  Downloading rdkit_pypi-2021.9.2.1-cp37-cp37m-manylinux_2_17_x86_64.manylinux2014_x86_64.whl (20.6 MB)\n",
            "\u001b[K     |████████████████████████████████| 20.6 MB 1.3 MB/s \n",
            "\u001b[?25hRequirement already satisfied: numpy>=1.19 in /usr/local/lib/python3.7/dist-packages (from rdkit-pypi) (1.19.5)\n",
            "Installing collected packages: rdkit-pypi\n",
            "Successfully installed rdkit-pypi-2021.9.2.1\n"
          ]
        }
      ]
    },
    {
      "cell_type": "code",
      "metadata": {
        "id": "2wq9NM-JaFUR"
      },
      "source": [
        "import torch\n",
        "import torchani\n",
        "import numpy as np\n",
        "\n",
        "from rdkit import Chem\n",
        "from rdkit.Chem import AllChem\n",
        "from rdkit import RDConfig\n",
        "from rdkit.Chem.Draw import IPythonConsole\n",
        "from rdkit.Chem import Draw"
      ],
      "execution_count": null,
      "outputs": []
    },
    {
      "cell_type": "code",
      "metadata": {
        "id": "jLobLtVDagfq",
        "colab": {
          "base_uri": "https://localhost:8080/"
        },
        "outputId": "2ef4040b-d928-4f3f-cfe8-38e20195ae8e"
      },
      "source": [
        "device = torch.device(\"cuda\")\n",
        "model = torchani.models.ANI2x(periodic_table_index=True).to(device)"
      ],
      "execution_count": null,
      "outputs": [
        {
          "output_type": "stream",
          "name": "stdout",
          "text": [
            "Downloading ANI model parameters ...\n"
          ]
        },
        {
          "output_type": "stream",
          "name": "stderr",
          "text": [
            "/usr/local/lib/python3.7/dist-packages/torch/functional.py:1069: UserWarning: torch.meshgrid: in an upcoming release, it will be required to pass the indexing argument. (Triggered internally at  ../aten/src/ATen/native/TensorShape.cpp:2157.)\n",
            "  return _VF.cartesian_prod(tensors)  # type: ignore[attr-defined]\n"
          ]
        }
      ]
    },
    {
      "cell_type": "markdown",
      "metadata": {
        "id": "rsyVe3NS2EA3"
      },
      "source": [
        "Скачаем архив с молекулами \"этана\", у которых установлены разные расстояния между углеродами"
      ]
    },
    {
      "cell_type": "code",
      "metadata": {
        "id": "Ud0P1Ync1-nl",
        "colab": {
          "base_uri": "https://localhost:8080/"
        },
        "outputId": "2b2d0473-628e-4fff-dfad-0bc015aff208"
      },
      "source": [
        "!wget https://kodomo.fbb.msu.ru/FBB/year_20/ml/ethane.zip\n",
        "!unzip ethane.zip"
      ],
      "execution_count": null,
      "outputs": [
        {
          "output_type": "stream",
          "name": "stdout",
          "text": [
            "--2021-11-11 18:46:29--  https://kodomo.fbb.msu.ru/FBB/year_20/ml/ethane.zip\n",
            "Resolving kodomo.fbb.msu.ru (kodomo.fbb.msu.ru)... 93.180.63.127\n",
            "Connecting to kodomo.fbb.msu.ru (kodomo.fbb.msu.ru)|93.180.63.127|:443... connected.\n",
            "HTTP request sent, awaiting response... 200 OK\n",
            "Length: 44635 (44K) [application/zip]\n",
            "Saving to: ‘ethane.zip’\n",
            "\n",
            "ethane.zip          100%[===================>]  43.59K   160KB/s    in 0.3s    \n",
            "\n",
            "2021-11-11 18:46:31 (160 KB/s) - ‘ethane.zip’ saved [44635/44635]\n",
            "\n",
            "Archive:  ethane.zip\n",
            "  inflating: et_0.50.xyz             \n",
            "  inflating: et_0.51.xyz             \n",
            "  inflating: et_0.52.xyz             \n",
            "  inflating: et_0.53.xyz             \n",
            "  inflating: et_0.54.xyz             \n",
            "  inflating: et_0.55.xyz             \n",
            "  inflating: et_0.56.xyz             \n",
            "  inflating: et_0.57.xyz             \n",
            "  inflating: et_0.58.xyz             \n",
            "  inflating: et_0.59.xyz             \n",
            "  inflating: et_0.60.xyz             \n",
            "  inflating: et_0.61.xyz             \n",
            "  inflating: et_0.62.xyz             \n",
            "  inflating: et_0.63.xyz             \n",
            "  inflating: et_0.64.xyz             \n",
            "  inflating: et_0.65.xyz             \n",
            "  inflating: et_0.66.xyz             \n",
            "  inflating: et_0.67.xyz             \n",
            "  inflating: et_0.68.xyz             \n",
            "  inflating: et_0.69.xyz             \n",
            "  inflating: et_0.70.xyz             \n",
            "  inflating: et_0.71.xyz             \n",
            "  inflating: et_0.72.xyz             \n",
            "  inflating: et_0.73.xyz             \n",
            "  inflating: et_0.74.xyz             \n",
            "  inflating: et_0.75.xyz             \n",
            "  inflating: et_0.76.xyz             \n",
            "  inflating: et_0.77.xyz             \n",
            "  inflating: et_0.78.xyz             \n",
            "  inflating: et_0.79.xyz             \n",
            "  inflating: et_0.80.xyz             \n",
            "  inflating: et_0.81.xyz             \n",
            "  inflating: et_0.82.xyz             \n",
            "  inflating: et_0.83.xyz             \n",
            "  inflating: et_0.84.xyz             \n",
            "  inflating: et_0.85.xyz             \n",
            "  inflating: et_0.86.xyz             \n",
            "  inflating: et_0.87.xyz             \n",
            "  inflating: et_0.88.xyz             \n",
            "  inflating: et_0.89.xyz             \n",
            "  inflating: et_0.90.xyz             \n",
            "  inflating: et_0.91.xyz             \n",
            "  inflating: et_0.92.xyz             \n",
            "  inflating: et_0.93.xyz             \n",
            "  inflating: et_0.94.xyz             \n",
            "  inflating: et_0.95.xyz             \n",
            "  inflating: et_0.96.xyz             \n",
            "  inflating: et_0.97.xyz             \n",
            "  inflating: et_0.98.xyz             \n",
            "  inflating: et_0.99.xyz             \n",
            "  inflating: et_1.00.xyz             \n",
            "  inflating: et_1.01.xyz             \n",
            "  inflating: et_1.02.xyz             \n",
            "  inflating: et_1.03.xyz             \n",
            "  inflating: et_1.04.xyz             \n",
            "  inflating: et_1.05.xyz             \n",
            "  inflating: et_1.06.xyz             \n",
            "  inflating: et_1.07.xyz             \n",
            "  inflating: et_1.08.xyz             \n",
            "  inflating: et_1.09.xyz             \n",
            "  inflating: et_1.10.xyz             \n",
            "  inflating: et_1.11.xyz             \n",
            "  inflating: et_1.12.xyz             \n",
            "  inflating: et_1.13.xyz             \n",
            "  inflating: et_1.14.xyz             \n",
            "  inflating: et_1.15.xyz             \n",
            "  inflating: et_1.16.xyz             \n",
            "  inflating: et_1.17.xyz             \n",
            "  inflating: et_1.18.xyz             \n",
            "  inflating: et_1.19.xyz             \n",
            "  inflating: et_1.20.xyz             \n",
            "  inflating: et_1.21.xyz             \n",
            "  inflating: et_1.22.xyz             \n",
            "  inflating: et_1.23.xyz             \n",
            "  inflating: et_1.24.xyz             \n",
            "  inflating: et_1.25.xyz             \n",
            "  inflating: et_1.26.xyz             \n",
            "  inflating: et_1.27.xyz             \n",
            "  inflating: et_1.28.xyz             \n",
            "  inflating: et_1.29.xyz             \n",
            "  inflating: et_1.30.xyz             \n",
            "  inflating: et_1.31.xyz             \n",
            "  inflating: et_1.32.xyz             \n",
            "  inflating: et_1.33.xyz             \n",
            "  inflating: et_1.34.xyz             \n",
            "  inflating: et_1.35.xyz             \n",
            "  inflating: et_1.36.xyz             \n",
            "  inflating: et_1.37.xyz             \n",
            "  inflating: et_1.38.xyz             \n",
            "  inflating: et_1.39.xyz             \n",
            "  inflating: et_1.40.xyz             \n",
            "  inflating: et_1.41.xyz             \n",
            "  inflating: et_1.42.xyz             \n",
            "  inflating: et_1.43.xyz             \n",
            "  inflating: et_1.44.xyz             \n",
            "  inflating: et_1.45.xyz             \n",
            "  inflating: et_1.46.xyz             \n",
            "  inflating: et_1.47.xyz             \n",
            "  inflating: et_1.48.xyz             \n",
            "  inflating: et_1.49.xyz             \n",
            "  inflating: et_1.50.xyz             \n",
            "  inflating: et_1.51.xyz             \n",
            "  inflating: et_1.52.xyz             \n",
            "  inflating: et_1.53.xyz             \n",
            "  inflating: et_1.54.xyz             \n",
            "  inflating: et_1.55.xyz             \n",
            "  inflating: et_1.56.xyz             \n",
            "  inflating: et_1.57.xyz             \n",
            "  inflating: et_1.58.xyz             \n",
            "  inflating: et_1.59.xyz             \n",
            "  inflating: et_1.60.xyz             \n",
            "  inflating: et_1.61.xyz             \n",
            "  inflating: et_1.62.xyz             \n",
            "  inflating: et_1.63.xyz             \n",
            "  inflating: et_1.64.xyz             \n",
            "  inflating: et_1.65.xyz             \n",
            "  inflating: et_1.66.xyz             \n",
            "  inflating: et_1.67.xyz             \n",
            "  inflating: et_1.68.xyz             \n",
            "  inflating: et_1.69.xyz             \n",
            "  inflating: et_1.70.xyz             \n",
            "  inflating: et_1.71.xyz             \n",
            "  inflating: et_1.72.xyz             \n",
            "  inflating: et_1.73.xyz             \n",
            "  inflating: et_1.74.xyz             \n",
            "  inflating: et_1.75.xyz             \n",
            "  inflating: et_1.76.xyz             \n",
            "  inflating: et_1.77.xyz             \n",
            "  inflating: et_1.78.xyz             \n",
            "  inflating: et_1.79.xyz             \n",
            "  inflating: et_1.80.xyz             \n",
            "  inflating: et_1.81.xyz             \n",
            "  inflating: et_1.82.xyz             \n",
            "  inflating: et_1.83.xyz             \n",
            "  inflating: et_1.84.xyz             \n",
            "  inflating: et_1.85.xyz             \n",
            "  inflating: et_1.86.xyz             \n",
            "  inflating: et_1.87.xyz             \n",
            "  inflating: et_1.88.xyz             \n",
            "  inflating: et_1.89.xyz             \n",
            "  inflating: et_1.90.xyz             \n",
            "  inflating: et_1.91.xyz             \n",
            "  inflating: et_1.92.xyz             \n",
            "  inflating: et_1.93.xyz             \n",
            "  inflating: et_1.94.xyz             \n",
            "  inflating: et_1.95.xyz             \n",
            "  inflating: et_1.96.xyz             \n",
            "  inflating: et_1.97.xyz             \n",
            "  inflating: et_1.98.xyz             \n",
            "  inflating: et_1.99.xyz             \n",
            "  inflating: ethan.xyz               \n"
          ]
        }
      ]
    },
    {
      "cell_type": "markdown",
      "metadata": {
        "id": "gtu3pcqdEDAz"
      },
      "source": [
        "Формат названия файла следующий - et_<расстояние между С-атомами>.xyz"
      ]
    },
    {
      "cell_type": "code",
      "metadata": {
        "id": "hswuj2qXD8xX"
      },
      "source": [
        "import os\n",
        "import glob\n",
        "\n",
        "dist2coords = {}\n",
        "for path in glob.glob(\"et*.xyz\"):\n",
        "    basename = os.path.basename(path)\n",
        "    name = os.path.splitext(basename)[0]\n",
        "    if name == \"ethan\":\n",
        "        continue\n",
        "    dist = name.split(\"et_\")[1]\n",
        "    dist = float(dist)\n",
        "\n",
        "    with open(path, \"r\") as inp:\n",
        "        inp.readline()\n",
        "        inp.readline()\n",
        "        atoms = []\n",
        "        all_coords = []\n",
        "        for line in inp:\n",
        "            atom, *coords = line.split()\n",
        "            coords = [float(c) for c in coords]\n",
        "            atoms.append(atom)\n",
        "            all_coords.append(coords)\n",
        "    dist2coords[dist] = all_coords"
      ],
      "execution_count": null,
      "outputs": []
    },
    {
      "cell_type": "markdown",
      "metadata": {
        "id": "FJ6hzqDBNgDD"
      },
      "source": [
        "Необходимо сказать, каким атомам какие номера в таблице Менделеева соответствуют"
      ]
    },
    {
      "cell_type": "code",
      "metadata": {
        "id": "HqD28ZQBIg0e"
      },
      "source": [
        "atom2id = {\"C\": 12, \"H\":1 }"
      ],
      "execution_count": null,
      "outputs": []
    },
    {
      "cell_type": "markdown",
      "metadata": {
        "id": "XwgIWCh7Npxj"
      },
      "source": [
        "Засовываем в модель атомы и координаты атомомов"
      ]
    },
    {
      "cell_type": "code",
      "metadata": {
        "id": "8h3WfNtxIHcB",
        "colab": {
          "base_uri": "https://localhost:8080/"
        },
        "outputId": "122fd44b-5c99-4e7d-92a3-2fcc5a7aa1dc"
      },
      "source": [
        "energies = []\n",
        "dists = []\n",
        "for d in sorted(dist2coords.keys()):\n",
        "    coords = dist2coords[d]\n",
        "    coordinates = torch.tensor([coords], requires_grad=True)\n",
        "    species = torch.tensor([[atom2id[a] for a in atoms]], device=device)\n",
        "\n",
        "    coordinates = coordinates.to(device)\n",
        "    species = species.to(device)\n",
        "\n",
        "    energy = model((species, coordinates)).energies\n",
        "\n",
        "    dists.append(d)\n",
        "    energies.append(energy.detach().float())"
      ],
      "execution_count": null,
      "outputs": [
        {
          "output_type": "stream",
          "name": "stderr",
          "text": [
            "/usr/local/lib/python3.7/dist-packages/torchani/aev.py:236: UserWarning: __floordiv__ is deprecated, and its behavior will change in a future version of pytorch. It currently rounds toward 0 (like the 'trunc' function NOT 'floor'). This results in incorrect rounding for negative values. To keep the current behavior, use torch.div(a, b, rounding_mode='trunc'), or for actual floor division, use torch.div(a, b, rounding_mode='floor').\n",
            "  pair_sizes = counts * (counts - 1) // 2\n"
          ]
        }
      ]
    },
    {
      "cell_type": "markdown",
      "metadata": {
        "id": "W2bI2E41MMCt"
      },
      "source": [
        "Найдем минимум энергии"
      ]
    },
    {
      "cell_type": "code",
      "metadata": {
        "id": "eRoAflbsd7_r",
        "colab": {
          "base_uri": "https://localhost:8080/",
          "height": 282
        },
        "outputId": "bebd82d3-cbc6-4ab2-bf3e-2b5bec1fa5bb"
      },
      "source": [
        "import matplotlib.pyplot as plt\n",
        "plt.plot(dists, energies, label=\"energy\")\n",
        "plt.legend()"
      ],
      "execution_count": null,
      "outputs": [
        {
          "output_type": "execute_result",
          "data": {
            "text/plain": [
              "<matplotlib.legend.Legend at 0x7f0fcf281710>"
            ]
          },
          "metadata": {},
          "execution_count": 10
        },
        {
          "output_type": "display_data",
          "data": {
            "image/png": "[encoded data removed]",
            "text/plain": [
              "<Figure size 432x288 with 1 Axes>"
            ]
          },
          "metadata": {
            "needs_background": "light"
          }
        }
      ]
    },
    {
      "cell_type": "code",
      "metadata": {
        "id": "y5zM-jqEMONM"
      },
      "source": [
        "# your code here"
      ],
      "execution_count": null,
      "outputs": []
    },
    {
      "cell_type": "code",
      "metadata": {
        "id": "-Fz7UcXkVP3p"
      },
      "source": [
        "dist2coords"
      ],
      "execution_count": null,
      "outputs": []
    },
    {
      "cell_type": "markdown",
      "metadata": {
        "id": "vECRcE7nI2MY"
      },
      "source": [
        "Используя интернет, проверьте, соответствует ли полученная длина связи реальному значению"
      ]
    }
  ]
}