{
  "nbformat": 4,
  "nbformat_minor": 0,
  "metadata": {
    "colab": {
      "provenance": [],
      "include_colab_link": true
    },
    "kernelspec": {
      "name": "python3",
      "display_name": "Python 3"
    },
    "language_info": {
      "name": "python"
    },
    "accelerator": "GPU"
  },
  "cells": [
    {
      "cell_type": "markdown",
      "metadata": {
        "id": "view-in-github",
        "colab_type": "text"
      },
      "source": [
        "<a href=\"https://colab.research.google.com/github/Existanze54/sirius-neural-networks-2024/blob/main/Practices/02S_Introduction_NNs.ipynb\" target=\"_parent\"><img src=\"https://colab.research.google.com/assets/colab-badge.svg\" alt=\"Open In Colab\"/></a>"
      ]
    },
    {
      "cell_type": "markdown",
      "metadata": {
        "id": "O6TEGCncDdOi"
      },
      "source": [
        "##Упражнение 1"
      ]
    },
    {
      "cell_type": "markdown",
      "metadata": {
        "id": "LqKDdP2GDiaS"
      },
      "source": [
        "В этом упражнении вам нужно будет написать свою нейронную сеть, обучить ее на датасете Breast cancer wisconsin, оценить на сколько хорошо справляется полносвязная нейронная сеть с табличными данными."
      ]
    },
    {
      "cell_type": "code",
      "metadata": {
        "id": "tO9yq2LgDXRd"
      },
      "source": [
        "import numpy as np\n",
        "import pandas as pd\n",
        "import matplotlib.pyplot as plt\n",
        "\n",
        "from IPython.core.display import display\n",
        "\n",
        "import torch\n",
        "import torch.utils.data as data_utils\n",
        "import torch.nn.init as init\n",
        "\n",
        "import torch.nn as nn\n",
        "import torch.nn.functional as F\n",
        "from torch.utils.data import Dataset, DataLoader\n",
        "\n",
        "from sklearn.model_selection import train_test_split\n",
        "from sklearn.preprocessing import StandardScaler\n",
        "from sklearn import datasets, ensemble\n",
        "from sklearn.metrics import roc_auc_score"
      ],
      "execution_count": null,
      "outputs": []
    },
    {
      "cell_type": "markdown",
      "metadata": {
        "id": "PKMhw3b7FgDM"
      },
      "source": [
        "Загрузите датасет и разделите его на обучающую, валидационную и тестовую выборки. Размер тестового датасета - 25%, размер валидационного - 25% от оставшегося"
      ]
    },
    {
      "cell_type": "code",
      "metadata": {
        "id": "OuCD87zMFxHD"
      },
      "source": [
        "data = datasets.load_breast_cancer()\n",
        "print(data['data'].shape)\n",
        "print(data['target'].shape)\n",
        "\n",
        "all_train_X, X_test, all_train_y, y_test = # your code here\n",
        "X_train, X_val, y_train, y_val = # your code here"
      ],
      "execution_count": null,
      "outputs": []
    },
    {
      "cell_type": "markdown",
      "metadata": {
        "id": "p736f-HdG5rG"
      },
      "source": [
        "Продемонстрируйте размерность датасетов\n"
      ]
    },
    {
      "cell_type": "code",
      "metadata": {
        "id": "np6CtpR6Mfpk"
      },
      "source": [
        "# your code here"
      ],
      "execution_count": null,
      "outputs": []
    },
    {
      "cell_type": "markdown",
      "metadata": {
        "id": "6KjrzTdKHIqN"
      },
      "source": [
        "Реализуйте полносвязную модель. Не стоит делать больше 2-3 скрытых слоев."
      ]
    },
    {
      "cell_type": "code",
      "metadata": {
        "id": "Q8s1eCJiHl0o"
      },
      "source": [
        "class NeuralNetwork(nn.Module):\n",
        "    def __init__(self):\n",
        "        super().__init__()\n",
        "        self.model = nn.Sequential( # your code here)\n",
        "\n",
        "    def forward(self, x):\n",
        "        return self.model(x)"
      ],
      "execution_count": null,
      "outputs": []
    },
    {
      "cell_type": "markdown",
      "metadata": {
        "id": "3DZJsTd9HvsI"
      },
      "source": [
        "Задайте модель, критерий и оптимизатор"
      ]
    },
    {
      "cell_type": "code",
      "metadata": {
        "id": "Fss9iIEZE67Y"
      },
      "source": [
        "device = torch.device(\"cpu\") # we'll use cpu here\n",
        "model = # your code here\n",
        "model = mode.to(device)\n",
        "optimizer = # your code here, set lr to 0.0001\n",
        "criterion = nn.BCELoss() # используйте эту функцию в качестве лосса. Она нужна для бинарной классификации."
      ],
      "execution_count": null,
      "outputs": []
    },
    {
      "cell_type": "markdown",
      "metadata": {
        "id": "JNuazZ8KNaHH"
      },
      "source": [
        "Основной цикл обучения. В модель можно подавать сразу весь датасет"
      ]
    },
    {
      "cell_type": "code",
      "metadata": {
        "id": "5PTRUC3QH2Dh"
      },
      "source": [
        "train_losses = []\n",
        "val_losses = []\n",
        "for i in range(1500):\n",
        "\n",
        "    y_pred = model(torch.from_numpy(X_train).float().to(device))\n",
        "    y_pred = y_pred.view(-1)\n",
        "    loss = criterion(y_pred, torch.from_numpy(y_train).float().to(device))\n",
        "    optimizer.zero_grad()\n",
        "    loss.backward()\n",
        "    optimizer.step()\n",
        "    train_losses.append(loss.detach().numpy())\n",
        "\n",
        "    with torch.no_grad(): # if no OPTIMIZATION, we can skip grad calculation\n",
        "        # same, but only to get validation score. NO OPTIMIZATION\n",
        "        y_pred = # your code here\n",
        "        y_pred = # your code here\n",
        "        val_loss = # your code here\n",
        "        val_losses.append(val_loss.detach().numpy())"
      ],
      "execution_count": null,
      "outputs": []
    },
    {
      "cell_type": "markdown",
      "metadata": {
        "id": "uPMoVimLNeFG"
      },
      "source": [
        "Постройте график loss и accuracy от эпохи."
      ]
    },
    {
      "cell_type": "code",
      "metadata": {
        "id": "85LhPsw4G1ce"
      },
      "source": [
        "import matplotlib.pyplot as plt\n",
        "plt.plot(train_losses, label=\"train\")\n",
        "# your code here\n",
        "plt.legend()\n",
        "plt.show()"
      ],
      "execution_count": null,
      "outputs": []
    },
    {
      "cell_type": "markdown",
      "metadata": {
        "id": "A8mypULhHZ15"
      },
      "source": [
        "Посчитайте качество на test\n"
      ]
    },
    {
      "cell_type": "code",
      "metadata": {
        "id": "lA6MQ4y_Hkkn"
      },
      "source": [
        "with torch.no_grad():\n",
        "        # your code here\n",
        "        # your code here\n",
        "roc_auc_score(y_score=y_pred, y_true=y_test)"
      ],
      "execution_count": null,
      "outputs": []
    },
    {
      "cell_type": "markdown",
      "metadata": {
        "id": "TFhB2VHLCCS3"
      },
      "source": [
        "## Упражнение 2\n",
        "\n",
        "Нормализуйте ваши данные и посмотрите на качество нейросети в зависимости от эпохи. Что-то изменилось?\n",
        "\n",
        "Объясните, почему"
      ]
    },
    {
      "cell_type": "code",
      "metadata": {
        "id": "TCp0aGv0CLvj"
      },
      "source": [
        "from sklearn.preprocessing import StandardScaler"
      ],
      "execution_count": null,
      "outputs": []
    },
    {
      "cell_type": "code",
      "metadata": {
        "id": "gFqM04-eNBAX"
      },
      "source": [
        "scaler = StandardScaler()\n",
        "scaler.fit(X_train)\n",
        "X_train_sc = scaler.transform(X_train)\n",
        "X_val_sc = # your code here\n",
        "X_test_sc = # your code here"
      ],
      "execution_count": null,
      "outputs": []
    },
    {
      "cell_type": "code",
      "metadata": {
        "id": "O_mMJzkGN5VP"
      },
      "source": [
        "device = torch.device(# your code here)\n",
        "model = # your code here\n",
        "optimizer = # your code here\n",
        "criterion = # your code here"
      ],
      "execution_count": null,
      "outputs": []
    },
    {
      "cell_type": "code",
      "metadata": {
        "id": "7X4k637dNoPV"
      },
      "source": [
        "train_losses = []\n",
        "val_losses = []\n",
        "for i in range(1500):\n",
        "    # your code here\n",
        "    with torch.no_grad():\n",
        "        # your code here"
      ],
      "execution_count": null,
      "outputs": []
    },
    {
      "cell_type": "code",
      "metadata": {
        "id": "Zm3uKJDvNurp"
      },
      "source": [
        "import matplotlib.pyplot as plt\n",
        "plt.plot(train_losses, label=\"train\")\n",
        "plt.plot(val_losses, label=\"val\")\n",
        "plt.legend()\n",
        "plt.show()"
      ],
      "execution_count": null,
      "outputs": []
    },
    {
      "cell_type": "code",
      "metadata": {
        "id": "kmiTMsMKONkf"
      },
      "source": [
        "with torch.no_grad():\n",
        "        y_pred = model(torch.from_numpy(X_test_sc).float())\n",
        "        y_pred = y_pred.view(-1).numpy()\n",
        "roc_auc_score(y_score=y_pred, y_true=y_test)"
      ],
      "execution_count": null,
      "outputs": []
    },
    {
      "cell_type": "markdown",
      "metadata": {
        "id": "-JanKjOwKrQe"
      },
      "source": [
        "## Упражнение 3\n",
        "\n",
        "Сравните скорости обучения на cpu и gpu"
      ]
    },
    {
      "cell_type": "code",
      "metadata": {
        "id": "cwgJZNteLDBO"
      },
      "source": [
        "device = torch.device(\"cuda\")\n",
        "# your code here"
      ],
      "execution_count": null,
      "outputs": []
    },
    {
      "cell_type": "code",
      "metadata": {
        "id": "Bbdwf63eK5kL"
      },
      "source": [
        "# your code here"
      ],
      "execution_count": null,
      "outputs": []
    },
    {
      "cell_type": "code",
      "metadata": {
        "id": "btnkqZb-Ll3i"
      },
      "source": [
        "# your code here"
      ],
      "execution_count": null,
      "outputs": []
    },
    {
      "cell_type": "code",
      "metadata": {
        "id": "S5dWmM2rLpFb"
      },
      "source": [
        "# your code here"
      ],
      "execution_count": null,
      "outputs": []
    },
    {
      "cell_type": "markdown",
      "metadata": {
        "id": "UKUxgrQMB0EX"
      },
      "source": [
        "## Упражнение 4\n",
        "\n",
        "А теперь давайте сравнимся с качеством XGBoost. Не подбираем параметры кроме числа деревьев"
      ]
    },
    {
      "cell_type": "code",
      "metadata": {
        "id": "QwK7YZS8CQxR"
      },
      "source": [
        "import xgboost as xgb\n",
        "model = # your code here, use classifier,  n_estimators=1000, learning_rate=0.05\n",
        "model.fit(X_train, y_train,\n",
        "          eval_set=[(X_val, y_val)]\n",
        "          # provide xgboost with validation set for automatic number of estimators selection )\n"
      ],
      "execution_count": null,
      "outputs": []
    },
    {
      "cell_type": "code",
      "metadata": {
        "id": "BfF6mOHOCeqP"
      },
      "source": [
        "pred = model.predict_proba(X_test)[:, 1]\n",
        "roc_auc_score(y_score=pred, y_true=y_test)"
      ],
      "execution_count": null,
      "outputs": []
    },
    {
      "cell_type": "markdown",
      "metadata": {
        "id": "BAplBICuZko2"
      },
      "source": [
        "## Упражнение 5\n",
        "\n"
      ]
    },
    {
      "cell_type": "markdown",
      "metadata": {
        "id": "jGAYbfZWL6MW"
      },
      "source": [
        "<img src=\"https://raw.githubusercontent.com/aiqm/torchani/master/logo1.png\">\n",
        "\n",
        "[Статья о torchANI](https://pubs.acs.org/doi/pdf/10.1021/acs.jcim.0c00451)"
      ]
    },
    {
      "cell_type": "markdown",
      "metadata": {
        "id": "fkHfCCgiKyZc"
      },
      "source": [
        "Нейронная сеть torchANI обучена на основании координат атомов в составе молекулы / боле сложной системы предсказывать энергию данной системы. Для чего это нужно?\n",
        "\n",
        "Ну например для того, чтобы из нескольких возможных положений атомов молекулы (расстояния между ними, углы) выбрать то, которое имеет наименьшую энергию и потому будет предпочтительным"
      ]
    },
    {
      "cell_type": "markdown",
      "metadata": {
        "id": "bkOqulnRpBkq"
      },
      "source": [
        "В данном задании вам предлагается при помощи нейронной сети torchANI, которая умеет оценивать энергию молекул подобрать длину связей между углеродами в молекуле этана\n",
        "\n",
        "<img src=\"https://upload.wikimedia.org/wikipedia/commons/7/7c/Ethane-2D.png\" width=\"400px\">"
      ]
    },
    {
      "cell_type": "markdown",
      "metadata": {
        "id": "ZIaebArYrca0"
      },
      "source": [
        "Поставим все необходимые пакеты"
      ]
    },
    {
      "cell_type": "code",
      "metadata": {
        "id": "fBVVwStHalRe",
        "colab": {
          "base_uri": "https://localhost:8080/"
        },
        "outputId": "59610362-512e-458b-c85b-de31d216a935"
      },
      "source": [
        "!pip install --pre torch torchvision -f https://download.pytorch.org/whl/nightly/cu100/torch_nightly.html\n",
        "!pip install torchani\n",
        "!pip install rdkit-pypi"
      ],
      "execution_count": null,
      "outputs": [
        {
          "output_type": "stream",
          "name": "stdout",
          "text": [
            "Looking in links: https://download.pytorch.org/whl/nightly/cu100/torch_nightly.html\n",
            "Requirement already satisfied: torch in /usr/local/lib/python3.7/dist-packages (1.10.0+cu111)\n",
            "Requirement already satisfied: torchvision in /usr/local/lib/python3.7/dist-packages (0.11.1+cu111)\n",
            "Requirement already satisfied: typing-extensions in /usr/local/lib/python3.7/dist-packages (from torch) (3.10.0.2)\n",
            "Requirement already satisfied: pillow!=8.3.0,>=5.3.0 in /usr/local/lib/python3.7/dist-packages (from torchvision) (7.1.2)\n",
            "Requirement already satisfied: numpy in /usr/local/lib/python3.7/dist-packages (from torchvision) (1.19.5)\n",
            "Collecting torchani\n",
            "  Downloading torchani-2.2-py3-none-any.whl (10.8 MB)\n",
            "\u001b[K     |████████████████████████████████| 10.8 MB 4.8 MB/s \n",
            "\u001b[?25hCollecting lark-parser\n",
            "  Downloading lark_parser-0.12.0-py2.py3-none-any.whl (103 kB)\n",
            "\u001b[K     |████████████████████████████████| 103 kB 43.6 MB/s \n",
            "\u001b[?25hRequirement already satisfied: torch in /usr/local/lib/python3.7/dist-packages (from torchani) (1.10.0+cu111)\n",
            "Requirement already satisfied: requests in /usr/local/lib/python3.7/dist-packages (from torchani) (2.23.0)\n",
            "Requirement already satisfied: idna<3,>=2.5 in /usr/local/lib/python3.7/dist-packages (from requests->torchani) (2.10)\n",
            "Requirement already satisfied: urllib3!=1.25.0,!=1.25.1,<1.26,>=1.21.1 in /usr/local/lib/python3.7/dist-packages (from requests->torchani) (1.24.3)\n",
            "Requirement already satisfied: certifi>=2017.4.17 in /usr/local/lib/python3.7/dist-packages (from requests->torchani) (2021.10.8)\n",
            "Requirement already satisfied: chardet<4,>=3.0.2 in /usr/local/lib/python3.7/dist-packages (from requests->torchani) (3.0.4)\n",
            "Requirement already satisfied: typing-extensions in /usr/local/lib/python3.7/dist-packages (from torch->torchani) (3.10.0.2)\n",
            "Installing collected packages: lark-parser, torchani\n",
            "Successfully installed lark-parser-0.12.0 torchani-2.2\n",
            "Collecting rdkit-pypi\n",
            "  Downloading rdkit_pypi-2021.9.2.1-cp37-cp37m-manylinux_2_17_x86_64.manylinux2014_x86_64.whl (20.6 MB)\n",
            "\u001b[K     |████████████████████████████████| 20.6 MB 1.3 MB/s \n",
            "\u001b[?25hRequirement already satisfied: numpy>=1.19 in /usr/local/lib/python3.7/dist-packages (from rdkit-pypi) (1.19.5)\n",
            "Installing collected packages: rdkit-pypi\n",
            "Successfully installed rdkit-pypi-2021.9.2.1\n"
          ]
        }
      ]
    },
    {
      "cell_type": "code",
      "metadata": {
        "id": "2wq9NM-JaFUR"
      },
      "source": [
        "import torch\n",
        "import torchani\n",
        "import numpy as np\n",
        "\n",
        "from rdkit import Chem\n",
        "from rdkit.Chem import AllChem\n",
        "from rdkit import RDConfig\n",
        "from rdkit.Chem.Draw import IPythonConsole\n",
        "from rdkit.Chem import Draw"
      ],
      "execution_count": null,
      "outputs": []
    },
    {
      "cell_type": "code",
      "metadata": {
        "id": "jLobLtVDagfq",
        "colab": {
          "base_uri": "https://localhost:8080/"
        },
        "outputId": "2ef4040b-d928-4f3f-cfe8-38e20195ae8e"
      },
      "source": [
        "device = torch.device(\"cuda\")\n",
        "model = torchani.models.ANI2x(periodic_table_index=True).to(device)"
      ],
      "execution_count": null,
      "outputs": [
        {
          "output_type": "stream",
          "name": "stdout",
          "text": [
            "Downloading ANI model parameters ...\n"
          ]
        },
        {
          "output_type": "stream",
          "name": "stderr",
          "text": [
            "/usr/local/lib/python3.7/dist-packages/torch/functional.py:1069: UserWarning: torch.meshgrid: in an upcoming release, it will be required to pass the indexing argument. (Triggered internally at  ../aten/src/ATen/native/TensorShape.cpp:2157.)\n",
            "  return _VF.cartesian_prod(tensors)  # type: ignore[attr-defined]\n"
          ]
        }
      ]
    },
    {
      "cell_type": "markdown",
      "metadata": {
        "id": "rsyVe3NS2EA3"
      },
      "source": [
        "Скачаем архив с молекулами \"этана\", у которых установлены разные расстояния между углеродами"
      ]
    },
    {
      "cell_type": "code",
      "metadata": {
        "id": "Ud0P1Ync1-nl",
        "colab": {
          "base_uri": "https://localhost:8080/"
        },
        "outputId": "2b2d0473-628e-4fff-dfad-0bc015aff208"
      },
      "source": [
        "!wget https://kodomo.fbb.msu.ru/FBB/year_20/ml/ethane.zip\n",
        "!unzip ethane.zip"
      ],
      "execution_count": null,
      "outputs": [
        {
          "output_type": "stream",
          "name": "stdout",
          "text": [
            "--2021-11-11 18:46:29--  https://kodomo.fbb.msu.ru/FBB/year_20/ml/ethane.zip\n",
            "Resolving kodomo.fbb.msu.ru (kodomo.fbb.msu.ru)... 93.180.63.127\n",
            "Connecting to kodomo.fbb.msu.ru (kodomo.fbb.msu.ru)|93.180.63.127|:443... connected.\n",
            "HTTP request sent, awaiting response... 200 OK\n",
            "Length: 44635 (44K) [application/zip]\n",
            "Saving to: ‘ethane.zip’\n",
            "\n",
            "ethane.zip          100%[===================>]  43.59K   160KB/s    in 0.3s    \n",
            "\n",
            "2021-11-11 18:46:31 (160 KB/s) - ‘ethane.zip’ saved [44635/44635]\n",
            "\n",
            "Archive:  ethane.zip\n",
            "  inflating: et_0.50.xyz             \n",
            "  inflating: et_0.51.xyz             \n",
            "  inflating: et_0.52.xyz             \n",
            "  inflating: et_0.53.xyz             \n",
            "  inflating: et_0.54.xyz             \n",
            "  inflating: et_0.55.xyz             \n",
            "  inflating: et_0.56.xyz             \n",
            "  inflating: et_0.57.xyz             \n",
            "  inflating: et_0.58.xyz             \n",
            "  inflating: et_0.59.xyz             \n",
            "  inflating: et_0.60.xyz             \n",
            "  inflating: et_0.61.xyz             \n",
            "  inflating: et_0.62.xyz             \n",
            "  inflating: et_0.63.xyz             \n",
            "  inflating: et_0.64.xyz             \n",
            "  inflating: et_0.65.xyz             \n",
            "  inflating: et_0.66.xyz             \n",
            "  inflating: et_0.67.xyz             \n",
            "  inflating: et_0.68.xyz             \n",
            "  inflating: et_0.69.xyz             \n",
            "  inflating: et_0.70.xyz             \n",
            "  inflating: et_0.71.xyz             \n",
            "  inflating: et_0.72.xyz             \n",
            "  inflating: et_0.73.xyz             \n",
            "  inflating: et_0.74.xyz             \n",
            "  inflating: et_0.75.xyz             \n",
            "  inflating: et_0.76.xyz             \n",
            "  inflating: et_0.77.xyz             \n",
            "  inflating: et_0.78.xyz             \n",
            "  inflating: et_0.79.xyz             \n",
            "  inflating: et_0.80.xyz             \n",
            "  inflating: et_0.81.xyz             \n",
            "  inflating: et_0.82.xyz             \n",
            "  inflating: et_0.83.xyz             \n",
            "  inflating: et_0.84.xyz             \n",
            "  inflating: et_0.85.xyz             \n",
            "  inflating: et_0.86.xyz             \n",
            "  inflating: et_0.87.xyz             \n",
            "  inflating: et_0.88.xyz             \n",
            "  inflating: et_0.89.xyz             \n",
            "  inflating: et_0.90.xyz             \n",
            "  inflating: et_0.91.xyz             \n",
            "  inflating: et_0.92.xyz             \n",
            "  inflating: et_0.93.xyz             \n",
            "  inflating: et_0.94.xyz             \n",
            "  inflating: et_0.95.xyz             \n",
            "  inflating: et_0.96.xyz             \n",
            "  inflating: et_0.97.xyz             \n",
            "  inflating: et_0.98.xyz             \n",
            "  inflating: et_0.99.xyz             \n",
            "  inflating: et_1.00.xyz             \n",
            "  inflating: et_1.01.xyz             \n",
            "  inflating: et_1.02.xyz             \n",
            "  inflating: et_1.03.xyz             \n",
            "  inflating: et_1.04.xyz             \n",
            "  inflating: et_1.05.xyz             \n",
            "  inflating: et_1.06.xyz             \n",
            "  inflating: et_1.07.xyz             \n",
            "  inflating: et_1.08.xyz             \n",
            "  inflating: et_1.09.xyz             \n",
            "  inflating: et_1.10.xyz             \n",
            "  inflating: et_1.11.xyz             \n",
            "  inflating: et_1.12.xyz             \n",
            "  inflating: et_1.13.xyz             \n",
            "  inflating: et_1.14.xyz             \n",
            "  inflating: et_1.15.xyz             \n",
            "  inflating: et_1.16.xyz             \n",
            "  inflating: et_1.17.xyz             \n",
            "  inflating: et_1.18.xyz             \n",
            "  inflating: et_1.19.xyz             \n",
            "  inflating: et_1.20.xyz             \n",
            "  inflating: et_1.21.xyz             \n",
            "  inflating: et_1.22.xyz             \n",
            "  inflating: et_1.23.xyz             \n",
            "  inflating: et_1.24.xyz             \n",
            "  inflating: et_1.25.xyz             \n",
            "  inflating: et_1.26.xyz             \n",
            "  inflating: et_1.27.xyz             \n",
            "  inflating: et_1.28.xyz             \n",
            "  inflating: et_1.29.xyz             \n",
            "  inflating: et_1.30.xyz             \n",
            "  inflating: et_1.31.xyz             \n",
            "  inflating: et_1.32.xyz             \n",
            "  inflating: et_1.33.xyz             \n",
            "  inflating: et_1.34.xyz             \n",
            "  inflating: et_1.35.xyz             \n",
            "  inflating: et_1.36.xyz             \n",
            "  inflating: et_1.37.xyz             \n",
            "  inflating: et_1.38.xyz             \n",
            "  inflating: et_1.39.xyz             \n",
            "  inflating: et_1.40.xyz             \n",
            "  inflating: et_1.41.xyz             \n",
            "  inflating: et_1.42.xyz             \n",
            "  inflating: et_1.43.xyz             \n",
            "  inflating: et_1.44.xyz             \n",
            "  inflating: et_1.45.xyz             \n",
            "  inflating: et_1.46.xyz             \n",
            "  inflating: et_1.47.xyz             \n",
            "  inflating: et_1.48.xyz             \n",
            "  inflating: et_1.49.xyz             \n",
            "  inflating: et_1.50.xyz             \n",
            "  inflating: et_1.51.xyz             \n",
            "  inflating: et_1.52.xyz             \n",
            "  inflating: et_1.53.xyz             \n",
            "  inflating: et_1.54.xyz             \n",
            "  inflating: et_1.55.xyz             \n",
            "  inflating: et_1.56.xyz             \n",
            "  inflating: et_1.57.xyz             \n",
            "  inflating: et_1.58.xyz             \n",
            "  inflating: et_1.59.xyz             \n",
            "  inflating: et_1.60.xyz             \n",
            "  inflating: et_1.61.xyz             \n",
            "  inflating: et_1.62.xyz             \n",
            "  inflating: et_1.63.xyz             \n",
            "  inflating: et_1.64.xyz             \n",
            "  inflating: et_1.65.xyz             \n",
            "  inflating: et_1.66.xyz             \n",
            "  inflating: et_1.67.xyz             \n",
            "  inflating: et_1.68.xyz             \n",
            "  inflating: et_1.69.xyz             \n",
            "  inflating: et_1.70.xyz             \n",
            "  inflating: et_1.71.xyz             \n",
            "  inflating: et_1.72.xyz             \n",
            "  inflating: et_1.73.xyz             \n",
            "  inflating: et_1.74.xyz             \n",
            "  inflating: et_1.75.xyz             \n",
            "  inflating: et_1.76.xyz             \n",
            "  inflating: et_1.77.xyz             \n",
            "  inflating: et_1.78.xyz             \n",
            "  inflating: et_1.79.xyz             \n",
            "  inflating: et_1.80.xyz             \n",
            "  inflating: et_1.81.xyz             \n",
            "  inflating: et_1.82.xyz             \n",
            "  inflating: et_1.83.xyz             \n",
            "  inflating: et_1.84.xyz             \n",
            "  inflating: et_1.85.xyz             \n",
            "  inflating: et_1.86.xyz             \n",
            "  inflating: et_1.87.xyz             \n",
            "  inflating: et_1.88.xyz             \n",
            "  inflating: et_1.89.xyz             \n",
            "  inflating: et_1.90.xyz             \n",
            "  inflating: et_1.91.xyz             \n",
            "  inflating: et_1.92.xyz             \n",
            "  inflating: et_1.93.xyz             \n",
            "  inflating: et_1.94.xyz             \n",
            "  inflating: et_1.95.xyz             \n",
            "  inflating: et_1.96.xyz             \n",
            "  inflating: et_1.97.xyz             \n",
            "  inflating: et_1.98.xyz             \n",
            "  inflating: et_1.99.xyz             \n",
            "  inflating: ethan.xyz               \n"
          ]
        }
      ]
    },
    {
      "cell_type": "markdown",
      "metadata": {
        "id": "gtu3pcqdEDAz"
      },
      "source": [
        "Формат названия файла следующий - et_<расстояние между С-атомами>.xyz"
      ]
    },
    {
      "cell_type": "code",
      "metadata": {
        "id": "hswuj2qXD8xX"
      },
      "source": [
        "import os\n",
        "import glob\n",
        "\n",
        "dist2coords = {}\n",
        "for path in glob.glob(\"et*.xyz\"):\n",
        "    basename = os.path.basename(path)\n",
        "    name = os.path.splitext(basename)[0]\n",
        "    if name == \"ethan\":\n",
        "        continue\n",
        "    dist = name.split(\"et_\")[1]\n",
        "    dist = float(dist)\n",
        "\n",
        "    with open(path, \"r\") as inp:\n",
        "        inp.readline()\n",
        "        inp.readline()\n",
        "        atoms = []\n",
        "        all_coords = []\n",
        "        for line in inp:\n",
        "            atom, *coords = line.split()\n",
        "            coords = [float(c) for c in coords]\n",
        "            atoms.append(atom)\n",
        "            all_coords.append(coords)\n",
        "    dist2coords[dist] = all_coords"
      ],
      "execution_count": null,
      "outputs": []
    },
    {
      "cell_type": "markdown",
      "metadata": {
        "id": "FJ6hzqDBNgDD"
      },
      "source": [
        "Необходимо сказать, каким атомам какие номера в таблице Менделеева соответствуют"
      ]
    },
    {
      "cell_type": "code",
      "metadata": {
        "id": "HqD28ZQBIg0e"
      },
      "source": [
        "atom2id = {\"C\": 12, \"H\":1 }"
      ],
      "execution_count": null,
      "outputs": []
    },
    {
      "cell_type": "markdown",
      "metadata": {
        "id": "XwgIWCh7Npxj"
      },
      "source": [
        "Засовываем в модель атомы и координаты атомомов"
      ]
    },
    {
      "cell_type": "code",
      "metadata": {
        "id": "8h3WfNtxIHcB",
        "colab": {
          "base_uri": "https://localhost:8080/"
        },
        "outputId": "122fd44b-5c99-4e7d-92a3-2fcc5a7aa1dc"
      },
      "source": [
        "energies = []\n",
        "dists = []\n",
        "for d in sorted(dist2coords.keys()):\n",
        "    coords = dist2coords[d]\n",
        "    coordinates = torch.tensor([coords], requires_grad=True)\n",
        "    species = torch.tensor([[atom2id[a] for a in atoms]], device=device)\n",
        "\n",
        "    coordinates = coordinates.to(device)\n",
        "    species = species.to(device)\n",
        "\n",
        "    energy = model((species, coordinates)).energies\n",
        "\n",
        "    dists.append(d)\n",
        "    energies.append(energy.detach().float())"
      ],
      "execution_count": null,
      "outputs": [
        {
          "output_type": "stream",
          "name": "stderr",
          "text": [
            "/usr/local/lib/python3.7/dist-packages/torchani/aev.py:236: UserWarning: __floordiv__ is deprecated, and its behavior will change in a future version of pytorch. It currently rounds toward 0 (like the 'trunc' function NOT 'floor'). This results in incorrect rounding for negative values. To keep the current behavior, use torch.div(a, b, rounding_mode='trunc'), or for actual floor division, use torch.div(a, b, rounding_mode='floor').\n",
            "  pair_sizes = counts * (counts - 1) // 2\n"
          ]
        }
      ]
    },
    {
      "cell_type": "markdown",
      "metadata": {
        "id": "W2bI2E41MMCt"
      },
      "source": [
        "Найдем минимум энергии"
      ]
    },
    {
      "cell_type": "code",
      "metadata": {
        "id": "eRoAflbsd7_r",
        "colab": {
          "base_uri": "https://localhost:8080/",
          "height": 282
        },
        "outputId": "bebd82d3-cbc6-4ab2-bf3e-2b5bec1fa5bb"
      },
      "source": [
        "import matplotlib.pyplot as plt\n",
        "plt.plot(dists, energies, label=\"energy\")\n",
        "plt.legend()"
      ],
      "execution_count": null,
      "outputs": [
        {
          "output_type": "execute_result",
          "data": {
            "text/plain": [
              "<matplotlib.legend.Legend at 0x7f0fcf281710>"
            ]
          },
          "metadata": {},
          "execution_count": 10
        },
        {
          "output_type": "display_data",
          "data": {
            "image/png": "[encoded data removed]",
            "text/plain": [
              "<Figure size 432x288 with 1 Axes>"
            ]
          },
          "metadata": {
            "needs_background": "light"
          }
        }
      ]
    },
    {
      "cell_type": "code",
      "metadata": {
        "id": "y5zM-jqEMONM"
      },
      "source": [
        "# your code here"
      ],
      "execution_count": null,
      "outputs": []
    },
    {
      "cell_type": "code",
      "metadata": {
        "id": "-Fz7UcXkVP3p"
      },
      "source": [
        "dist2coords"
      ],
      "execution_count": null,
      "outputs": []
    },
    {
      "cell_type": "markdown",
      "metadata": {
        "id": "vECRcE7nI2MY"
      },
      "source": [
        "Используя интернет, проверьте, соответствует ли полученная длина связи реальному значению"
      ]
    }
  ]
}