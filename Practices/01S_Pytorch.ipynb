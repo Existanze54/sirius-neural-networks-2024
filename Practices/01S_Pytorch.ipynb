{
  "nbformat": 4,
  "nbformat_minor": 0,
  "metadata": {
    "colab": {
      "provenance": [],
      "gpuType": "T4",
      "include_colab_link": true
    },
    "kernelspec": {
      "name": "python3",
      "display_name": "Python 3"
    },
    "language_info": {
      "name": "python"
    },
    "accelerator": "GPU"
  },
  "cells": [
    {
      "cell_type": "markdown",
      "metadata": {
        "id": "view-in-github",
        "colab_type": "text"
      },
      "source": [
        "<a href=\"https://colab.research.google.com/github/Existanze54/sirius-neural-networks-2024/blob/main/Practices/01S_Pytorch.ipynb\" target=\"_parent\"><img src=\"https://colab.research.google.com/assets/colab-badge.svg\" alt=\"Open In Colab\"/></a>"
      ]
    },
    {
      "cell_type": "markdown",
      "source": [
        "# Глубокое машинное обучение\n",
        "\n",
        "### Семинар 1: Работа в PyTorch."
      ],
      "metadata": {
        "id": "90xpJv7TRaxv"
      }
    },
    {
      "cell_type": "code",
      "execution_count": 1,
      "metadata": {
        "id": "jGFnVo_xRUxM"
      },
      "outputs": [],
      "source": [
        "import torch"
      ]
    },
    {
      "cell_type": "code",
      "source": [
        "torch.__version__"
      ],
      "metadata": {
        "colab": {
          "base_uri": "https://localhost:8080/",
          "height": 35
        },
        "id": "hj-wcnpoUX_O",
        "outputId": "bb7118ef-ce8f-4050-a6c5-87dfa3fef3db"
      },
      "execution_count": 2,
      "outputs": [
        {
          "output_type": "execute_result",
          "data": {
            "text/plain": [
              "'2.2.1+cu121'"
            ],
            "application/vnd.google.colaboratory.intrinsic+json": {
              "type": "string"
            }
          },
          "metadata": {},
          "execution_count": 2
        }
      ]
    },
    {
      "cell_type": "code",
      "source": [
        "t = torch.tensor([1.0, 2.0, 3.0])\n",
        "t"
      ],
      "metadata": {
        "colab": {
          "base_uri": "https://localhost:8080/"
        },
        "id": "fnF-_eetC4ng",
        "outputId": "9e2607bd-07cd-4d13-841b-03aab1471f89"
      },
      "execution_count": null,
      "outputs": [
        {
          "output_type": "execute_result",
          "data": {
            "text/plain": [
              "tensor([1., 2., 3.])"
            ]
          },
          "metadata": {},
          "execution_count": 3
        }
      ]
    },
    {
      "cell_type": "code",
      "source": [
        "t.dtype # float в Си"
      ],
      "metadata": {
        "colab": {
          "base_uri": "https://localhost:8080/"
        },
        "id": "zHrL2G6hDBhp",
        "outputId": "44c30e54-7ca5-4e3e-e390-4b277eaebe61"
      },
      "execution_count": null,
      "outputs": [
        {
          "output_type": "execute_result",
          "data": {
            "text/plain": [
              "torch.float32"
            ]
          },
          "metadata": {},
          "execution_count": 5
        }
      ]
    },
    {
      "cell_type": "code",
      "source": [
        "import numpy as np\n",
        "\n",
        "a = np.array([1.0, 2.0, 3.0])\n",
        "a"
      ],
      "metadata": {
        "colab": {
          "base_uri": "https://localhost:8080/"
        },
        "id": "eBVDUi7UDFsM",
        "outputId": "0f2b6f15-1584-4ee8-dd29-4e44c571c461"
      },
      "execution_count": null,
      "outputs": [
        {
          "output_type": "execute_result",
          "data": {
            "text/plain": [
              "array([1., 2., 3.])"
            ]
          },
          "metadata": {},
          "execution_count": 9
        }
      ]
    },
    {
      "cell_type": "code",
      "source": [
        "a.dtype # = double в Си"
      ],
      "metadata": {
        "colab": {
          "base_uri": "https://localhost:8080/"
        },
        "id": "upsxYOwhDGwY",
        "outputId": "437976a2-d311-43e1-ecea-aa077765ad53"
      },
      "execution_count": null,
      "outputs": [
        {
          "output_type": "execute_result",
          "data": {
            "text/plain": [
              "dtype('float64')"
            ]
          },
          "metadata": {},
          "execution_count": 8
        }
      ]
    },
    {
      "cell_type": "markdown",
      "source": [
        "Torch заточен для вычислений на ГПУ, поэтому расчтеы проводятся в float32."
      ],
      "metadata": {
        "id": "3EyrZf-tDQMR"
      }
    },
    {
      "cell_type": "code",
      "source": [
        "n = 4096\n",
        "t = torch.randn(n, n)\n",
        "a = np.random.randn(n, n)"
      ],
      "metadata": {
        "id": "RQC8eOEvDXSr"
      },
      "execution_count": null,
      "outputs": []
    },
    {
      "cell_type": "code",
      "source": [
        "%%timeit\n",
        "\n",
        "t @ t # float32"
      ],
      "metadata": {
        "colab": {
          "base_uri": "https://localhost:8080/"
        },
        "id": "NvyNtFanDYve",
        "outputId": "182a2072-cb2a-439d-ee53-cb57b6d77116"
      },
      "execution_count": null,
      "outputs": [
        {
          "output_type": "stream",
          "name": "stdout",
          "text": [
            "2.4 s ± 506 ms per loop (mean ± std. dev. of 7 runs, 1 loop each)\n"
          ]
        }
      ]
    },
    {
      "cell_type": "code",
      "source": [
        "%%timeit\n",
        "\n",
        "a @ a # float64"
      ],
      "metadata": {
        "colab": {
          "base_uri": "https://localhost:8080/"
        },
        "id": "fPUEfHp2DbTi",
        "outputId": "a2db6b53-23f4-407f-edea-09c6e3fbf343"
      },
      "execution_count": null,
      "outputs": [
        {
          "output_type": "stream",
          "name": "stdout",
          "text": [
            "4.1 s ± 493 ms per loop (mean ± std. dev. of 7 runs, 1 loop each)\n"
          ]
        }
      ]
    },
    {
      "cell_type": "markdown",
      "source": [
        "### Задача 1\n",
        "\n",
        "Дано 2 массива $a$ и $b$ различных длин.\n",
        "\n",
        "Получите матрицу $|m_{ij}|$, где $m_{ij} = a_i \\cdot b_j$."
      ],
      "metadata": {
        "id": "Q-dK8idmxPK4"
      }
    },
    {
      "cell_type": "code",
      "source": [
        "a = torch.normal(0, 1, size=(12,))\n",
        "b = torch.normal(0, 1, size=(7,))"
      ],
      "metadata": {
        "id": "hRq8Wz_pxjOg"
      },
      "execution_count": null,
      "outputs": []
    },
    {
      "cell_type": "code",
      "source": [
        "# your code here"
      ],
      "metadata": {
        "id": "FiFclqWkSiK3"
      },
      "execution_count": null,
      "outputs": []
    },
    {
      "cell_type": "markdown",
      "source": [
        "### Задача 2\n",
        "\n",
        "Дан массив $\\mu_{i}$ размера $a$.\n",
        "\n",
        "Сгенерируйте из него матрицу $|x_{ij}|$ размера $b \\times a$ с числами из нормального распределения, т.ч. $x_i \\sim N(\\mu_i, \\log b)$."
      ],
      "metadata": {
        "id": "fCSvOJcpk8QS"
      }
    },
    {
      "cell_type": "code",
      "source": [
        "a = 20\n",
        "b = 10\n",
        "mu = torch.arange(0., a)\n",
        "mu"
      ],
      "metadata": {
        "colab": {
          "base_uri": "https://localhost:8080/"
        },
        "id": "8B2zYXBqxVgh",
        "outputId": "69590477-1404-4542-9c77-b501b8707260"
      },
      "execution_count": null,
      "outputs": [
        {
          "output_type": "execute_result",
          "data": {
            "text/plain": [
              "tensor([ 0.,  1.,  2.,  3.,  4.,  5.,  6.,  7.,  8.,  9., 10., 11., 12., 13.,\n",
              "        14., 15., 16., 17., 18., 19.])"
            ]
          },
          "metadata": {},
          "execution_count": 108
        }
      ]
    },
    {
      "cell_type": "code",
      "source": [
        "# your code here"
      ],
      "metadata": {
        "id": "iX8RBJcWZcCX"
      },
      "execution_count": null,
      "outputs": []
    },
    {
      "cell_type": "markdown",
      "source": [
        "### Задача 3\n",
        "\n",
        "Дан набор объектов (_батч_) размера 1000. Каждый из объектов представляет собой некий зашумленный сигнал (при этом сигнал один и тот же).\n",
        "\n",
        "Визуализируйте один из сигналов.\n",
        "\n",
        "Восстановите сигнал без использования методов ML."
      ],
      "metadata": {
        "id": "4thpYI5m0q5w"
      }
    },
    {
      "cell_type": "code",
      "source": [
        "!wget https://data.bioml.ru/htdocs/courses/bioml/neural_networks/pytorch/data/signals.pt -O signals.pt"
      ],
      "metadata": {
        "colab": {
          "base_uri": "https://localhost:8080/"
        },
        "id": "i3BhWkvk4gon",
        "outputId": "8a335e44-b113-465d-e691-ffba16e8b145"
      },
      "execution_count": null,
      "outputs": [
        {
          "output_type": "stream",
          "name": "stdout",
          "text": [
            "--2023-11-30 15:15:27--  https://data.bioml.ru/htdocs/courses/bioml/neural_networks/pytorch/data/signals.pt\n",
            "Resolving data.bioml.ru (data.bioml.ru)... 188.120.231.217\n",
            "Connecting to data.bioml.ru (data.bioml.ru)|188.120.231.217|:443... connected.\n",
            "HTTP request sent, awaiting response... 200 OK\n",
            "Length: 280747 (274K)\n",
            "Saving to: ‘signals.pt’\n",
            "\n",
            "signals.pt          100%[===================>] 274.17K   778KB/s    in 0.4s    \n",
            "\n",
            "2023-11-30 15:15:28 (778 KB/s) - ‘signals.pt’ saved [280747/280747]\n",
            "\n"
          ]
        }
      ]
    },
    {
      "cell_type": "code",
      "source": [
        "s = torch.load(\"signals.pt\")"
      ],
      "metadata": {
        "id": "pvNy27je4UH4"
      },
      "execution_count": null,
      "outputs": []
    },
    {
      "cell_type": "code",
      "source": [
        "s.shape"
      ],
      "metadata": {
        "colab": {
          "base_uri": "https://localhost:8080/"
        },
        "id": "5K3EBb7G40J4",
        "outputId": "863f12f4-2d16-4bba-b538-da48b7a254f6"
      },
      "execution_count": null,
      "outputs": [
        {
          "output_type": "execute_result",
          "data": {
            "text/plain": [
              "torch.Size([1000, 70])"
            ]
          },
          "metadata": {},
          "execution_count": 124
        }
      ]
    },
    {
      "cell_type": "code",
      "source": [
        "import matplotlib.pyplot as plt\n",
        "\n",
        "plt.plot(s[10].numpy())"
      ],
      "metadata": {
        "colab": {
          "base_uri": "https://localhost:8080/",
          "height": 447
        },
        "id": "uiP84I7ohFif",
        "outputId": "39c88876-3f87-40fb-f515-ada51a9ae241"
      },
      "execution_count": null,
      "outputs": [
        {
          "output_type": "execute_result",
          "data": {
            "text/plain": [
              "[<matplotlib.lines.Line2D at 0x7f0b5bddc370>]"
            ]
          },
          "metadata": {},
          "execution_count": 125
        },
        {
          "output_type": "display_data",
          "data": {
            "text/plain": [
              "<Figure size 640x480 with 1 Axes>"
            ],
            "image/png": "[encoded data removed]"
          },
          "metadata": {}
        }
      ]
    },
    {
      "cell_type": "code",
      "source": [
        "# your code here"
      ],
      "metadata": {
        "id": "RlTNcl_oZgQa"
      },
      "execution_count": null,
      "outputs": []
    },
    {
      "cell_type": "markdown",
      "source": [
        "## Вычисления на GPU"
      ],
      "metadata": {
        "id": "ABuEf5QK5K5f"
      }
    },
    {
      "cell_type": "markdown",
      "source": [
        "_Переключиться на GPU в Google Colab можно в меню Runtime > Change runtime type_."
      ],
      "metadata": {
        "id": "ztuBCFfe6uVY"
      }
    },
    {
      "cell_type": "markdown",
      "source": [
        "PyTorch позволяет использовать в вычислениях видеокарту. За счет высокой степени параллелизации вычислений и архитектурных оптимизаций для расчета на числах с плавающей запятой видеокарты позволяют ускорить вычисления в несколько раз!"
      ],
      "metadata": {
        "id": "sb9Eewbb691X"
      }
    },
    {
      "cell_type": "code",
      "source": [
        "import torch"
      ],
      "metadata": {
        "id": "ZZZXrF078uX3"
      },
      "execution_count": null,
      "outputs": []
    },
    {
      "cell_type": "code",
      "source": [
        "a = torch.normal(0, 1, size=(888, 1000))\n",
        "b = torch.normal(0, 2, size=(1000, 777))"
      ],
      "metadata": {
        "id": "arJ3NwnV8WlE"
      },
      "execution_count": null,
      "outputs": []
    },
    {
      "cell_type": "code",
      "source": [
        "%%timeit\n",
        "a @ b"
      ],
      "metadata": {
        "colab": {
          "base_uri": "https://localhost:8080/"
        },
        "id": "UAxg0jQn8mBs",
        "outputId": "db3d5b10-3755-4d18-e6e1-db9fa991a82a"
      },
      "execution_count": null,
      "outputs": [
        {
          "output_type": "stream",
          "name": "stdout",
          "text": [
            "20.6 ms ± 4.89 ms per loop (mean ± std. dev. of 7 runs, 10 loops each)\n"
          ]
        }
      ]
    },
    {
      "cell_type": "markdown",
      "source": [
        "Перенесем наши данные на GPU с помощью метода `.to`"
      ],
      "metadata": {
        "id": "s6fJButo951d"
      }
    },
    {
      "cell_type": "code",
      "source": [
        "device = dievis = \"cuda:0\""
      ],
      "metadata": {
        "id": "eiSx0UgB87Z_"
      },
      "execution_count": null,
      "outputs": []
    },
    {
      "cell_type": "code",
      "source": [
        "a_gpu = a.to(device)\n",
        "b_gpu = b.to(device)"
      ],
      "metadata": {
        "id": "SVIAuflg69NA"
      },
      "execution_count": null,
      "outputs": []
    },
    {
      "cell_type": "code",
      "source": [
        "%%timeit\n",
        "a_gpu @ b_gpu"
      ],
      "metadata": {
        "colab": {
          "base_uri": "https://localhost:8080/"
        },
        "id": "ZV6avcTA2xqw",
        "outputId": "3d670e79-1e79-4087-a97b-c75728b2b542"
      },
      "execution_count": null,
      "outputs": [
        {
          "output_type": "stream",
          "name": "stdout",
          "text": [
            "388 µs ± 4.17 µs per loop (mean ± std. dev. of 7 runs, 1000 loops each)\n"
          ]
        }
      ]
    },
    {
      "cell_type": "markdown",
      "source": [
        "Проверить, что у вас есть CUDA-совместимое устройство и оно распознано, можно с помощью функции `torch.cuda.is_available()`"
      ],
      "metadata": {
        "id": "x2ee5dKJ9hY1"
      }
    },
    {
      "cell_type": "code",
      "source": [
        "torch.cuda.is_available()"
      ],
      "metadata": {
        "colab": {
          "base_uri": "https://localhost:8080/"
        },
        "id": "929vM4Om9ruA",
        "outputId": "2f4533c7-1fa0-4f5f-9971-5ed532d5ed7c"
      },
      "execution_count": null,
      "outputs": [
        {
          "output_type": "execute_result",
          "data": {
            "text/plain": [
              "True"
            ]
          },
          "metadata": {},
          "execution_count": 7
        }
      ]
    },
    {
      "cell_type": "markdown",
      "source": [
        "Иногда пишут так:"
      ],
      "metadata": {
        "id": "0Lj_YpT_9vFe"
      }
    },
    {
      "cell_type": "code",
      "source": [
        "device = \"cuda\" if torch.cuda.is_available() else \"cpu\""
      ],
      "metadata": {
        "id": "OlH_yn7E9g5G"
      },
      "execution_count": null,
      "outputs": []
    },
    {
      "cell_type": "markdown",
      "source": [
        "Перенести можно несколькими способами:"
      ],
      "metadata": {
        "id": "b494YXvo-Akf"
      }
    },
    {
      "cell_type": "code",
      "source": [
        "a.to(\"cuda:0\")"
      ],
      "metadata": {
        "colab": {
          "base_uri": "https://localhost:8080/"
        },
        "id": "B8xEkXJP-DVu",
        "outputId": "ff62dc42-f38c-456b-b0b6-88d9c3739613"
      },
      "execution_count": null,
      "outputs": [
        {
          "output_type": "execute_result",
          "data": {
            "text/plain": [
              "tensor([[ 0.0871,  1.5803,  0.1068,  ..., -0.1111,  2.2779,  1.3019],\n",
              "        [ 0.2327,  0.3974, -0.4253,  ..., -1.4914,  0.0439, -0.1961],\n",
              "        [-0.3743, -1.0580,  0.4809,  ..., -1.1321,  0.9775,  0.1823],\n",
              "        ...,\n",
              "        [-0.3728, -1.1801, -0.2116,  ..., -0.6145,  0.7831,  0.6512],\n",
              "        [ 0.5632,  0.6589,  1.5685,  ..., -2.3355,  1.4924, -0.3499],\n",
              "        [ 1.1891,  2.4171, -1.2784,  ..., -0.5002, -0.2028, -1.0137]],\n",
              "       device='cuda:0')"
            ]
          },
          "metadata": {},
          "execution_count": 16
        }
      ]
    },
    {
      "cell_type": "code",
      "source": [
        "a.cuda()  # not recommended"
      ],
      "metadata": {
        "colab": {
          "base_uri": "https://localhost:8080/"
        },
        "id": "eknY-PYS9HME",
        "outputId": "0a81c68b-be69-48e7-c3cb-02330411cec5"
      },
      "execution_count": null,
      "outputs": [
        {
          "output_type": "execute_result",
          "data": {
            "text/plain": [
              "tensor([[ 0.0871,  1.5803,  0.1068,  ..., -0.1111,  2.2779,  1.3019],\n",
              "        [ 0.2327,  0.3974, -0.4253,  ..., -1.4914,  0.0439, -0.1961],\n",
              "        [-0.3743, -1.0580,  0.4809,  ..., -1.1321,  0.9775,  0.1823],\n",
              "        ...,\n",
              "        [-0.3728, -1.1801, -0.2116,  ..., -0.6145,  0.7831,  0.6512],\n",
              "        [ 0.5632,  0.6589,  1.5685,  ..., -2.3355,  1.4924, -0.3499],\n",
              "        [ 1.1891,  2.4171, -1.2784,  ..., -0.5002, -0.2028, -1.0137]],\n",
              "       device='cuda:0')"
            ]
          },
          "metadata": {},
          "execution_count": 18
        }
      ]
    },
    {
      "cell_type": "code",
      "source": [
        "a_gpu.cpu()  # usual"
      ],
      "metadata": {
        "colab": {
          "base_uri": "https://localhost:8080/"
        },
        "id": "gjfimLnB-NGy",
        "outputId": "969c253c-2be3-4112-a10c-959545a87203"
      },
      "execution_count": null,
      "outputs": [
        {
          "output_type": "execute_result",
          "data": {
            "text/plain": [
              "tensor([[ 0.0871,  1.5803,  0.1068,  ..., -0.1111,  2.2779,  1.3019],\n",
              "        [ 0.2327,  0.3974, -0.4253,  ..., -1.4914,  0.0439, -0.1961],\n",
              "        [-0.3743, -1.0580,  0.4809,  ..., -1.1321,  0.9775,  0.1823],\n",
              "        ...,\n",
              "        [-0.3728, -1.1801, -0.2116,  ..., -0.6145,  0.7831,  0.6512],\n",
              "        [ 0.5632,  0.6589,  1.5685,  ..., -2.3355,  1.4924, -0.3499],\n",
              "        [ 1.1891,  2.4171, -1.2784,  ..., -0.5002, -0.2028, -1.0137]])"
            ]
          },
          "metadata": {},
          "execution_count": 19
        }
      ]
    },
    {
      "cell_type": "markdown",
      "source": [
        "Если ошибиться и осуществлять операции с тензорами в разных источниках, получится ошибка:"
      ],
      "metadata": {
        "id": "KLYBvdxB_vr2"
      }
    },
    {
      "cell_type": "code",
      "source": [
        "a @ b_gpu"
      ],
      "metadata": {
        "colab": {
          "base_uri": "https://localhost:8080/",
          "height": 175
        },
        "id": "_RXZKjJx_67C",
        "outputId": "cbdabac3-7f32-4cf9-cfe6-fbeb042e24a0"
      },
      "execution_count": null,
      "outputs": [
        {
          "output_type": "error",
          "ename": "RuntimeError",
          "evalue": "ignored",
          "traceback": [
            "\u001b[0;31m---------------------------------------------------------------------------\u001b[0m",
            "\u001b[0;31mRuntimeError\u001b[0m                              Traceback (most recent call last)",
            "\u001b[0;32m<ipython-input-8-4304782972c0>\u001b[0m in \u001b[0;36m<cell line: 1>\u001b[0;34m()\u001b[0m\n\u001b[0;32m----> 1\u001b[0;31m \u001b[0ma\u001b[0m \u001b[0;34m@\u001b[0m \u001b[0mb_gpu\u001b[0m\u001b[0;34m\u001b[0m\u001b[0;34m\u001b[0m\u001b[0m\n\u001b[0m",
            "\u001b[0;31mRuntimeError\u001b[0m: Expected all tensors to be on the same device, but found at least two devices, cpu and cuda:0! (when checking argument for argument mat2 in method wrapper_CUDA_mm)"
          ]
        }
      ]
    },
    {
      "cell_type": "code",
      "source": [
        "a_gpu @ b"
      ],
      "metadata": {
        "colab": {
          "base_uri": "https://localhost:8080/",
          "height": 175
        },
        "id": "5jSQvF43-O7Z",
        "outputId": "2b180c34-7c8d-410a-f272-72ddb7e0d206"
      },
      "execution_count": null,
      "outputs": [
        {
          "output_type": "error",
          "ename": "RuntimeError",
          "evalue": "ignored",
          "traceback": [
            "\u001b[0;31m---------------------------------------------------------------------------\u001b[0m",
            "\u001b[0;31mRuntimeError\u001b[0m                              Traceback (most recent call last)",
            "\u001b[0;32m<ipython-input-9-efad1cf40b87>\u001b[0m in \u001b[0;36m<cell line: 1>\u001b[0;34m()\u001b[0m\n\u001b[0;32m----> 1\u001b[0;31m \u001b[0ma_gpu\u001b[0m \u001b[0;34m@\u001b[0m \u001b[0mb\u001b[0m\u001b[0;34m\u001b[0m\u001b[0;34m\u001b[0m\u001b[0m\n\u001b[0m",
            "\u001b[0;31mRuntimeError\u001b[0m: Expected all tensors to be on the same device, but found at least two devices, cuda:0 and cpu! (when checking argument for argument mat2 in method wrapper_CUDA_mm)"
          ]
        }
      ]
    },
    {
      "cell_type": "markdown",
      "source": [
        "Помните, что ошибка не всегда может быть такой красивой!"
      ],
      "metadata": {
        "id": "9rKwf6zWAEyW"
      }
    },
    {
      "cell_type": "markdown",
      "source": [
        "## Автоматический подсчет производных"
      ],
      "metadata": {
        "id": "6KWrJUn-BMPO"
      }
    },
    {
      "cell_type": "markdown",
      "source": [
        "В PyTorch реализован автоматический подсчет градиентов (`torch.autograd`)."
      ],
      "metadata": {
        "id": "NjzpaJwjDN-m"
      }
    },
    {
      "cell_type": "markdown",
      "source": [
        "Для того, чтобы осуществлять этот расчет, PyTorch хранит **граф вычислений**, по которому возможно вычислять производную любой дифференцируемой функции, полученной из комбинации дифференцируемых функций."
      ],
      "metadata": {
        "id": "97u4ny1GDqEu"
      }
    },
    {
      "cell_type": "markdown",
      "source": [
        "![calculation_graph](https://data.bioml.ru/htdocs/courses/bioml/neural_networks/pytorch/img/calc_graph.png)\n",
        "\n",
        "Граф вычислений для $f(x, y) = x^2 + xy + (x+y)^2$"
      ],
      "metadata": {
        "id": "h1oaCiTkFGad"
      }
    },
    {
      "cell_type": "markdown",
      "source": [
        "Почему это можно посчитать по графу? Все благодаря chain rule: $$(f \\circ g)'(x) = (f(g(x)))' = f'(g(x)) \\cdot g'(x)$$"
      ],
      "metadata": {
        "id": "j2plbOojGO1O"
      }
    },
    {
      "cell_type": "markdown",
      "source": [
        "Посмотрим на примере."
      ],
      "metadata": {
        "id": "608LRNHPGrU2"
      }
    },
    {
      "cell_type": "markdown",
      "source": [
        "Для того, чтобы заставить PyTorch сохранять граф вычислений, необходимо прописать параметр `requires_grad=True`."
      ],
      "metadata": {
        "id": "oYqBpoqsGut-"
      }
    },
    {
      "cell_type": "code",
      "source": [
        "a = torch.tensor([-0.3, 0.1, 0.2], requires_grad=True)"
      ],
      "metadata": {
        "id": "BYpPbe2VGuJR"
      },
      "execution_count": null,
      "outputs": []
    },
    {
      "cell_type": "code",
      "source": [
        "m = a.mean()\n",
        "m"
      ],
      "metadata": {
        "colab": {
          "base_uri": "https://localhost:8080/"
        },
        "id": "_3r6AUVoG-A3",
        "outputId": "ff605d28-981a-4187-cdb2-fa87934684da"
      },
      "execution_count": null,
      "outputs": [
        {
          "output_type": "execute_result",
          "data": {
            "text/plain": [
              "tensor(-4.9671e-09, grad_fn=<MeanBackward0>)"
            ]
          },
          "metadata": {},
          "execution_count": 76
        }
      ]
    },
    {
      "cell_type": "markdown",
      "source": [
        "$m(a) = \\dfrac{a_0 + a_1 + a_2}{3}$"
      ],
      "metadata": {
        "id": "SnV5ji05IPA1"
      }
    },
    {
      "cell_type": "code",
      "source": [
        "m.backward()"
      ],
      "metadata": {
        "id": "nQ1KzEKKICUD"
      },
      "execution_count": null,
      "outputs": []
    },
    {
      "cell_type": "markdown",
      "source": [
        "$\\dfrac{\\partial m}{\\partial a_i} = \\dfrac{1}{3}$"
      ],
      "metadata": {
        "id": "33GpXxYNIdp7"
      }
    },
    {
      "cell_type": "code",
      "source": [
        "a.grad"
      ],
      "metadata": {
        "colab": {
          "base_uri": "https://localhost:8080/"
        },
        "id": "FnTRXYJnID9J",
        "outputId": "f2884293-1416-4677-b81e-93a04287786a"
      },
      "execution_count": null,
      "outputs": [
        {
          "output_type": "execute_result",
          "data": {
            "text/plain": [
              "tensor([0.3333, 0.3333, 0.3333])"
            ]
          },
          "metadata": {},
          "execution_count": 70
        }
      ]
    },
    {
      "cell_type": "code",
      "source": [
        "a = torch.tensor([-0.3, 0.1, 0.2], requires_grad=True)"
      ],
      "metadata": {
        "id": "P5ne945hDpVa"
      },
      "execution_count": null,
      "outputs": []
    },
    {
      "cell_type": "markdown",
      "source": [
        "$s(a) = \\dfrac{a_0^2 + a_1^2 + a_2^2}{3}$"
      ],
      "metadata": {
        "id": "LHm-6rDuI3Sl"
      }
    },
    {
      "cell_type": "code",
      "source": [
        "s = (a ** 2).mean()"
      ],
      "metadata": {
        "id": "dM3NTevdI1t0"
      },
      "execution_count": null,
      "outputs": []
    },
    {
      "cell_type": "code",
      "source": [
        "s"
      ],
      "metadata": {
        "colab": {
          "base_uri": "https://localhost:8080/"
        },
        "id": "_mVdZP0ph5FI",
        "outputId": "740a15b4-e32f-493c-b9de-74e96d7a96c4"
      },
      "execution_count": null,
      "outputs": [
        {
          "output_type": "execute_result",
          "data": {
            "text/plain": [
              "tensor(0.0467, grad_fn=<MeanBackward0>)"
            ]
          },
          "metadata": {},
          "execution_count": 12
        }
      ]
    },
    {
      "cell_type": "code",
      "source": [
        "s.backward()"
      ],
      "metadata": {
        "id": "RKPmXRnkJCBn"
      },
      "execution_count": null,
      "outputs": []
    },
    {
      "cell_type": "code",
      "source": [
        "a.grad"
      ],
      "metadata": {
        "colab": {
          "base_uri": "https://localhost:8080/"
        },
        "id": "tqXLPgbrDNft",
        "outputId": "567f07b8-b0a6-4cff-8af3-411f690ee323"
      },
      "execution_count": null,
      "outputs": [
        {
          "output_type": "execute_result",
          "data": {
            "text/plain": [
              "tensor([-0.2000,  0.0667,  0.1333])"
            ]
          },
          "metadata": {},
          "execution_count": 14
        }
      ]
    },
    {
      "cell_type": "markdown",
      "source": [
        "$\\dfrac{\\partial s}{\\partial a_i} = \\dfrac{2}{3}a_i$"
      ],
      "metadata": {
        "id": "G12puXJoJSgF"
      }
    },
    {
      "cell_type": "code",
      "source": [
        "x = torch.tensor(1.0, requires_grad=True)\n",
        "y = torch.tensor(-2.0, requires_grad=True)"
      ],
      "metadata": {
        "id": "DfFdjzBfHbEj"
      },
      "execution_count": null,
      "outputs": []
    },
    {
      "cell_type": "code",
      "source": [
        "f = x + y\n",
        "g = f**2 + x"
      ],
      "metadata": {
        "id": "j6yyRCgxHxHs"
      },
      "execution_count": null,
      "outputs": []
    },
    {
      "cell_type": "code",
      "source": [
        "g.backward()"
      ],
      "metadata": {
        "id": "dI2KOGBAHylG"
      },
      "execution_count": null,
      "outputs": []
    },
    {
      "cell_type": "code",
      "source": [
        "x.grad, y.grad"
      ],
      "metadata": {
        "id": "zhjLA_sNHy87"
      },
      "execution_count": null,
      "outputs": []
    },
    {
      "cell_type": "markdown",
      "source": [
        "### Ручная оптимизация простейшей модели"
      ],
      "metadata": {
        "id": "LnO7R0PPKzmc"
      }
    },
    {
      "cell_type": "markdown",
      "source": [
        "Рассмотрим простейшую линейную модель, работающую на 2 признаках."
      ],
      "metadata": {
        "id": "b1NlE9CaK4CD"
      }
    },
    {
      "cell_type": "code",
      "source": [
        "weights = torch.tensor([-0.1, 0.1])\n",
        "weights"
      ],
      "metadata": {
        "colab": {
          "base_uri": "https://localhost:8080/"
        },
        "id": "gfvpjfzgACYl",
        "outputId": "bf6b0228-60fd-4d44-c8e1-a0913c16b455"
      },
      "execution_count": null,
      "outputs": [
        {
          "output_type": "execute_result",
          "data": {
            "text/plain": [
              "tensor([-0.1000,  0.1000])"
            ]
          },
          "metadata": {},
          "execution_count": 17
        }
      ]
    },
    {
      "cell_type": "markdown",
      "source": [
        "Сгенерируем данные с зависимостью $y = x_1 - 2.5x_2$"
      ],
      "metadata": {
        "id": "00tD0zokNFa0"
      }
    },
    {
      "cell_type": "code",
      "source": [
        "N = 100  # number of objects\n",
        "x_1 = torch.rand(size=(N,))\n",
        "x_2 = torch.randn(size=(N,))\n",
        "y = x_1 - 2.5 * x_2 + torch.normal(0, 0.2, size=(N,))\n",
        "objects = torch.stack([x_1, x_2]).T\n",
        "objects"
      ],
      "metadata": {
        "colab": {
          "base_uri": "https://localhost:8080/"
        },
        "id": "JLx94qNWKZP8",
        "outputId": "c87f2ea7-f683-4267-c769-ba5b46c867d1"
      },
      "execution_count": null,
      "outputs": [
        {
          "output_type": "execute_result",
          "data": {
            "text/plain": [
              "tensor([[ 0.8265,  0.8013],\n",
              "        [ 0.8546, -1.0868],\n",
              "        [ 0.3448, -0.5334],\n",
              "        [ 0.7665, -0.9688],\n",
              "        [ 0.3166,  0.2024],\n",
              "        [ 0.1374,  0.7431],\n",
              "        [ 0.1498,  0.1099],\n",
              "        [ 0.1828, -1.6826],\n",
              "        [ 0.1970,  1.1353],\n",
              "        [ 0.7218,  1.5124],\n",
              "        [ 0.1614,  1.3254],\n",
              "        [ 0.1068,  0.5889],\n",
              "        [ 0.8192, -1.4590],\n",
              "        [ 0.7201, -0.2535],\n",
              "        [ 0.6457, -0.0526],\n",
              "        [ 0.8873, -1.1231],\n",
              "        [ 0.8507, -0.3565],\n",
              "        [ 0.5676,  0.8974],\n",
              "        [ 0.3865,  0.0340],\n",
              "        [ 0.4413, -0.6889],\n",
              "        [ 0.6075, -1.0097],\n",
              "        [ 0.9336, -1.1882],\n",
              "        [ 0.4195,  0.0607],\n",
              "        [ 0.7411, -1.2695],\n",
              "        [ 0.3852, -0.5902],\n",
              "        [ 0.3174, -0.6419],\n",
              "        [ 0.1269,  0.5420],\n",
              "        [ 0.3384,  0.8193],\n",
              "        [ 0.0894, -1.1506],\n",
              "        [ 0.8245,  0.9535],\n",
              "        [ 0.1193, -1.0474],\n",
              "        [ 0.0748, -2.1391],\n",
              "        [ 0.7531,  0.5546],\n",
              "        [ 0.9176, -2.1203],\n",
              "        [ 0.9163, -0.8503],\n",
              "        [ 0.8190, -0.1928],\n",
              "        [ 0.8156,  0.0038],\n",
              "        [ 0.3277, -1.3578],\n",
              "        [ 0.9265, -0.7277],\n",
              "        [ 0.5663,  0.0464],\n",
              "        [ 0.3678, -2.0932],\n",
              "        [ 0.6370, -0.0264],\n",
              "        [ 0.7626, -1.8488],\n",
              "        [ 0.2202, -0.7506],\n",
              "        [ 0.1875,  0.0165],\n",
              "        [ 0.3127,  1.1371],\n",
              "        [ 0.3612,  0.5361],\n",
              "        [ 0.0245, -0.0780],\n",
              "        [ 0.0593, -0.1403],\n",
              "        [ 0.3753,  1.2395],\n",
              "        [ 0.2029,  0.9773],\n",
              "        [ 0.3909, -0.6180],\n",
              "        [ 0.2984, -0.0620],\n",
              "        [ 0.1070,  0.9965],\n",
              "        [ 0.5278, -0.3174],\n",
              "        [ 0.9437, -0.4597],\n",
              "        [ 0.2781,  1.5702],\n",
              "        [ 0.5316, -1.5796],\n",
              "        [ 0.8738, -0.6857],\n",
              "        [ 0.4249, -1.1070],\n",
              "        [ 0.2442, -0.3843],\n",
              "        [ 0.0648,  0.0606],\n",
              "        [ 0.5568,  0.6598],\n",
              "        [ 0.6206, -0.0657],\n",
              "        [ 0.6161, -0.4781],\n",
              "        [ 0.0918, -0.8471],\n",
              "        [ 0.9512,  0.4697],\n",
              "        [ 0.2002, -1.4469],\n",
              "        [ 0.5251,  0.5024],\n",
              "        [ 0.2112, -0.9688],\n",
              "        [ 0.3849, -0.2849],\n",
              "        [ 0.4550,  0.7137],\n",
              "        [ 0.0617,  0.4575],\n",
              "        [ 0.9631,  0.5943],\n",
              "        [ 0.1586, -0.5422],\n",
              "        [ 0.9398, -1.1512],\n",
              "        [ 0.3278, -0.6820],\n",
              "        [ 0.2976, -1.8444],\n",
              "        [ 0.2683,  0.2543],\n",
              "        [ 0.9469, -0.0923],\n",
              "        [ 0.6677,  1.1642],\n",
              "        [ 0.3464, -0.0329],\n",
              "        [ 0.5607, -1.0305],\n",
              "        [ 0.3030,  0.4057],\n",
              "        [ 0.6882,  0.3301],\n",
              "        [ 0.2115,  0.5558],\n",
              "        [ 0.0146,  0.6365],\n",
              "        [ 0.1742, -1.3277],\n",
              "        [ 0.7744,  1.1764],\n",
              "        [ 0.3902, -1.9136],\n",
              "        [ 0.1466, -0.2485],\n",
              "        [ 0.1542,  1.4176],\n",
              "        [ 0.0245, -0.8864],\n",
              "        [ 0.6729, -0.8119],\n",
              "        [ 0.3016,  1.2687],\n",
              "        [ 0.5762, -0.4576],\n",
              "        [ 0.7559, -2.6046],\n",
              "        [ 0.1064,  0.6918],\n",
              "        [ 0.6218,  1.2954],\n",
              "        [ 0.2702,  0.5207]])"
            ]
          },
          "metadata": {},
          "execution_count": 18
        }
      ]
    },
    {
      "cell_type": "markdown",
      "source": [
        "Как получить предсказание весов?"
      ],
      "metadata": {
        "id": "3ZC0O49sNyts"
      }
    },
    {
      "cell_type": "code",
      "source": [
        "predicted = (objects * weights).sum(axis=1)\n",
        "predicted"
      ],
      "metadata": {
        "colab": {
          "base_uri": "https://localhost:8080/"
        },
        "id": "m-ovqUR6N1Jf",
        "outputId": "bf62216a-479f-4cbc-f2a5-25e17e3a2e45"
      },
      "execution_count": null,
      "outputs": [
        {
          "output_type": "execute_result",
          "data": {
            "text/plain": [
              "tensor([-0.0025, -0.1941, -0.0878, -0.1735, -0.0114,  0.0606, -0.0040, -0.1865,\n",
              "         0.0938,  0.0791,  0.1164,  0.0482, -0.2278, -0.0974, -0.0698, -0.2010,\n",
              "        -0.1207,  0.0330, -0.0352, -0.1130, -0.1617, -0.2122, -0.0359, -0.2011,\n",
              "        -0.0975, -0.0959,  0.0415,  0.0481, -0.1240,  0.0129, -0.1167, -0.2214,\n",
              "        -0.0199, -0.3038, -0.1767, -0.1012, -0.0812, -0.1685, -0.1654, -0.0520,\n",
              "        -0.2461, -0.0663, -0.2611, -0.0971, -0.0171,  0.0824,  0.0175, -0.0103,\n",
              "        -0.0200,  0.0864,  0.0774, -0.1009, -0.0360,  0.0889, -0.0845, -0.1403,\n",
              "         0.1292, -0.2111, -0.1559, -0.1532, -0.0628, -0.0004,  0.0103, -0.0686,\n",
              "        -0.1094, -0.0939, -0.0482, -0.1647, -0.0023, -0.1180, -0.0670,  0.0259,\n",
              "         0.0396, -0.0369, -0.0701, -0.2091, -0.1010, -0.2142, -0.0014, -0.1039,\n",
              "         0.0497, -0.0379, -0.1591,  0.0103, -0.0358,  0.0344,  0.0622, -0.1502,\n",
              "         0.0402, -0.2304, -0.0395,  0.1263, -0.0911, -0.1485,  0.0967, -0.1034,\n",
              "        -0.3361,  0.0585,  0.0674,  0.0250])"
            ]
          },
          "metadata": {},
          "execution_count": 19
        }
      ]
    },
    {
      "cell_type": "markdown",
      "source": [
        "Как понять, насколько сильно мы ошиблись?"
      ],
      "metadata": {
        "id": "2nJXNvE6ODrE"
      }
    },
    {
      "cell_type": "code",
      "source": [
        "mse = ((predicted - y) ** 2).mean()\n",
        "mse"
      ],
      "metadata": {
        "colab": {
          "base_uri": "https://localhost:8080/"
        },
        "id": "CPuugPEBOG0T",
        "outputId": "6bf02253-0b1b-4afd-cf52-e5fd50d98534"
      },
      "execution_count": null,
      "outputs": [
        {
          "output_type": "execute_result",
          "data": {
            "text/plain": [
              "tensor(7.6811)"
            ]
          },
          "metadata": {},
          "execution_count": 20
        }
      ]
    },
    {
      "cell_type": "code",
      "source": [
        "mse.backward()"
      ],
      "metadata": {
        "id": "JwJ1arIVODNt",
        "colab": {
          "base_uri": "https://localhost:8080/",
          "height": 321
        },
        "outputId": "70abe9e3-8f17-48a4-b953-060d226fe7d1"
      },
      "execution_count": null,
      "outputs": [
        {
          "output_type": "error",
          "ename": "RuntimeError",
          "evalue": "ignored",
          "traceback": [
            "\u001b[0;31m---------------------------------------------------------------------------\u001b[0m",
            "\u001b[0;31mRuntimeError\u001b[0m                              Traceback (most recent call last)",
            "\u001b[0;32m<ipython-input-21-00b8616be145>\u001b[0m in \u001b[0;36m<cell line: 1>\u001b[0;34m()\u001b[0m\n\u001b[0;32m----> 1\u001b[0;31m \u001b[0mmse\u001b[0m\u001b[0;34m.\u001b[0m\u001b[0mbackward\u001b[0m\u001b[0;34m(\u001b[0m\u001b[0;34m)\u001b[0m\u001b[0;34m\u001b[0m\u001b[0;34m\u001b[0m\u001b[0m\n\u001b[0m",
            "\u001b[0;32m/usr/local/lib/python3.10/dist-packages/torch/_tensor.py\u001b[0m in \u001b[0;36mbackward\u001b[0;34m(self, gradient, retain_graph, create_graph, inputs)\u001b[0m\n\u001b[1;32m    490\u001b[0m                 \u001b[0minputs\u001b[0m\u001b[0;34m=\u001b[0m\u001b[0minputs\u001b[0m\u001b[0;34m,\u001b[0m\u001b[0;34m\u001b[0m\u001b[0;34m\u001b[0m\u001b[0m\n\u001b[1;32m    491\u001b[0m             )\n\u001b[0;32m--> 492\u001b[0;31m         torch.autograd.backward(\n\u001b[0m\u001b[1;32m    493\u001b[0m             \u001b[0mself\u001b[0m\u001b[0;34m,\u001b[0m \u001b[0mgradient\u001b[0m\u001b[0;34m,\u001b[0m \u001b[0mretain_graph\u001b[0m\u001b[0;34m,\u001b[0m \u001b[0mcreate_graph\u001b[0m\u001b[0;34m,\u001b[0m \u001b[0minputs\u001b[0m\u001b[0;34m=\u001b[0m\u001b[0minputs\u001b[0m\u001b[0;34m\u001b[0m\u001b[0;34m\u001b[0m\u001b[0m\n\u001b[1;32m    494\u001b[0m         )\n",
            "\u001b[0;32m/usr/local/lib/python3.10/dist-packages/torch/autograd/__init__.py\u001b[0m in \u001b[0;36mbackward\u001b[0;34m(tensors, grad_tensors, retain_graph, create_graph, grad_variables, inputs)\u001b[0m\n\u001b[1;32m    249\u001b[0m     \u001b[0;31m# some Python versions print out the first line of a multi-line function\u001b[0m\u001b[0;34m\u001b[0m\u001b[0;34m\u001b[0m\u001b[0m\n\u001b[1;32m    250\u001b[0m     \u001b[0;31m# calls in the traceback and some print out the last line\u001b[0m\u001b[0;34m\u001b[0m\u001b[0;34m\u001b[0m\u001b[0m\n\u001b[0;32m--> 251\u001b[0;31m     Variable._execution_engine.run_backward(  # Calls into the C++ engine to run the backward pass\n\u001b[0m\u001b[1;32m    252\u001b[0m         \u001b[0mtensors\u001b[0m\u001b[0;34m,\u001b[0m\u001b[0;34m\u001b[0m\u001b[0;34m\u001b[0m\u001b[0m\n\u001b[1;32m    253\u001b[0m         \u001b[0mgrad_tensors_\u001b[0m\u001b[0;34m,\u001b[0m\u001b[0;34m\u001b[0m\u001b[0;34m\u001b[0m\u001b[0m\n",
            "\u001b[0;31mRuntimeError\u001b[0m: element 0 of tensors does not require grad and does not have a grad_fn"
          ]
        }
      ]
    },
    {
      "cell_type": "markdown",
      "source": [
        "Что нужно исправить?"
      ],
      "metadata": {
        "id": "4N3fvNl2Oh1k"
      }
    },
    {
      "cell_type": "code",
      "source": [
        "weights = torch.tensor([-0.1, 0.1], requires_grad=True)\n",
        "weights"
      ],
      "metadata": {
        "id": "IAtqU93fOjl_",
        "colab": {
          "base_uri": "https://localhost:8080/"
        },
        "outputId": "dba503df-b006-472c-e46d-a2831a8ae131"
      },
      "execution_count": null,
      "outputs": [
        {
          "output_type": "execute_result",
          "data": {
            "text/plain": [
              "tensor([-0.1000,  0.1000], requires_grad=True)"
            ]
          },
          "metadata": {},
          "execution_count": 22
        }
      ]
    },
    {
      "cell_type": "code",
      "source": [
        "predicted = (objects * weights).sum(axis=1)\n",
        "mse = ((predicted - y) ** 2).mean()\n",
        "mse"
      ],
      "metadata": {
        "colab": {
          "base_uri": "https://localhost:8080/"
        },
        "id": "DxTOKH78PTr2",
        "outputId": "aef29afa-be19-46dd-ed60-198cf9ab0ceb"
      },
      "execution_count": null,
      "outputs": [
        {
          "output_type": "execute_result",
          "data": {
            "text/plain": [
              "tensor(0.0393, grad_fn=<MeanBackward0>)"
            ]
          },
          "metadata": {},
          "execution_count": 111
        }
      ]
    },
    {
      "cell_type": "code",
      "source": [
        "mse.backward()"
      ],
      "metadata": {
        "id": "_T7bWcD_REdM"
      },
      "execution_count": null,
      "outputs": []
    },
    {
      "cell_type": "markdown",
      "source": [
        "Смотрим на градиент:"
      ],
      "metadata": {
        "id": "b2xZbxPpOrPk"
      }
    },
    {
      "cell_type": "code",
      "source": [
        "weights"
      ],
      "metadata": {
        "colab": {
          "base_uri": "https://localhost:8080/"
        },
        "id": "ZUXNZtCC0hs9",
        "outputId": "3ab1ef29-a469-4a18-f5b1-f7408b715a6f"
      },
      "execution_count": null,
      "outputs": [
        {
          "output_type": "execute_result",
          "data": {
            "text/plain": [
              "tensor([ 1.0112, -2.5083], requires_grad=True)"
            ]
          },
          "metadata": {},
          "execution_count": 113
        }
      ]
    },
    {
      "cell_type": "code",
      "source": [
        "weights.grad"
      ],
      "metadata": {
        "colab": {
          "base_uri": "https://localhost:8080/"
        },
        "id": "W-v6TaGkOs82",
        "outputId": "5a6b326a-8ce9-44fa-934d-3f546cb0ac76"
      },
      "execution_count": null,
      "outputs": [
        {
          "output_type": "execute_result",
          "data": {
            "text/plain": [
              "tensor([-0.0304,  0.0004])"
            ]
          },
          "metadata": {},
          "execution_count": 108
        }
      ]
    },
    {
      "cell_type": "markdown",
      "source": [
        "Что нужно сделать с градиентом, чтобы исправить веса?"
      ],
      "metadata": {
        "id": "bdZ3nEkNO01N"
      }
    },
    {
      "cell_type": "code",
      "source": [
        "weights.data = weights - weights.grad * 0.1"
      ],
      "metadata": {
        "id": "NGnNSp2OO5SG"
      },
      "execution_count": null,
      "outputs": []
    },
    {
      "cell_type": "code",
      "source": [
        "weights.grad.data.zero_()\n",
        "#weights.requires_grad_(True)"
      ],
      "metadata": {
        "colab": {
          "base_uri": "https://localhost:8080/"
        },
        "id": "a2FcrTuLOXHX",
        "outputId": "01ff7261-7ed6-4d13-8675-0408eeb45063"
      },
      "execution_count": null,
      "outputs": [
        {
          "output_type": "execute_result",
          "data": {
            "text/plain": [
              "tensor([0., 0.])"
            ]
          },
          "metadata": {},
          "execution_count": 110
        }
      ]
    },
    {
      "cell_type": "markdown",
      "source": [
        "#### Задача 4\n",
        "\n",
        "Автоматизируйте оптимизацию градиента самостоятельно."
      ],
      "metadata": {
        "id": "oMv1To9oRuDF"
      }
    },
    {
      "cell_type": "code",
      "source": [
        "# your code here"
      ],
      "metadata": {
        "id": "OqrpXWdwMJFn"
      },
      "execution_count": null,
      "outputs": []
    },
    {
      "cell_type": "markdown",
      "source": [
        "### Другие операции с градиентом"
      ],
      "metadata": {
        "id": "kTWnI0ODTYfb"
      }
    },
    {
      "cell_type": "markdown",
      "source": [
        "Часть операций бывает нужно выполнить без сохранения градиента. Например, такими операциями будут промежуточные оценки качества модели в процессе обучения."
      ],
      "metadata": {
        "id": "XXTXT_LGa9nS"
      }
    },
    {
      "cell_type": "code",
      "source": [
        "a = torch.tensor([1.0, 2.0], requires_grad=True)\n",
        "\n",
        "with torch.no_grad():\n",
        "    b = a.sum()"
      ],
      "metadata": {
        "id": "HgCFngM1TcA3"
      },
      "execution_count": null,
      "outputs": []
    },
    {
      "cell_type": "markdown",
      "source": [
        "Как мы видим, граф не сохранялся:"
      ],
      "metadata": {
        "id": "ADCac2RHbTnL"
      }
    },
    {
      "cell_type": "code",
      "source": [
        "b.backward()"
      ],
      "metadata": {
        "colab": {
          "base_uri": "https://localhost:8080/",
          "height": 321
        },
        "id": "v-83jmK1T7Y-",
        "outputId": "1446cd7d-d0b4-4b5d-96c2-72c3cee386ec"
      },
      "execution_count": null,
      "outputs": [
        {
          "output_type": "error",
          "ename": "RuntimeError",
          "evalue": "ignored",
          "traceback": [
            "\u001b[0;31m---------------------------------------------------------------------------\u001b[0m",
            "\u001b[0;31mRuntimeError\u001b[0m                              Traceback (most recent call last)",
            "\u001b[0;32m<ipython-input-115-a721975e1357>\u001b[0m in \u001b[0;36m<cell line: 1>\u001b[0;34m()\u001b[0m\n\u001b[0;32m----> 1\u001b[0;31m \u001b[0mb\u001b[0m\u001b[0;34m.\u001b[0m\u001b[0mbackward\u001b[0m\u001b[0;34m(\u001b[0m\u001b[0;34m)\u001b[0m\u001b[0;34m\u001b[0m\u001b[0;34m\u001b[0m\u001b[0m\n\u001b[0m",
            "\u001b[0;32m/usr/local/lib/python3.10/dist-packages/torch/_tensor.py\u001b[0m in \u001b[0;36mbackward\u001b[0;34m(self, gradient, retain_graph, create_graph, inputs)\u001b[0m\n\u001b[1;32m    490\u001b[0m                 \u001b[0minputs\u001b[0m\u001b[0;34m=\u001b[0m\u001b[0minputs\u001b[0m\u001b[0;34m,\u001b[0m\u001b[0;34m\u001b[0m\u001b[0;34m\u001b[0m\u001b[0m\n\u001b[1;32m    491\u001b[0m             )\n\u001b[0;32m--> 492\u001b[0;31m         torch.autograd.backward(\n\u001b[0m\u001b[1;32m    493\u001b[0m             \u001b[0mself\u001b[0m\u001b[0;34m,\u001b[0m \u001b[0mgradient\u001b[0m\u001b[0;34m,\u001b[0m \u001b[0mretain_graph\u001b[0m\u001b[0;34m,\u001b[0m \u001b[0mcreate_graph\u001b[0m\u001b[0;34m,\u001b[0m \u001b[0minputs\u001b[0m\u001b[0;34m=\u001b[0m\u001b[0minputs\u001b[0m\u001b[0;34m\u001b[0m\u001b[0;34m\u001b[0m\u001b[0m\n\u001b[1;32m    494\u001b[0m         )\n",
            "\u001b[0;32m/usr/local/lib/python3.10/dist-packages/torch/autograd/__init__.py\u001b[0m in \u001b[0;36mbackward\u001b[0;34m(tensors, grad_tensors, retain_graph, create_graph, grad_variables, inputs)\u001b[0m\n\u001b[1;32m    249\u001b[0m     \u001b[0;31m# some Python versions print out the first line of a multi-line function\u001b[0m\u001b[0;34m\u001b[0m\u001b[0;34m\u001b[0m\u001b[0m\n\u001b[1;32m    250\u001b[0m     \u001b[0;31m# calls in the traceback and some print out the last line\u001b[0m\u001b[0;34m\u001b[0m\u001b[0;34m\u001b[0m\u001b[0m\n\u001b[0;32m--> 251\u001b[0;31m     Variable._execution_engine.run_backward(  # Calls into the C++ engine to run the backward pass\n\u001b[0m\u001b[1;32m    252\u001b[0m         \u001b[0mtensors\u001b[0m\u001b[0;34m,\u001b[0m\u001b[0;34m\u001b[0m\u001b[0;34m\u001b[0m\u001b[0m\n\u001b[1;32m    253\u001b[0m         \u001b[0mgrad_tensors_\u001b[0m\u001b[0;34m,\u001b[0m\u001b[0;34m\u001b[0m\u001b[0;34m\u001b[0m\u001b[0m\n",
            "\u001b[0;31mRuntimeError\u001b[0m: element 0 of tensors does not require grad and does not have a grad_fn"
          ]
        }
      ]
    },
    {
      "cell_type": "markdown",
      "source": [
        "Будьте внимательны: каждая операция с тензором, для которого требуется подсчет градиентов, активирует режим подсчета градиентов для тензоров на выходе. В результате при неаккуратном использовании видеопамять может оказаться полностью забитой графом вычислений.\n",
        "\n",
        "Тензоры весов модели имеют параметр `requires_grad=True` по умолчанию!"
      ],
      "metadata": {
        "id": "azL_-mEabYZ7"
      }
    },
    {
      "cell_type": "code",
      "source": [],
      "metadata": {
        "id": "KDbaQUbTT8kl"
      },
      "execution_count": null,
      "outputs": []
    },
    {
      "cell_type": "markdown",
      "source": [
        "## Matrix-by-matrix product\n",
        "\n",
        "Consider composition of two linear operators:\n",
        "\n",
        "1. $y = Bx$\n",
        "2. $z = Ay$\n",
        "\n",
        "Then, $z = Ay =  A B x = C x$, where $C$ is the **matrix-by-matrix product**.\n",
        "\n",
        "A product of an $n \\times k$ matrix $A$ and a $k \\times m$ matrix $B$ is a $n \\times m$ matrix $C$ with the elements  \n",
        "$$\n",
        "   c_{ij} = \\sum_{s=1}^k a_{is} b_{sj}, \\quad i = 1, \\ldots, n, \\quad j = 1, \\ldots, m\n",
        "$$\n",
        "\n",
        "Complexity of a naive algorithm for MM is $\\mathcal{O}(n^3)$.  \n",
        "Matrix-by-matrix product is the **core** for almost all efficient algorithms in linear algebra. Basically, all the NLA algorithms are reduced to a sequence of matrix-by-matrix products, so efficient implementation of MM reduces the complexity of numerical algorithms by the same factor. However, implementing MM is not easy at all!"
      ],
      "metadata": {
        "id": "TyczsMQiEJQZ"
      }
    },
    {
      "cell_type": "markdown",
      "source": [
        "## Demo\n",
        "Let us do a short demo and compare a `np.dot()` procedure which in my case uses MKL with a hand-written matrix-by-matrix routine in Python and also its Cython version (and also gives a very short introduction to Cython)."
      ],
      "metadata": {
        "id": "661XjpxvERvY"
      }
    },
    {
      "cell_type": "code",
      "source": [
        "import numpy as np\n",
        "\n",
        "def matmul(a, b):\n",
        "    n = a.shape[0]\n",
        "    k = a.shape[1]\n",
        "    m = b.shape[1]\n",
        "    c = np.zeros((n, m))\n",
        "    for i in range(n):\n",
        "        for j in range(m):\n",
        "            for s in range(k):\n",
        "                c[i, j] += a[i, s] * b[s, j]"
      ],
      "metadata": {
        "id": "lA0w8eWFEupD"
      },
      "execution_count": null,
      "outputs": []
    },
    {
      "cell_type": "code",
      "source": [
        "%load_ext Cython"
      ],
      "metadata": {
        "id": "woiB5ZFjES1n"
      },
      "execution_count": null,
      "outputs": []
    },
    {
      "cell_type": "code",
      "source": [
        "%lsmagic"
      ],
      "metadata": {
        "colab": {
          "base_uri": "https://localhost:8080/",
          "height": 260
        },
        "id": "boXemO9TEah2",
        "outputId": "438e3a9f-d648-42e6-d430-a278d9da89e4"
      },
      "execution_count": null,
      "outputs": [
        {
          "output_type": "execute_result",
          "data": {
            "text/plain": [
              "Available line magics:\n",
              "%alias  %alias_magic  %autoawait  %autocall  %automagic  %autosave  %bookmark  %cat  %cd  %clear  %colors  %conda  %config  %connect_info  %cp  %debug  %dhist  %dirs  %doctest_mode  %ed  %edit  %env  %gui  %hist  %history  %killbgscripts  %ldir  %less  %lf  %lk  %ll  %load  %load_ext  %loadpy  %logoff  %logon  %logstart  %logstate  %logstop  %ls  %lsmagic  %lx  %macro  %magic  %man  %matplotlib  %mkdir  %more  %mv  %notebook  %page  %pastebin  %pdb  %pdef  %pdoc  %pfile  %pinfo  %pinfo2  %pip  %popd  %pprint  %precision  %prun  %psearch  %psource  %pushd  %pwd  %pycat  %pylab  %qtconsole  %quickref  %recall  %rehashx  %reload_ext  %rep  %rerun  %reset  %reset_selective  %rm  %rmdir  %run  %save  %sc  %set_env  %shell  %store  %sx  %system  %tb  %tensorflow_version  %time  %timeit  %unalias  %unload_ext  %who  %who_ls  %whos  %xdel  %xmode\n",
              "\n",
              "Available cell magics:\n",
              "%%!  %%HTML  %%SVG  %%bash  %%bigquery  %%capture  %%cython  %%cython_inline  %%cython_pyximport  %%debug  %%file  %%html  %%javascript  %%js  %%latex  %%markdown  %%perl  %%prun  %%pypy  %%python  %%python2  %%python3  %%ruby  %%script  %%sh  %%shell  %%svg  %%sx  %%system  %%time  %%timeit  %%writefile\n",
              "\n",
              "Automagic is ON, % prefix IS NOT needed for line magics."
            ],
            "application/json": {
              "line": {
                "automagic": "AutoMagics",
                "autocall": "AutoMagics",
                "alias_magic": "BasicMagics",
                "lsmagic": "BasicMagics",
                "magic": "BasicMagics",
                "page": "BasicMagics",
                "pprint": "BasicMagics",
                "colors": "BasicMagics",
                "xmode": "BasicMagics",
                "quickref": "BasicMagics",
                "doctest_mode": "BasicMagics",
                "gui": "BasicMagics",
                "precision": "BasicMagics",
                "notebook": "BasicMagics",
                "save": "CodeMagics",
                "pastebin": "CodeMagics",
                "loadpy": "CodeMagics",
                "load": "CodeMagics",
                "edit": "KernelMagics",
                "config": "ConfigMagics",
                "prun": "ExecutionMagics",
                "pdb": "ExecutionMagics",
                "debug": "ExecutionMagics",
                "tb": "ExecutionMagics",
                "run": "ExecutionMagics",
                "timeit": "ExecutionMagics",
                "time": "ExecutionMagics",
                "macro": "ExecutionMagics",
                "load_ext": "ExtensionMagics",
                "unload_ext": "ExtensionMagics",
                "reload_ext": "ExtensionMagics",
                "history": "HistoryMagics",
                "recall": "HistoryMagics",
                "rerun": "HistoryMagics",
                "logstart": "LoggingMagics",
                "logstop": "LoggingMagics",
                "logoff": "LoggingMagics",
                "logon": "LoggingMagics",
                "logstate": "LoggingMagics",
                "pinfo": "NamespaceMagics",
                "pinfo2": "NamespaceMagics",
                "pdef": "NamespaceMagics",
                "pdoc": "NamespaceMagics",
                "psource": "NamespaceMagics",
                "pfile": "NamespaceMagics",
                "psearch": "NamespaceMagics",
                "who_ls": "NamespaceMagics",
                "who": "NamespaceMagics",
                "whos": "NamespaceMagics",
                "reset": "NamespaceMagics",
                "reset_selective": "NamespaceMagics",
                "xdel": "NamespaceMagics",
                "alias": "OSMagics",
                "unalias": "OSMagics",
                "rehashx": "OSMagics",
                "pwd": "OSMagics",
                "cd": "OSMagics",
                "env": "OSMagics",
                "set_env": "OSMagics",
                "pushd": "OSMagics",
                "popd": "OSMagics",
                "dirs": "OSMagics",
                "dhist": "OSMagics",
                "sc": "OSMagics",
                "sx": "OSMagics",
                "system": "OSMagics",
                "bookmark": "OSMagics",
                "pycat": "OSMagics",
                "pip": "Other",
                "conda": "PackagingMagics",
                "matplotlib": "PylabMagics",
                "pylab": "PylabMagics",
                "killbgscripts": "ScriptMagics",
                "autoawait": "AsyncMagics",
                "ed": "Other",
                "hist": "Other",
                "rep": "Other",
                "clear": "KernelMagics",
                "less": "KernelMagics",
                "more": "KernelMagics",
                "man": "KernelMagics",
                "connect_info": "KernelMagics",
                "qtconsole": "KernelMagics",
                "autosave": "KernelMagics",
                "mkdir": "Other",
                "rmdir": "Other",
                "mv": "Other",
                "rm": "Other",
                "cp": "Other",
                "cat": "Other",
                "ls": "Other",
                "ll": "Other",
                "lf": "Other",
                "lk": "Other",
                "ldir": "Other",
                "lx": "Other",
                "store": "StoreMagics",
                "shell": "Other",
                "tensorflow_version": "Other"
              },
              "cell": {
                "js": "DisplayMagics",
                "javascript": "DisplayMagics",
                "latex": "DisplayMagics",
                "svg": "DisplayMagics",
                "html": "DisplayMagics",
                "markdown": "DisplayMagics",
                "prun": "ExecutionMagics",
                "debug": "ExecutionMagics",
                "timeit": "ExecutionMagics",
                "time": "ExecutionMagics",
                "capture": "ExecutionMagics",
                "sx": "OSMagics",
                "system": "OSMagics",
                "!": "OSMagics",
                "writefile": "OSMagics",
                "script": "ScriptMagics",
                "sh": "Other",
                "bash": "Other",
                "perl": "Other",
                "ruby": "Other",
                "python": "Other",
                "python2": "Other",
                "python3": "Other",
                "pypy": "Other",
                "SVG": "Other",
                "HTML": "Other",
                "file": "Other",
                "bigquery": "Other",
                "shell": "Other",
                "cython_inline": "CythonMagics",
                "cython_pyximport": "CythonMagics",
                "cython": "CythonMagics"
              }
            }
          },
          "metadata": {},
          "execution_count": 15
        }
      ]
    },
    {
      "cell_type": "code",
      "source": [
        "%%cython\n",
        "import numpy as np\n",
        "\n",
        "def cython_matmul(double [:, :] a, double[:, :] b):\n",
        "    cdef int n = a.shape[0]\n",
        "    cdef int k = a.shape[1]\n",
        "    cdef int m = b.shape[1]\n",
        "    cdef int i\n",
        "    cdef int j\n",
        "    cdef int s\n",
        "    c = np.zeros((n, m))\n",
        "    cdef double[:, :] cview = c\n",
        "    for i in range(n):\n",
        "        for j in range(m):\n",
        "            for s in xrange(k):\n",
        "                c[i, j] += a[i, s] * b[s, j]\n",
        "    return c"
      ],
      "metadata": {
        "id": "lu-HcfyXESGQ"
      },
      "execution_count": null,
      "outputs": []
    },
    {
      "cell_type": "code",
      "source": [
        "n = 100\n",
        "a = np.random.randn(n, n)\n",
        "b = np.random.randn(n, n)\n",
        "%timeit c_manual = matmul(a, b)\n",
        "%timeit c_cython = cython_matmul(a, b)\n",
        "%timeit c_np = np.dot(a, b)"
      ],
      "metadata": {
        "colab": {
          "base_uri": "https://localhost:8080/"
        },
        "id": "_W3_Iu2AEikF",
        "outputId": "45738e9e-0fdc-4770-da3f-9f19f67555e0"
      },
      "execution_count": null,
      "outputs": [
        {
          "output_type": "stream",
          "name": "stdout",
          "text": [
            "701 ms ± 209 ms per loop (mean ± std. dev. of 7 runs, 1 loop each)\n",
            "262 ms ± 34.2 ms per loop (mean ± std. dev. of 7 runs, 1 loop each)\n",
            "121 µs ± 32.9 µs per loop (mean ± std. dev. of 7 runs, 10000 loops each)\n"
          ]
        }
      ]
    },
    {
      "cell_type": "code",
      "source": [],
      "metadata": {
        "id": "IBUc6Al7GiPu"
      },
      "execution_count": null,
      "outputs": []
    }
  ]
}