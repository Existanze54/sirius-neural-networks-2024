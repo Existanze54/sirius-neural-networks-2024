{
  "nbformat": 4,
  "nbformat_minor": 0,
  "metadata": {
    "colab": {
      "provenance": [],
      "include_colab_link": true
    },
    "kernelspec": {
      "name": "python3",
      "display_name": "Python 3"
    },
    "language_info": {
      "name": "python"
    }
  },
  "cells": [
    {
      "cell_type": "markdown",
      "metadata": {
        "id": "view-in-github",
        "colab_type": "text"
      },
      "source": [
        "<a href=\"https://colab.research.google.com/github/Existanze54/sirius-neural-networks-2024/blob/main/Practices/S12_LLM_LegNet/LegNET.ipynb\" target=\"_parent\"><img src=\"https://colab.research.google.com/assets/colab-badge.svg\" alt=\"Open In Colab\"/></a>"
      ]
    },
    {
      "cell_type": "markdown",
      "metadata": {
        "id": "nkmYDuHl2cR7"
      },
      "source": [
        "## Собираем свой LegNET с SEблоком и конволюциями. Учим LegNet предсказывать экспрессию в клеточной линии HepG2\n"
      ]
    },
    {
      "cell_type": "code",
      "source": [
        "!wget https://kodomo.fbb.msu.ru/FBB/ml/vikram_hse_dataset.csv"
      ],
      "metadata": {
        "colab": {
          "base_uri": "https://localhost:8080/"
        },
        "id": "eeYU0mlOvHQm",
        "outputId": "f77c6073-aa8b-47da-fbed-3983bfc5853d"
      },
      "execution_count": null,
      "outputs": [
        {
          "output_type": "stream",
          "name": "stdout",
          "text": [
            "--2024-05-23 06:33:07--  https://kodomo.fbb.msu.ru/FBB/ml/vikram_hse_dataset.csv\n",
            "Resolving kodomo.fbb.msu.ru (kodomo.fbb.msu.ru)... 93.180.63.127\n",
            "Connecting to kodomo.fbb.msu.ru (kodomo.fbb.msu.ru)|93.180.63.127|:443... connected.\n",
            "HTTP request sent, awaiting response... 200 OK\n",
            "Length: 23610749 (23M) [text/csv]\n",
            "Saving to: ‘vikram_hse_dataset.csv’\n",
            "\n",
            "vikram_hse_dataset. 100%[===================>]  22.52M  13.4MB/s    in 1.7s    \n",
            "\n",
            "2024-05-23 06:33:10 (13.4 MB/s) - ‘vikram_hse_dataset.csv’ saved [23610749/23610749]\n",
            "\n"
          ]
        }
      ]
    },
    {
      "cell_type": "code",
      "source": [
        "!pip install pytorch-lightning"
      ],
      "metadata": {
        "colab": {
          "base_uri": "https://localhost:8080/"
        },
        "id": "TeKkX56nJxBx",
        "outputId": "8879e4de-1ebe-42bf-ca31-257db78bb82e"
      },
      "execution_count": null,
      "outputs": [
        {
          "output_type": "stream",
          "name": "stdout",
          "text": [
            "Collecting pytorch-lightning\n",
            "  Downloading pytorch_lightning-2.2.5-py3-none-any.whl (802 kB)\n",
            "\u001b[2K     \u001b[90m━━━━━━━━━━━━━━━━━━━━━━━━━━━━━━━━━━━━━━━━\u001b[0m \u001b[32m802.3/802.3 kB\u001b[0m \u001b[31m4.1 MB/s\u001b[0m eta \u001b[36m0:00:00\u001b[0m\n",
            "\u001b[?25hRequirement already satisfied: numpy>=1.17.2 in /usr/local/lib/python3.10/dist-packages (from pytorch-lightning) (1.25.2)\n",
            "Requirement already satisfied: torch>=1.13.0 in /usr/local/lib/python3.10/dist-packages (from pytorch-lightning) (2.3.0+cu121)\n",
            "Requirement already satisfied: tqdm>=4.57.0 in /usr/local/lib/python3.10/dist-packages (from pytorch-lightning) (4.66.4)\n",
            "Requirement already satisfied: PyYAML>=5.4 in /usr/local/lib/python3.10/dist-packages (from pytorch-lightning) (6.0.1)\n",
            "Requirement already satisfied: fsspec[http]>=2022.5.0 in /usr/local/lib/python3.10/dist-packages (from pytorch-lightning) (2023.6.0)\n",
            "Collecting torchmetrics>=0.7.0 (from pytorch-lightning)\n",
            "  Downloading torchmetrics-1.4.0.post0-py3-none-any.whl (868 kB)\n",
            "\u001b[2K     \u001b[90m━━━━━━━━━━━━━━━━━━━━━━━━━━━━━━━━━━━━━━━━\u001b[0m \u001b[32m868.8/868.8 kB\u001b[0m \u001b[31m9.1 MB/s\u001b[0m eta \u001b[36m0:00:00\u001b[0m\n",
            "\u001b[?25hRequirement already satisfied: packaging>=20.0 in /usr/local/lib/python3.10/dist-packages (from pytorch-lightning) (24.0)\n",
            "Requirement already satisfied: typing-extensions>=4.4.0 in /usr/local/lib/python3.10/dist-packages (from pytorch-lightning) (4.11.0)\n",
            "Collecting lightning-utilities>=0.8.0 (from pytorch-lightning)\n",
            "  Downloading lightning_utilities-0.11.2-py3-none-any.whl (26 kB)\n",
            "Requirement already satisfied: requests in /usr/local/lib/python3.10/dist-packages (from fsspec[http]>=2022.5.0->pytorch-lightning) (2.31.0)\n",
            "Requirement already satisfied: aiohttp!=4.0.0a0,!=4.0.0a1 in /usr/local/lib/python3.10/dist-packages (from fsspec[http]>=2022.5.0->pytorch-lightning) (3.9.5)\n",
            "Requirement already satisfied: setuptools in /usr/local/lib/python3.10/dist-packages (from lightning-utilities>=0.8.0->pytorch-lightning) (67.7.2)\n",
            "Requirement already satisfied: filelock in /usr/local/lib/python3.10/dist-packages (from torch>=1.13.0->pytorch-lightning) (3.14.0)\n",
            "Requirement already satisfied: sympy in /usr/local/lib/python3.10/dist-packages (from torch>=1.13.0->pytorch-lightning) (1.12)\n",
            "Requirement already satisfied: networkx in /usr/local/lib/python3.10/dist-packages (from torch>=1.13.0->pytorch-lightning) (3.3)\n",
            "Requirement already satisfied: jinja2 in /usr/local/lib/python3.10/dist-packages (from torch>=1.13.0->pytorch-lightning) (3.1.4)\n",
            "Collecting nvidia-cuda-nvrtc-cu12==12.1.105 (from torch>=1.13.0->pytorch-lightning)\n",
            "  Using cached nvidia_cuda_nvrtc_cu12-12.1.105-py3-none-manylinux1_x86_64.whl (23.7 MB)\n",
            "Collecting nvidia-cuda-runtime-cu12==12.1.105 (from torch>=1.13.0->pytorch-lightning)\n",
            "  Using cached nvidia_cuda_runtime_cu12-12.1.105-py3-none-manylinux1_x86_64.whl (823 kB)\n",
            "Collecting nvidia-cuda-cupti-cu12==12.1.105 (from torch>=1.13.0->pytorch-lightning)\n",
            "  Using cached nvidia_cuda_cupti_cu12-12.1.105-py3-none-manylinux1_x86_64.whl (14.1 MB)\n",
            "Collecting nvidia-cudnn-cu12==8.9.2.26 (from torch>=1.13.0->pytorch-lightning)\n",
            "  Using cached nvidia_cudnn_cu12-8.9.2.26-py3-none-manylinux1_x86_64.whl (731.7 MB)\n",
            "Collecting nvidia-cublas-cu12==12.1.3.1 (from torch>=1.13.0->pytorch-lightning)\n",
            "  Using cached nvidia_cublas_cu12-12.1.3.1-py3-none-manylinux1_x86_64.whl (410.6 MB)\n",
            "Collecting nvidia-cufft-cu12==11.0.2.54 (from torch>=1.13.0->pytorch-lightning)\n",
            "  Using cached nvidia_cufft_cu12-11.0.2.54-py3-none-manylinux1_x86_64.whl (121.6 MB)\n",
            "Collecting nvidia-curand-cu12==10.3.2.106 (from torch>=1.13.0->pytorch-lightning)\n",
            "  Using cached nvidia_curand_cu12-10.3.2.106-py3-none-manylinux1_x86_64.whl (56.5 MB)\n",
            "Collecting nvidia-cusolver-cu12==11.4.5.107 (from torch>=1.13.0->pytorch-lightning)\n",
            "  Using cached nvidia_cusolver_cu12-11.4.5.107-py3-none-manylinux1_x86_64.whl (124.2 MB)\n",
            "Collecting nvidia-cusparse-cu12==12.1.0.106 (from torch>=1.13.0->pytorch-lightning)\n",
            "  Using cached nvidia_cusparse_cu12-12.1.0.106-py3-none-manylinux1_x86_64.whl (196.0 MB)\n",
            "Collecting nvidia-nccl-cu12==2.20.5 (from torch>=1.13.0->pytorch-lightning)\n",
            "  Using cached nvidia_nccl_cu12-2.20.5-py3-none-manylinux2014_x86_64.whl (176.2 MB)\n",
            "Collecting nvidia-nvtx-cu12==12.1.105 (from torch>=1.13.0->pytorch-lightning)\n",
            "  Using cached nvidia_nvtx_cu12-12.1.105-py3-none-manylinux1_x86_64.whl (99 kB)\n",
            "Requirement already satisfied: triton==2.3.0 in /usr/local/lib/python3.10/dist-packages (from torch>=1.13.0->pytorch-lightning) (2.3.0)\n",
            "Collecting nvidia-nvjitlink-cu12 (from nvidia-cusolver-cu12==11.4.5.107->torch>=1.13.0->pytorch-lightning)\n",
            "  Downloading nvidia_nvjitlink_cu12-12.5.40-py3-none-manylinux2014_x86_64.whl (21.3 MB)\n",
            "\u001b[2K     \u001b[90m━━━━━━━━━━━━━━━━━━━━━━━━━━━━━━━━━━━━━━━━\u001b[0m \u001b[32m21.3/21.3 MB\u001b[0m \u001b[31m43.8 MB/s\u001b[0m eta \u001b[36m0:00:00\u001b[0m\n",
            "\u001b[?25hRequirement already satisfied: aiosignal>=1.1.2 in /usr/local/lib/python3.10/dist-packages (from aiohttp!=4.0.0a0,!=4.0.0a1->fsspec[http]>=2022.5.0->pytorch-lightning) (1.3.1)\n",
            "Requirement already satisfied: attrs>=17.3.0 in /usr/local/lib/python3.10/dist-packages (from aiohttp!=4.0.0a0,!=4.0.0a1->fsspec[http]>=2022.5.0->pytorch-lightning) (23.2.0)\n",
            "Requirement already satisfied: frozenlist>=1.1.1 in /usr/local/lib/python3.10/dist-packages (from aiohttp!=4.0.0a0,!=4.0.0a1->fsspec[http]>=2022.5.0->pytorch-lightning) (1.4.1)\n",
            "Requirement already satisfied: multidict<7.0,>=4.5 in /usr/local/lib/python3.10/dist-packages (from aiohttp!=4.0.0a0,!=4.0.0a1->fsspec[http]>=2022.5.0->pytorch-lightning) (6.0.5)\n",
            "Requirement already satisfied: yarl<2.0,>=1.0 in /usr/local/lib/python3.10/dist-packages (from aiohttp!=4.0.0a0,!=4.0.0a1->fsspec[http]>=2022.5.0->pytorch-lightning) (1.9.4)\n",
            "Requirement already satisfied: async-timeout<5.0,>=4.0 in /usr/local/lib/python3.10/dist-packages (from aiohttp!=4.0.0a0,!=4.0.0a1->fsspec[http]>=2022.5.0->pytorch-lightning) (4.0.3)\n",
            "Requirement already satisfied: MarkupSafe>=2.0 in /usr/local/lib/python3.10/dist-packages (from jinja2->torch>=1.13.0->pytorch-lightning) (2.1.5)\n",
            "Requirement already satisfied: charset-normalizer<4,>=2 in /usr/local/lib/python3.10/dist-packages (from requests->fsspec[http]>=2022.5.0->pytorch-lightning) (3.3.2)\n",
            "Requirement already satisfied: idna<4,>=2.5 in /usr/local/lib/python3.10/dist-packages (from requests->fsspec[http]>=2022.5.0->pytorch-lightning) (3.7)\n",
            "Requirement already satisfied: urllib3<3,>=1.21.1 in /usr/local/lib/python3.10/dist-packages (from requests->fsspec[http]>=2022.5.0->pytorch-lightning) (2.0.7)\n",
            "Requirement already satisfied: certifi>=2017.4.17 in /usr/local/lib/python3.10/dist-packages (from requests->fsspec[http]>=2022.5.0->pytorch-lightning) (2024.2.2)\n",
            "Requirement already satisfied: mpmath>=0.19 in /usr/local/lib/python3.10/dist-packages (from sympy->torch>=1.13.0->pytorch-lightning) (1.3.0)\n",
            "Installing collected packages: nvidia-nvtx-cu12, nvidia-nvjitlink-cu12, nvidia-nccl-cu12, nvidia-curand-cu12, nvidia-cufft-cu12, nvidia-cuda-runtime-cu12, nvidia-cuda-nvrtc-cu12, nvidia-cuda-cupti-cu12, nvidia-cublas-cu12, lightning-utilities, nvidia-cusparse-cu12, nvidia-cudnn-cu12, nvidia-cusolver-cu12, torchmetrics, pytorch-lightning\n",
            "Successfully installed lightning-utilities-0.11.2 nvidia-cublas-cu12-12.1.3.1 nvidia-cuda-cupti-cu12-12.1.105 nvidia-cuda-nvrtc-cu12-12.1.105 nvidia-cuda-runtime-cu12-12.1.105 nvidia-cudnn-cu12-8.9.2.26 nvidia-cufft-cu12-11.0.2.54 nvidia-curand-cu12-10.3.2.106 nvidia-cusolver-cu12-11.4.5.107 nvidia-cusparse-cu12-12.1.0.106 nvidia-nccl-cu12-2.20.5 nvidia-nvjitlink-cu12-12.5.40 nvidia-nvtx-cu12-12.1.105 pytorch-lightning-2.2.5 torchmetrics-1.4.0.post0\n"
          ]
        }
      ]
    },
    {
      "cell_type": "markdown",
      "source": [
        "## Постановка задачи\n",
        "<img src=\"https://github.com/Existanze54/sirius-neural-networks-2024/blob/main/Images/penzar.png?raw=true\" width=\"1200px\">"
      ],
      "metadata": {
        "id": "xGYvi1GIgZ5t"
      }
    },
    {
      "cell_type": "markdown",
      "source": [
        "Датасет состоял из 6кк последовательностей по 80 нуклеотидов. Последовательности вставлялись в дрожжи между зоной константно экспрессирующегосся красного белка и белком Reporter, который светится желтым. Далее по экспрессии белков и светимости эти дрожжи распределялись в 18 бинов, вероятности попадания в которые и надо было предсказать"
      ],
      "metadata": {
        "id": "5K6GitCZgxWg"
      }
    },
    {
      "cell_type": "markdown",
      "source": [
        "## Архитектура NewLegNET\n",
        "<img src=\"https://github.com/Existanze54/sirius-neural-networks-2024/blob/main/Images/FullScheme.png?raw=true\" width=\"1400px\">\n",
        "\n",
        "После Dream Challenge 2022 прошло время, команда попробовала применить свою архитектуру к другим типам задач. В новой архитектуре мы не будем предсказывать распределение по бинам, а сразу перейдем непосредственно к уровню экспрессии той или иной конфигурации региона\n"
      ],
      "metadata": {
        "id": "yEl3Wkhoh_04"
      }
    },
    {
      "cell_type": "code",
      "source": [
        "import pandas as pd\n",
        "vikram_dataset = pd.read_csv(\"vikram_hse_dataset.csv\", sep=\"\\t\")"
      ],
      "metadata": {
        "id": "j9PSMmPSJeBG"
      },
      "execution_count": null,
      "outputs": []
    },
    {
      "cell_type": "code",
      "source": [
        "vikram_dataset.head()"
      ],
      "metadata": {
        "colab": {
          "base_uri": "https://localhost:8080/",
          "height": 206
        },
        "outputId": "489d010f-7d8b-4bb0-8a6d-7346bf8330d2",
        "id": "XX-hi1_gJeBH"
      },
      "execution_count": null,
      "outputs": [
        {
          "output_type": "execute_result",
          "data": {
            "text/plain": [
              "                                                 seq   score\n",
              "0  AGGACCGGATCAACTAGTATGAGGAGGGTTGTGGAGTGGAAGTGAA... -0.3105\n",
              "1  AGGACCGGATCAACTTTGCTCCTTAACACAGGCTAAGGACCAGCTT...  0.9455\n",
              "2  AGGACCGGATCAACTTCCTGGCCCCCAAGAGCACAGGGAGGCCTTG... -0.0855\n",
              "3  AGGACCGGATCAACTTTTTAGACTGTGCAGTTAAGTAAGGCCTCAC... -0.6655\n",
              "4  AGGACCGGATCAACTTCCACCGCGCTTCCTCCACGAAACCACACAG... -0.0135"
            ],
            "text/html": [
              "\n",
              "  <div id=\"df-8989617a-f5dd-47ba-8410-8b9d7ab415b5\" class=\"colab-df-container\">\n",
              "    <div>\n",
              "<style scoped>\n",
              "    .dataframe tbody tr th:only-of-type {\n",
              "        vertical-align: middle;\n",
              "    }\n",
              "\n",
              "    .dataframe tbody tr th {\n",
              "        vertical-align: top;\n",
              "    }\n",
              "\n",
              "    .dataframe thead th {\n",
              "        text-align: right;\n",
              "    }\n",
              "</style>\n",
              "<table border=\"1\" class=\"dataframe\">\n",
              "  <thead>\n",
              "    <tr style=\"text-align: right;\">\n",
              "      <th></th>\n",
              "      <th>seq</th>\n",
              "      <th>score</th>\n",
              "    </tr>\n",
              "  </thead>\n",
              "  <tbody>\n",
              "    <tr>\n",
              "      <th>0</th>\n",
              "      <td>AGGACCGGATCAACTAGTATGAGGAGGGTTGTGGAGTGGAAGTGAA...</td>\n",
              "      <td>-0.3105</td>\n",
              "    </tr>\n",
              "    <tr>\n",
              "      <th>1</th>\n",
              "      <td>AGGACCGGATCAACTTTGCTCCTTAACACAGGCTAAGGACCAGCTT...</td>\n",
              "      <td>0.9455</td>\n",
              "    </tr>\n",
              "    <tr>\n",
              "      <th>2</th>\n",
              "      <td>AGGACCGGATCAACTTCCTGGCCCCCAAGAGCACAGGGAGGCCTTG...</td>\n",
              "      <td>-0.0855</td>\n",
              "    </tr>\n",
              "    <tr>\n",
              "      <th>3</th>\n",
              "      <td>AGGACCGGATCAACTTTTTAGACTGTGCAGTTAAGTAAGGCCTCAC...</td>\n",
              "      <td>-0.6655</td>\n",
              "    </tr>\n",
              "    <tr>\n",
              "      <th>4</th>\n",
              "      <td>AGGACCGGATCAACTTCCACCGCGCTTCCTCCACGAAACCACACAG...</td>\n",
              "      <td>-0.0135</td>\n",
              "    </tr>\n",
              "  </tbody>\n",
              "</table>\n",
              "</div>\n",
              "    <div class=\"colab-df-buttons\">\n",
              "\n",
              "  <div class=\"colab-df-container\">\n",
              "    <button class=\"colab-df-convert\" onclick=\"convertToInteractive('df-8989617a-f5dd-47ba-8410-8b9d7ab415b5')\"\n",
              "            title=\"Convert this dataframe to an interactive table.\"\n",
              "            style=\"display:none;\">\n",
              "\n",
              "  <svg xmlns=\"http://www.w3.org/2000/svg\" height=\"24px\" viewBox=\"0 -960 960 960\">\n",
              "    <path d=\"M120-120v-720h720v720H120Zm60-500h600v-160H180v160Zm220 220h160v-160H400v160Zm0 220h160v-160H400v160ZM180-400h160v-160H180v160Zm440 0h160v-160H620v160ZM180-180h160v-160H180v160Zm440 0h160v-160H620v160Z\"/>\n",
              "  </svg>\n",
              "    </button>\n",
              "\n",
              "  <style>\n",
              "    .colab-df-container {\n",
              "      display:flex;\n",
              "      gap: 12px;\n",
              "    }\n",
              "\n",
              "    .colab-df-convert {\n",
              "      background-color: #E8F0FE;\n",
              "      border: none;\n",
              "      border-radius: 50%;\n",
              "      cursor: pointer;\n",
              "      display: none;\n",
              "      fill: #1967D2;\n",
              "      height: 32px;\n",
              "      padding: 0 0 0 0;\n",
              "      width: 32px;\n",
              "    }\n",
              "\n",
              "    .colab-df-convert:hover {\n",
              "      background-color: #E2EBFA;\n",
              "      box-shadow: 0px 1px 2px rgba(60, 64, 67, 0.3), 0px 1px 3px 1px rgba(60, 64, 67, 0.15);\n",
              "      fill: #174EA6;\n",
              "    }\n",
              "\n",
              "    .colab-df-buttons div {\n",
              "      margin-bottom: 4px;\n",
              "    }\n",
              "\n",
              "    [theme=dark] .colab-df-convert {\n",
              "      background-color: #3B4455;\n",
              "      fill: #D2E3FC;\n",
              "    }\n",
              "\n",
              "    [theme=dark] .colab-df-convert:hover {\n",
              "      background-color: #434B5C;\n",
              "      box-shadow: 0px 1px 3px 1px rgba(0, 0, 0, 0.15);\n",
              "      filter: drop-shadow(0px 1px 2px rgba(0, 0, 0, 0.3));\n",
              "      fill: #FFFFFF;\n",
              "    }\n",
              "  </style>\n",
              "\n",
              "    <script>\n",
              "      const buttonEl =\n",
              "        document.querySelector('#df-8989617a-f5dd-47ba-8410-8b9d7ab415b5 button.colab-df-convert');\n",
              "      buttonEl.style.display =\n",
              "        google.colab.kernel.accessAllowed ? 'block' : 'none';\n",
              "\n",
              "      async function convertToInteractive(key) {\n",
              "        const element = document.querySelector('#df-8989617a-f5dd-47ba-8410-8b9d7ab415b5');\n",
              "        const dataTable =\n",
              "          await google.colab.kernel.invokeFunction('convertToInteractive',\n",
              "                                                    [key], {});\n",
              "        if (!dataTable) return;\n",
              "\n",
              "        const docLinkHtml = 'Like what you see? Visit the ' +\n",
              "          '<a target=\"_blank\" href=https://colab.research.google.com/notebooks/data_table.ipynb>data table notebook</a>'\n",
              "          + ' to learn more about interactive tables.';\n",
              "        element.innerHTML = '';\n",
              "        dataTable['output_type'] = 'display_data';\n",
              "        await google.colab.output.renderOutput(dataTable, element);\n",
              "        const docLink = document.createElement('div');\n",
              "        docLink.innerHTML = docLinkHtml;\n",
              "        element.appendChild(docLink);\n",
              "      }\n",
              "    </script>\n",
              "  </div>\n",
              "\n",
              "\n",
              "<div id=\"df-7b50472f-0b31-417d-a438-f4003dd19aed\">\n",
              "  <button class=\"colab-df-quickchart\" onclick=\"quickchart('df-7b50472f-0b31-417d-a438-f4003dd19aed')\"\n",
              "            title=\"Suggest charts\"\n",
              "            style=\"display:none;\">\n",
              "\n",
              "<svg xmlns=\"http://www.w3.org/2000/svg\" height=\"24px\"viewBox=\"0 0 24 24\"\n",
              "     width=\"24px\">\n",
              "    <g>\n",
              "        <path d=\"M19 3H5c-1.1 0-2 .9-2 2v14c0 1.1.9 2 2 2h14c1.1 0 2-.9 2-2V5c0-1.1-.9-2-2-2zM9 17H7v-7h2v7zm4 0h-2V7h2v10zm4 0h-2v-4h2v4z\"/>\n",
              "    </g>\n",
              "</svg>\n",
              "  </button>\n",
              "\n",
              "<style>\n",
              "  .colab-df-quickchart {\n",
              "      --bg-color: #E8F0FE;\n",
              "      --fill-color: #1967D2;\n",
              "      --hover-bg-color: #E2EBFA;\n",
              "      --hover-fill-color: #174EA6;\n",
              "      --disabled-fill-color: #AAA;\n",
              "      --disabled-bg-color: #DDD;\n",
              "  }\n",
              "\n",
              "  [theme=dark] .colab-df-quickchart {\n",
              "      --bg-color: #3B4455;\n",
              "      --fill-color: #D2E3FC;\n",
              "      --hover-bg-color: #434B5C;\n",
              "      --hover-fill-color: #FFFFFF;\n",
              "      --disabled-bg-color: #3B4455;\n",
              "      --disabled-fill-color: #666;\n",
              "  }\n",
              "\n",
              "  .colab-df-quickchart {\n",
              "    background-color: var(--bg-color);\n",
              "    border: none;\n",
              "    border-radius: 50%;\n",
              "    cursor: pointer;\n",
              "    display: none;\n",
              "    fill: var(--fill-color);\n",
              "    height: 32px;\n",
              "    padding: 0;\n",
              "    width: 32px;\n",
              "  }\n",
              "\n",
              "  .colab-df-quickchart:hover {\n",
              "    background-color: var(--hover-bg-color);\n",
              "    box-shadow: 0 1px 2px rgba(60, 64, 67, 0.3), 0 1px 3px 1px rgba(60, 64, 67, 0.15);\n",
              "    fill: var(--button-hover-fill-color);\n",
              "  }\n",
              "\n",
              "  .colab-df-quickchart-complete:disabled,\n",
              "  .colab-df-quickchart-complete:disabled:hover {\n",
              "    background-color: var(--disabled-bg-color);\n",
              "    fill: var(--disabled-fill-color);\n",
              "    box-shadow: none;\n",
              "  }\n",
              "\n",
              "  .colab-df-spinner {\n",
              "    border: 2px solid var(--fill-color);\n",
              "    border-color: transparent;\n",
              "    border-bottom-color: var(--fill-color);\n",
              "    animation:\n",
              "      spin 1s steps(1) infinite;\n",
              "  }\n",
              "\n",
              "  @keyframes spin {\n",
              "    0% {\n",
              "      border-color: transparent;\n",
              "      border-bottom-color: var(--fill-color);\n",
              "      border-left-color: var(--fill-color);\n",
              "    }\n",
              "    20% {\n",
              "      border-color: transparent;\n",
              "      border-left-color: var(--fill-color);\n",
              "      border-top-color: var(--fill-color);\n",
              "    }\n",
              "    30% {\n",
              "      border-color: transparent;\n",
              "      border-left-color: var(--fill-color);\n",
              "      border-top-color: var(--fill-color);\n",
              "      border-right-color: var(--fill-color);\n",
              "    }\n",
              "    40% {\n",
              "      border-color: transparent;\n",
              "      border-right-color: var(--fill-color);\n",
              "      border-top-color: var(--fill-color);\n",
              "    }\n",
              "    60% {\n",
              "      border-color: transparent;\n",
              "      border-right-color: var(--fill-color);\n",
              "    }\n",
              "    80% {\n",
              "      border-color: transparent;\n",
              "      border-right-color: var(--fill-color);\n",
              "      border-bottom-color: var(--fill-color);\n",
              "    }\n",
              "    90% {\n",
              "      border-color: transparent;\n",
              "      border-bottom-color: var(--fill-color);\n",
              "    }\n",
              "  }\n",
              "</style>\n",
              "\n",
              "  <script>\n",
              "    async function quickchart(key) {\n",
              "      const quickchartButtonEl =\n",
              "        document.querySelector('#' + key + ' button');\n",
              "      quickchartButtonEl.disabled = true;  // To prevent multiple clicks.\n",
              "      quickchartButtonEl.classList.add('colab-df-spinner');\n",
              "      try {\n",
              "        const charts = await google.colab.kernel.invokeFunction(\n",
              "            'suggestCharts', [key], {});\n",
              "      } catch (error) {\n",
              "        console.error('Error during call to suggestCharts:', error);\n",
              "      }\n",
              "      quickchartButtonEl.classList.remove('colab-df-spinner');\n",
              "      quickchartButtonEl.classList.add('colab-df-quickchart-complete');\n",
              "    }\n",
              "    (() => {\n",
              "      let quickchartButtonEl =\n",
              "        document.querySelector('#df-7b50472f-0b31-417d-a438-f4003dd19aed button');\n",
              "      quickchartButtonEl.style.display =\n",
              "        google.colab.kernel.accessAllowed ? 'block' : 'none';\n",
              "    })();\n",
              "  </script>\n",
              "</div>\n",
              "    </div>\n",
              "  </div>\n"
            ],
            "application/vnd.google.colaboratory.intrinsic+json": {
              "type": "dataframe",
              "variable_name": "vikram_dataset",
              "summary": "{\n  \"name\": \"vikram_dataset\",\n  \"rows\": 98332,\n  \"fields\": [\n    {\n      \"column\": \"seq\",\n      \"properties\": {\n        \"dtype\": \"string\",\n        \"num_unique_values\": 98332,\n        \"samples\": [\n          \"AGGACCGGATCAACTCAAGTGCGAAGGCTCAATCCAAACATGACTCCCTGTCAGCGCTCTTGTCCCGGCCAGCTGTCCCCAGCAATTACTGATGCTCTGCTGCCCCCGCCTGGCCAAGCCCATTCTAACCACTTCAAAGGCCTCACTGGACCCTTATCTGGAAAACCGCCAGCATAGCTTCTCAAAAAGCTGTTCCAAGCCTCATACACACACCTCATTGCGTGAACCGA\",\n          \"AGGACCGGATCAACTGGATGCAGAGAGACCGAATGACGGCCACCCTGCTCACAGGCCCTTCGCTGGGAACTGCTCTTTCTACACTCTGGGTGGCAGTATCGCTCCATCCCACACTTGAGCACACAAAAAAGGAAACATCTCACCTCCGGGTGAAAGAATATTTCAGGTCCCAGGAATCTTTCGTAACCAACGTCTATAACAAACTTCTTCTGGTTCATTGCGTGAACCGA\",\n          \"AGGACCGGATCAACTCTGCATGGGCGGCGCTTGGACCCGCGCTCTGGAGTCATCAGGCGGAGCAAAGCCAGCGCGCTCCGCGGCTCGGAATCCAGCTGGCTCGCTACCCTCCCACTCCTGCGATTTTACTCCCGACCGCGCTCCAGGGCAGAAGCGCCTGAGCTCCCGCTAGTGGGCATTTAAAGCCCATGCCCGGCGGGCGTGCTGACGCCACTCATTGCGTGAACCGA\"\n        ],\n        \"semantic_type\": \"\",\n        \"description\": \"\"\n      }\n    },\n    {\n      \"column\": \"score\",\n      \"properties\": {\n        \"dtype\": \"number\",\n        \"std\": 0.48472361421216226,\n        \"min\": -1.5475,\n        \"max\": 2.7165,\n        \"num_unique_values\": 7834,\n        \"samples\": [\n          -0.512,\n          1.553,\n          -0.8695\n        ],\n        \"semantic_type\": \"\",\n        \"description\": \"\"\n      }\n    }\n  ]\n}"
            }
          },
          "metadata": {},
          "execution_count": 13
        }
      ]
    },
    {
      "cell_type": "code",
      "source": [
        "vikram_dataset.seq[1]"
      ],
      "metadata": {
        "colab": {
          "base_uri": "https://localhost:8080/",
          "height": 53
        },
        "id": "PhbaeOUXG04q",
        "outputId": "b5461a0c-cd9c-4c8e-ec60-e72fdd0060b0"
      },
      "execution_count": null,
      "outputs": [
        {
          "output_type": "execute_result",
          "data": {
            "text/plain": [
              "'AGGACCGGATCAACTTTGCTCCTTAACACAGGCTAAGGACCAGCTTCTTTGGGAGAGAACAGACGCAGGGGCGGGAGGGAAAAAGGGAGAGGCAGACGTCACTTCCTCTTGGCGACTCTGGCAGCAGATTGGTCGGTTGAGTGGCAGAAAGGCAGACGGGGACTGGGCAAGGCACTGTCGGTGACATCACGGACAGGGCGACTTCTATGTAGATGCATTGCGTGAACCGA'"
            ],
            "application/vnd.google.colaboratory.intrinsic+json": {
              "type": "string"
            }
          },
          "metadata": {},
          "execution_count": 14
        }
      ]
    },
    {
      "cell_type": "code",
      "source": [
        "from torch.utils.data import Dataset\n",
        "\n",
        "class SeqDataset(Dataset):\n",
        "    def __init__(self, data):\n",
        "        super().__init__()\n",
        "        self.data = data\n",
        "\n",
        "    def __len__(self):\n",
        "        return len(self.data)\n",
        "\n",
        "    def __getitem__(self, idx):\n",
        "        row = self.data.iloc[idx, :]\n",
        "        return row.seq, row.score"
      ],
      "metadata": {
        "id": "8eWPcSzDm-m7"
      },
      "execution_count": null,
      "outputs": []
    },
    {
      "cell_type": "code",
      "source": [
        "import torch.nn.functional as F\n",
        "def seq2onehot(seq, code={\"A\": 0, \"C\": 1, \"G\": 2, \"T\": 3}):\n",
        "    seq = torch.LongTensor([code[s] for s in seq])\n",
        "    code = F.one_hot(seq, num_classes=4)\n",
        "    return code.transpose(0, 1).float()"
      ],
      "metadata": {
        "id": "Az4D5tz4nSJs"
      },
      "execution_count": null,
      "outputs": []
    },
    {
      "cell_type": "code",
      "source": [
        "print(seq2onehot(\"ACGT\"))"
      ],
      "metadata": {
        "colab": {
          "base_uri": "https://localhost:8080/"
        },
        "outputId": "798572d9-4cfa-4416-ccb2-bf32eefa0ca1",
        "id": "W5dcsYufnSJu"
      },
      "execution_count": null,
      "outputs": [
        {
          "output_type": "stream",
          "name": "stdout",
          "text": [
            "tensor([[1., 0., 0., 0.],\n",
            "        [0., 1., 0., 0.],\n",
            "        [0., 0., 1., 0.],\n",
            "        [0., 0., 0., 1.]])\n"
          ]
        }
      ]
    },
    {
      "cell_type": "code",
      "source": [
        "from torch.utils.data import Dataset\n",
        "\n",
        "class SeqDataset(Dataset):\n",
        "    def __init__(self, data):\n",
        "        super().__init__()\n",
        "        self.data = data\n",
        "\n",
        "    def __len__(self):\n",
        "        return len(self.data)\n",
        "\n",
        "    def __getitem__(self, idx):\n",
        "        row = self.data.iloc[idx, :]\n",
        "        return seq2onehot(row.seq), row.score"
      ],
      "metadata": {
        "id": "M6ITNLrnnSJu"
      },
      "execution_count": null,
      "outputs": []
    },
    {
      "cell_type": "code",
      "source": [
        "SeqDataset(vikram_dataset)[0][0].dtype"
      ],
      "metadata": {
        "colab": {
          "base_uri": "https://localhost:8080/"
        },
        "outputId": "339b2c20-fc58-47b8-f9bd-de2831a7ec95",
        "id": "8jl2l7s2nSJv"
      },
      "execution_count": null,
      "outputs": [
        {
          "output_type": "execute_result",
          "data": {
            "text/plain": [
              "torch.float32"
            ]
          },
          "metadata": {},
          "execution_count": 19
        }
      ]
    },
    {
      "cell_type": "code",
      "source": [
        "SeqDataset(vikram_dataset)[0][0]"
      ],
      "metadata": {
        "colab": {
          "base_uri": "https://localhost:8080/"
        },
        "id": "iN2haB9CnhEp",
        "outputId": "2e5a3cc8-aac3-4ab8-928d-1ed3d57e24f5"
      },
      "execution_count": null,
      "outputs": [
        {
          "output_type": "execute_result",
          "data": {
            "text/plain": [
              "tensor([[1., 0., 0., 1., 0., 0., 0., 0., 1., 0., 0., 1., 1., 0., 0., 1., 0., 0.,\n",
              "         1., 0., 0., 1., 0., 0., 1., 0., 0., 0., 0., 0., 0., 0., 0., 0., 1., 0.,\n",
              "         0., 0., 0., 1., 1., 0., 0., 0., 1., 1., 1., 0., 0., 1., 0., 1., 0., 0.,\n",
              "         0., 0., 0., 1., 0., 0., 0., 0., 0., 0., 1., 0., 0., 0., 0., 1., 0., 0.,\n",
              "         1., 0., 0., 1., 0., 0., 0., 0., 0., 0., 1., 0., 1., 0., 0., 0., 0., 0.,\n",
              "         0., 0., 0., 0., 0., 0., 1., 0., 0., 0., 0., 0., 0., 1., 0., 0., 0., 0.,\n",
              "         0., 0., 0., 0., 0., 0., 0., 0., 0., 1., 0., 0., 1., 0., 1., 0., 0., 1.,\n",
              "         0., 1., 0., 0., 0., 1., 0., 0., 0., 0., 1., 0., 0., 0., 0., 0., 0., 0.,\n",
              "         0., 0., 0., 1., 0., 0., 1., 0., 0., 0., 0., 0., 0., 0., 0., 0., 0., 0.,\n",
              "         0., 0., 1., 0., 0., 0., 1., 0., 1., 0., 0., 0., 0., 0., 1., 0., 0., 1.,\n",
              "         0., 1., 1., 0., 0., 0., 0., 1., 1., 1., 1., 1., 0., 0., 0., 1., 0., 0.,\n",
              "         0., 0., 0., 0., 0., 1., 0., 0., 1., 1., 0., 0., 0., 0., 1., 0., 1., 0.,\n",
              "         1., 0., 0., 0., 0., 0., 0., 0., 1., 1., 0., 0., 0., 1.],\n",
              "        [0., 0., 0., 0., 1., 1., 0., 0., 0., 0., 1., 0., 0., 1., 0., 0., 0., 0.,\n",
              "         0., 0., 0., 0., 0., 0., 0., 0., 0., 0., 0., 0., 0., 0., 0., 0., 0., 0.,\n",
              "         0., 0., 0., 0., 0., 0., 0., 0., 0., 0., 0., 0., 1., 0., 1., 0., 0., 0.,\n",
              "         0., 1., 0., 0., 0., 0., 1., 1., 0., 0., 0., 0., 0., 0., 1., 0., 0., 0.,\n",
              "         0., 0., 0., 0., 0., 0., 0., 1., 0., 0., 0., 0., 0., 0., 0., 0., 1., 1.,\n",
              "         1., 1., 0., 0., 0., 0., 0., 0., 0., 0., 0., 1., 1., 0., 0., 0., 0., 0.,\n",
              "         1., 0., 0., 0., 0., 0., 0., 0., 0., 0., 1., 0., 0., 0., 0., 0., 0., 0.,\n",
              "         0., 0., 0., 0., 1., 0., 0., 0., 0., 0., 0., 0., 0., 0., 0., 0., 0., 0.,\n",
              "         0., 0., 1., 0., 0., 0., 0., 0., 0., 0., 0., 0., 0., 0., 0., 1., 0., 0.,\n",
              "         0., 1., 0., 0., 0., 0., 0., 0., 0., 0., 0., 1., 0., 0., 0., 1., 0., 0.,\n",
              "         0., 0., 0., 0., 0., 0., 0., 0., 0., 0., 0., 0., 1., 0., 0., 0., 0., 0.,\n",
              "         1., 0., 0., 0., 0., 0., 0., 0., 0., 0., 0., 0., 1., 0., 0., 1., 0., 1.,\n",
              "         0., 0., 0., 0., 1., 0., 0., 0., 0., 0., 1., 1., 0., 0.],\n",
              "        [0., 1., 1., 0., 0., 0., 1., 1., 0., 0., 0., 0., 0., 0., 0., 0., 1., 0.,\n",
              "         0., 0., 1., 0., 1., 1., 0., 1., 1., 1., 0., 0., 1., 0., 1., 1., 0., 1.,\n",
              "         0., 1., 1., 0., 0., 1., 0., 1., 0., 0., 0., 0., 0., 0., 0., 0., 0., 1.,\n",
              "         1., 0., 0., 0., 1., 1., 0., 0., 1., 1., 0., 1., 1., 0., 0., 0., 0., 0.,\n",
              "         0., 1., 1., 0., 1., 1., 1., 0., 0., 1., 0., 1., 0., 1., 1., 1., 0., 0.,\n",
              "         0., 0., 0., 1., 0., 0., 0., 1., 1., 1., 1., 0., 0., 0., 0., 1., 1., 1.,\n",
              "         0., 0., 1., 1., 1., 0., 0., 0., 0., 0., 0., 0., 0., 0., 0., 0., 1., 0.,\n",
              "         0., 0., 1., 1., 0., 0., 0., 1., 0., 1., 0., 0., 0., 1., 1., 0., 1., 1.,\n",
              "         1., 0., 0., 0., 0., 0., 0., 0., 1., 0., 1., 0., 0., 1., 0., 0., 1., 0.,\n",
              "         1., 0., 0., 1., 1., 0., 0., 1., 0., 1., 1., 0., 0., 0., 0., 0., 0., 0.,\n",
              "         1., 0., 0., 1., 0., 1., 0., 0., 0., 0., 0., 0., 0., 1., 0., 0., 1., 1.,\n",
              "         0., 0., 0., 1., 1., 0., 0., 0., 0., 0., 1., 1., 0., 1., 0., 0., 0., 0.,\n",
              "         0., 0., 0., 1., 0., 1., 0., 1., 0., 0., 0., 0., 1., 0.],\n",
              "        [0., 0., 0., 0., 0., 0., 0., 0., 0., 1., 0., 0., 0., 0., 1., 0., 0., 1.,\n",
              "         0., 1., 0., 0., 0., 0., 0., 0., 0., 0., 1., 1., 0., 1., 0., 0., 0., 0.,\n",
              "         1., 0., 0., 0., 0., 0., 1., 0., 0., 0., 0., 1., 0., 0., 0., 0., 1., 0.,\n",
              "         0., 0., 1., 0., 0., 0., 0., 0., 0., 0., 0., 0., 0., 1., 0., 0., 1., 1.,\n",
              "         0., 0., 0., 0., 0., 0., 0., 0., 1., 0., 0., 0., 0., 0., 0., 0., 0., 0.,\n",
              "         0., 0., 1., 0., 1., 1., 0., 0., 0., 0., 0., 0., 0., 0., 1., 0., 0., 0.,\n",
              "         0., 1., 0., 0., 0., 1., 1., 1., 1., 0., 0., 1., 0., 1., 0., 1., 0., 0.,\n",
              "         1., 0., 0., 0., 0., 0., 1., 0., 1., 0., 0., 1., 1., 0., 0., 1., 0., 0.,\n",
              "         0., 1., 0., 0., 1., 1., 0., 1., 0., 1., 0., 1., 1., 0., 1., 0., 0., 1.,\n",
              "         0., 0., 0., 0., 0., 1., 0., 0., 0., 0., 0., 0., 1., 1., 0., 0., 1., 0.,\n",
              "         0., 0., 0., 0., 1., 0., 1., 0., 0., 0., 0., 0., 0., 0., 1., 0., 0., 0.,\n",
              "         0., 1., 1., 0., 0., 0., 1., 1., 0., 0., 0., 0., 0., 0., 0., 0., 0., 0.,\n",
              "         0., 1., 1., 0., 0., 0., 1., 0., 0., 0., 0., 0., 0., 0.]])"
            ]
          },
          "metadata": {},
          "execution_count": 20
        }
      ]
    },
    {
      "cell_type": "markdown",
      "source": [
        "# Задание - воссоздать архитектуру NewLegNET\n"
      ],
      "metadata": {
        "id": "n67ccWm-kTcK"
      }
    },
    {
      "cell_type": "markdown",
      "source": [
        "## Stem block\n",
        "<img src=\"https://github.com/Existanze54/sirius-neural-networks-2024/blob/main/Images/StemBlock.png?raw=true\" width=\"600px\">"
      ],
      "metadata": {
        "id": "QLfCJd2Xkhlf"
      }
    },
    {
      "cell_type": "markdown",
      "source": [
        "### Eff block - небольшая модификация EfficientNetV2\n",
        "\n",
        "<img src=\"https://github.com/Existanze54/sirius-neural-networks-2024/blob/main/Images/EffBlockk.png?raw=true\" width=\"400px\">\n",
        "\n",
        "Параметр groups передается непосредственно в поле Conv1D и равен размерности хиден слоя"
      ],
      "metadata": {
        "id": "Tabc4aWGZCoB"
      }
    },
    {
      "cell_type": "markdown",
      "source": [
        "###  Squeeze and Excitation (SE) block\n",
        "<img src=\"https://github.com/Existanze54/sirius-neural-networks-2024/blob/main/Images/SEBlock.png?raw=true\" width=\"400px\">\n",
        "\n",
        "Красным обозначены слои, которые убрали в новой версии LegNET. Тем не менее, слой multiplication (умножение аутпута сигмоиды на инпут всего блока) мы оставляем"
      ],
      "metadata": {
        "id": "9X-qCVJIZkMB"
      }
    },
    {
      "cell_type": "markdown",
      "source": [
        "## Обзор всех блоков\n",
        "<img src=\"https://github.com/Existanze54/sirius-neural-networks-2024/blob/main/Images/OurLegNET.png?raw=true\" width=\"800px\">\n",
        "\n",
        "Игнорируем часть D., ее не надо трогать в архитектуре\n"
      ],
      "metadata": {
        "id": "AY73SP-Rl2jT"
      }
    },
    {
      "cell_type": "markdown",
      "source": [
        "# А дальше вы сами)))"
      ],
      "metadata": {
        "id": "ByDB0riRZzpx"
      }
    },
    {
      "cell_type": "markdown",
      "source": [
        "ну почти"
      ],
      "metadata": {
        "id": "XBT2cjQsmwN8"
      }
    },
    {
      "cell_type": "code",
      "execution_count": null,
      "metadata": {
        "id": "Jom9UXKz2lyE"
      },
      "outputs": [],
      "source": [
        "import math\n",
        "\n",
        "import torch\n",
        "import torch.nn as nn\n",
        "import torch.nn.functional as F\n",
        "\n",
        "def initialize_weights(m):\n",
        "    if isinstance(m, nn.Conv1d):\n",
        "        n = m.kernel_size[0] * m.out_channels\n",
        "        m.weight.data.normal_(0, math.sqrt(2 / n))\n",
        "        if m.bias is not None:\n",
        "            nn.init.constant_(m.bias.data, 0)\n",
        "    elif isinstance(m, nn.BatchNorm1d):\n",
        "        nn.init.constant_(m.weight.data, 1)\n",
        "        nn.init.constant_(m.bias.data, 0)\n",
        "    elif isinstance(m, nn.Linear):\n",
        "        m.weight.data.normal_(0, 0.001)\n",
        "        if m.bias is not None:\n",
        "            nn.init.constant_(m.bias.data, 0)\n",
        "\n",
        "class SELayer(nn.Module):\n",
        "    def __init__(self, inp, reduction=4): # reduction - значение, на которое как раз делится количество каналов\n",
        "        # your code here\n",
        "\n",
        "    def forward(self, x):\n",
        "        b, c, _, = x.size() # b - номер батча, c -  номер канала\n",
        "        y = x.view(b, c, -1).mean(dim=2) # некоторый аналог global average pooling из предыдущей архитектуры\n",
        "        y = # your code here\n",
        "        # не забудьте привести x и y к одному виду для умножения\n",
        "        return x * y\n",
        "\n",
        "class EffBlock(nn.Module):\n",
        "    def __init__(self, in_ch, ks, resize_factor, activation, out_ch=None, se_reduction=None):\n",
        "        super().__init__()\n",
        "        self.in_ch = in_ch\n",
        "        self.out_ch = self.in_ch if out_ch is None else out_ch\n",
        "        self.resize_factor = resize_factor # увеличение числа каналов\n",
        "        self.se_reduction = resize_factor if se_reduction is None else se_reduction # уменьшение для SE блока\n",
        "        self.ks = ks  # размер ядра свертки\n",
        "        self.inner_dim = self.in_ch * self.resize_factor # размер хидден слоя\n",
        "\n",
        "        # your code here\n",
        "\n",
        "    def forward(self, x):\n",
        "        # your code here\n",
        "\n",
        "class StemBlock(nn.Module):\n",
        "    def __init__(self, in_ch, ks, activation, out_ch=None):\n",
        "        super().__init__()\n",
        "        self.in_ch = in_ch\n",
        "        self.out_ch = self.in_ch if out_ch is None else out_ch\n",
        "        self.ks = ks\n",
        "\n",
        "        # your code here\n",
        "\n",
        "    def forward(self, x):\n",
        "         # your code here\n",
        "\n",
        "class ResidualConcat(nn.Module): # оставляем как есть\n",
        "    def __init__(self, fn):\n",
        "        super().__init__()\n",
        "        self.fn = fn\n",
        "\n",
        "    def forward(self, x, **kwargs):\n",
        "        return torch.concat([self.fn(x, **kwargs), x], dim=1)\n",
        "\n",
        "class MapperBlock(nn.Module): # оставляем как есть\n",
        "    def __init__(self, in_features, out_features, activation=nn.SiLU):\n",
        "        super().__init__()\n",
        "        self.block = nn.Sequential(\n",
        "            nn.BatchNorm1d(in_features),\n",
        "            nn.Conv1d(in_channels=in_features,\n",
        "                      out_channels=out_features,\n",
        "                      kernel_size=1),\n",
        "        )\n",
        "\n",
        "    def forward(self, x):\n",
        "        return self.block(x)\n",
        "\n",
        "class HumanLegNet(nn.Module):\n",
        "    def __init__(self,\n",
        "                 in_ch,\n",
        "                 stem_ch,\n",
        "                 stem_ks,\n",
        "                 ef_ks,\n",
        "                 ef_block_sizes,\n",
        "                 pool_sizes,\n",
        "                 resize_factor,\n",
        "                 activation=nn.SiLU,\n",
        "                 ):\n",
        "        super().__init__()\n",
        "        assert len(pool_sizes) == len(ef_block_sizes)\n",
        "\n",
        "        self.in_ch = in_ch\n",
        "        self.stem = # StemBlock()\n",
        "\n",
        "        blocks = []\n",
        "\n",
        "        in_ch = stem_ch\n",
        "        out_ch = stem_ch\n",
        "        for pool_sz, out_ch in zip(pool_sizes, ef_block_sizes):\n",
        "            blc = nn.Sequential(\n",
        "                ResidualConcat(# EffBlock()\n",
        "                               ),\n",
        "                # StemBlock(),\n",
        "                nn.MaxPool1d(pool_sz) if pool_sz != 1 else nn.Identity()\n",
        "            )\n",
        "            in_ch = out_ch\n",
        "            blocks.append(blc)\n",
        "        self.main = nn.Sequential(*blocks)\n",
        "\n",
        "        self.mapper = MapperBlock(in_features=out_ch,\n",
        "                                  out_features=out_ch * 2)\n",
        "        self.head = nn.Sequential(nn.Linear(out_ch * 2, out_ch * 2),\n",
        "                                   nn.BatchNorm1d(out_ch * 2),\n",
        "                                   activation(),\n",
        "                                   nn.Linear(out_ch * 2, 1)) # на выход получили одну чиселку\n",
        "\n",
        "    def forward(self, x):\n",
        "        x = self.stem(x)\n",
        "        x = self.main(x)\n",
        "        x = self.mapper(x)\n",
        "        x = F.adaptive_avg_pool1d(x, 1)\n",
        "        x = x.squeeze(-1)\n",
        "        x = self.head(x)\n",
        "        x = x.squeeze(-1)\n",
        "        return x\n"
      ]
    },
    {
      "cell_type": "code",
      "source": [
        "import pytorch_lightning as L\n",
        "from torchmetrics import MeanSquaredError\n",
        "\n",
        "class SeqModel(L.LightningModule):\n",
        "    def __init__(self, lr=3e-4, onecycle=False):\n",
        "        super().__init__()\n",
        "        self.model = HumanLegNet(in_ch=4,\n",
        "                                 stem_ch=64,\n",
        "                                 stem_ks=11,\n",
        "                                 ef_ks=9,\n",
        "                                 ef_block_sizes=[80, 96, 112, 128],\n",
        "                                 pool_sizes=[2,2,2,2],\n",
        "                                 resize_factor=4) # создаем нашу модель\n",
        "        self.criterion = nn.MSELoss() # задали лосс\n",
        "        self.lr = lr\n",
        "        self.val_mse = MeanSquaredError() # метрика тоже по МСЕ считается\n",
        "        self.onecycle = onecycle # можно и тру поставить, фил фри так сказать\n",
        "        # пишем, какую метрику нам интересно смотреть на датасете\n",
        "    def forward(self, x):\n",
        "        # пишем, как работать с изображением\n",
        "        return self.model(x)\n",
        "\n",
        "    def training_step(self, batch, batch_nb):\n",
        "        # описываем один шаг тренировки\n",
        "        x, y = batch\n",
        "        y = y.float()\n",
        "        loss = self.criterion(self(x), y)\n",
        "        self.log(\"train_loss\", loss, prog_bar=True)\n",
        "        return loss\n",
        "\n",
        "    def configure_optimizers(self): # алгоритм OneCycle\n",
        "        if self.onecycle: # используем OneCycle\n",
        "            optimizer = torch.optim.AdamW(self.parameters(), lr=self.lr / 50)\n",
        "            lr_scheduler = torch.optim.lr_scheduler.OneCycleLR(optimizer,\n",
        "                                                            total_steps=self.trainer.estimated_stepping_batches,\n",
        "                                                            max_lr=0.01)\n",
        "            lr_scheduler_config = {\n",
        "                    # REQUIRED: The scheduler instance\n",
        "                    \"scheduler\": lr_scheduler,\n",
        "                    # The unit of the scheduler's step size, could also be 'step'.\n",
        "                    # 'epoch' updates the scheduler on epoch end whereas 'step'\n",
        "                    # updates it after a optimizer update.\n",
        "                    \"interval\": \"step\",\n",
        "                    # How many epochs/steps should pass between calls to\n",
        "                    # `scheduler.step()`. 1 corresponds to updating the learning\n",
        "                    # rate after every epoch/step.\n",
        "                \"frequency\": 1,\n",
        "                    # If using the `LearningRateMonitor` callback to monitor the\n",
        "                    # learning rate progress, this keyword can be used to specify\n",
        "                    # a custom logged name\n",
        "                    \"name\": \"cycle_lr\"\n",
        "            }\n",
        "            return [optimizer], [lr_scheduler_config]\n",
        "        else: # просто учим\n",
        "            return torch.optim.AdamW(self.parameters(), lr=self.lr)\n",
        "\n",
        "    def validation_step(self, batch, batch_idx):\n",
        "        # пишем то, как осуществляется шаг валидации\n",
        "        x, y = batch\n",
        "        y = y.float()\n",
        "        preds = self(x)\n",
        "        self.val_mse.update(preds, y)\n",
        "\n",
        "        # Calling self.log will surface up scalars for you in TensorBoard\n",
        "        self.log(\"val_acc\", self.val_mse, prog_bar=True)\n",
        "\n",
        "    def predict_step(self, batch, batch_idx, dataloader_idx=0):\n",
        "        if isinstance(batch, tuple) or isinstance(batch, list):\n",
        "            x, _ = batch\n",
        "        else:\n",
        "            x = batch\n",
        "        return self(x)"
      ],
      "metadata": {
        "id": "eN6YkVLVyM6g"
      },
      "execution_count": null,
      "outputs": []
    },
    {
      "cell_type": "code",
      "source": [
        "import pandas as pd\n",
        "vikram_dataset = pd.read_csv(\"vikram_hse_dataset.csv\", sep=\"\\t\")"
      ],
      "metadata": {
        "id": "gDqkyqH_y4rK"
      },
      "execution_count": null,
      "outputs": []
    },
    {
      "cell_type": "code",
      "source": [
        "vikram_dataset.head()"
      ],
      "metadata": {
        "colab": {
          "base_uri": "https://localhost:8080/",
          "height": 206
        },
        "id": "RwRiRj-MzQ7N",
        "outputId": "cc3f2a04-d7a7-468e-8a0e-e9c10735d018"
      },
      "execution_count": null,
      "outputs": [
        {
          "output_type": "execute_result",
          "data": {
            "text/plain": [
              "                                                 seq   score\n",
              "0  AGGACCGGATCAACTAGTATGAGGAGGGTTGTGGAGTGGAAGTGAA... -0.3105\n",
              "1  AGGACCGGATCAACTTTGCTCCTTAACACAGGCTAAGGACCAGCTT...  0.9455\n",
              "2  AGGACCGGATCAACTTCCTGGCCCCCAAGAGCACAGGGAGGCCTTG... -0.0855\n",
              "3  AGGACCGGATCAACTTTTTAGACTGTGCAGTTAAGTAAGGCCTCAC... -0.6655\n",
              "4  AGGACCGGATCAACTTCCACCGCGCTTCCTCCACGAAACCACACAG... -0.0135"
            ],
            "text/html": [
              "\n",
              "  <div id=\"df-225768ce-63d3-42bd-9462-51a28233b49a\" class=\"colab-df-container\">\n",
              "    <div>\n",
              "<style scoped>\n",
              "    .dataframe tbody tr th:only-of-type {\n",
              "        vertical-align: middle;\n",
              "    }\n",
              "\n",
              "    .dataframe tbody tr th {\n",
              "        vertical-align: top;\n",
              "    }\n",
              "\n",
              "    .dataframe thead th {\n",
              "        text-align: right;\n",
              "    }\n",
              "</style>\n",
              "<table border=\"1\" class=\"dataframe\">\n",
              "  <thead>\n",
              "    <tr style=\"text-align: right;\">\n",
              "      <th></th>\n",
              "      <th>seq</th>\n",
              "      <th>score</th>\n",
              "    </tr>\n",
              "  </thead>\n",
              "  <tbody>\n",
              "    <tr>\n",
              "      <th>0</th>\n",
              "      <td>AGGACCGGATCAACTAGTATGAGGAGGGTTGTGGAGTGGAAGTGAA...</td>\n",
              "      <td>-0.3105</td>\n",
              "    </tr>\n",
              "    <tr>\n",
              "      <th>1</th>\n",
              "      <td>AGGACCGGATCAACTTTGCTCCTTAACACAGGCTAAGGACCAGCTT...</td>\n",
              "      <td>0.9455</td>\n",
              "    </tr>\n",
              "    <tr>\n",
              "      <th>2</th>\n",
              "      <td>AGGACCGGATCAACTTCCTGGCCCCCAAGAGCACAGGGAGGCCTTG...</td>\n",
              "      <td>-0.0855</td>\n",
              "    </tr>\n",
              "    <tr>\n",
              "      <th>3</th>\n",
              "      <td>AGGACCGGATCAACTTTTTAGACTGTGCAGTTAAGTAAGGCCTCAC...</td>\n",
              "      <td>-0.6655</td>\n",
              "    </tr>\n",
              "    <tr>\n",
              "      <th>4</th>\n",
              "      <td>AGGACCGGATCAACTTCCACCGCGCTTCCTCCACGAAACCACACAG...</td>\n",
              "      <td>-0.0135</td>\n",
              "    </tr>\n",
              "  </tbody>\n",
              "</table>\n",
              "</div>\n",
              "    <div class=\"colab-df-buttons\">\n",
              "\n",
              "  <div class=\"colab-df-container\">\n",
              "    <button class=\"colab-df-convert\" onclick=\"convertToInteractive('df-225768ce-63d3-42bd-9462-51a28233b49a')\"\n",
              "            title=\"Convert this dataframe to an interactive table.\"\n",
              "            style=\"display:none;\">\n",
              "\n",
              "  <svg xmlns=\"http://www.w3.org/2000/svg\" height=\"24px\" viewBox=\"0 -960 960 960\">\n",
              "    <path d=\"M120-120v-720h720v720H120Zm60-500h600v-160H180v160Zm220 220h160v-160H400v160Zm0 220h160v-160H400v160ZM180-400h160v-160H180v160Zm440 0h160v-160H620v160ZM180-180h160v-160H180v160Zm440 0h160v-160H620v160Z\"/>\n",
              "  </svg>\n",
              "    </button>\n",
              "\n",
              "  <style>\n",
              "    .colab-df-container {\n",
              "      display:flex;\n",
              "      gap: 12px;\n",
              "    }\n",
              "\n",
              "    .colab-df-convert {\n",
              "      background-color: #E8F0FE;\n",
              "      border: none;\n",
              "      border-radius: 50%;\n",
              "      cursor: pointer;\n",
              "      display: none;\n",
              "      fill: #1967D2;\n",
              "      height: 32px;\n",
              "      padding: 0 0 0 0;\n",
              "      width: 32px;\n",
              "    }\n",
              "\n",
              "    .colab-df-convert:hover {\n",
              "      background-color: #E2EBFA;\n",
              "      box-shadow: 0px 1px 2px rgba(60, 64, 67, 0.3), 0px 1px 3px 1px rgba(60, 64, 67, 0.15);\n",
              "      fill: #174EA6;\n",
              "    }\n",
              "\n",
              "    .colab-df-buttons div {\n",
              "      margin-bottom: 4px;\n",
              "    }\n",
              "\n",
              "    [theme=dark] .colab-df-convert {\n",
              "      background-color: #3B4455;\n",
              "      fill: #D2E3FC;\n",
              "    }\n",
              "\n",
              "    [theme=dark] .colab-df-convert:hover {\n",
              "      background-color: #434B5C;\n",
              "      box-shadow: 0px 1px 3px 1px rgba(0, 0, 0, 0.15);\n",
              "      filter: drop-shadow(0px 1px 2px rgba(0, 0, 0, 0.3));\n",
              "      fill: #FFFFFF;\n",
              "    }\n",
              "  </style>\n",
              "\n",
              "    <script>\n",
              "      const buttonEl =\n",
              "        document.querySelector('#df-225768ce-63d3-42bd-9462-51a28233b49a button.colab-df-convert');\n",
              "      buttonEl.style.display =\n",
              "        google.colab.kernel.accessAllowed ? 'block' : 'none';\n",
              "\n",
              "      async function convertToInteractive(key) {\n",
              "        const element = document.querySelector('#df-225768ce-63d3-42bd-9462-51a28233b49a');\n",
              "        const dataTable =\n",
              "          await google.colab.kernel.invokeFunction('convertToInteractive',\n",
              "                                                    [key], {});\n",
              "        if (!dataTable) return;\n",
              "\n",
              "        const docLinkHtml = 'Like what you see? Visit the ' +\n",
              "          '<a target=\"_blank\" href=https://colab.research.google.com/notebooks/data_table.ipynb>data table notebook</a>'\n",
              "          + ' to learn more about interactive tables.';\n",
              "        element.innerHTML = '';\n",
              "        dataTable['output_type'] = 'display_data';\n",
              "        await google.colab.output.renderOutput(dataTable, element);\n",
              "        const docLink = document.createElement('div');\n",
              "        docLink.innerHTML = docLinkHtml;\n",
              "        element.appendChild(docLink);\n",
              "      }\n",
              "    </script>\n",
              "  </div>\n",
              "\n",
              "\n",
              "<div id=\"df-4a10eee8-86b6-40d8-990f-96554964ddc3\">\n",
              "  <button class=\"colab-df-quickchart\" onclick=\"quickchart('df-4a10eee8-86b6-40d8-990f-96554964ddc3')\"\n",
              "            title=\"Suggest charts\"\n",
              "            style=\"display:none;\">\n",
              "\n",
              "<svg xmlns=\"http://www.w3.org/2000/svg\" height=\"24px\"viewBox=\"0 0 24 24\"\n",
              "     width=\"24px\">\n",
              "    <g>\n",
              "        <path d=\"M19 3H5c-1.1 0-2 .9-2 2v14c0 1.1.9 2 2 2h14c1.1 0 2-.9 2-2V5c0-1.1-.9-2-2-2zM9 17H7v-7h2v7zm4 0h-2V7h2v10zm4 0h-2v-4h2v4z\"/>\n",
              "    </g>\n",
              "</svg>\n",
              "  </button>\n",
              "\n",
              "<style>\n",
              "  .colab-df-quickchart {\n",
              "      --bg-color: #E8F0FE;\n",
              "      --fill-color: #1967D2;\n",
              "      --hover-bg-color: #E2EBFA;\n",
              "      --hover-fill-color: #174EA6;\n",
              "      --disabled-fill-color: #AAA;\n",
              "      --disabled-bg-color: #DDD;\n",
              "  }\n",
              "\n",
              "  [theme=dark] .colab-df-quickchart {\n",
              "      --bg-color: #3B4455;\n",
              "      --fill-color: #D2E3FC;\n",
              "      --hover-bg-color: #434B5C;\n",
              "      --hover-fill-color: #FFFFFF;\n",
              "      --disabled-bg-color: #3B4455;\n",
              "      --disabled-fill-color: #666;\n",
              "  }\n",
              "\n",
              "  .colab-df-quickchart {\n",
              "    background-color: var(--bg-color);\n",
              "    border: none;\n",
              "    border-radius: 50%;\n",
              "    cursor: pointer;\n",
              "    display: none;\n",
              "    fill: var(--fill-color);\n",
              "    height: 32px;\n",
              "    padding: 0;\n",
              "    width: 32px;\n",
              "  }\n",
              "\n",
              "  .colab-df-quickchart:hover {\n",
              "    background-color: var(--hover-bg-color);\n",
              "    box-shadow: 0 1px 2px rgba(60, 64, 67, 0.3), 0 1px 3px 1px rgba(60, 64, 67, 0.15);\n",
              "    fill: var(--button-hover-fill-color);\n",
              "  }\n",
              "\n",
              "  .colab-df-quickchart-complete:disabled,\n",
              "  .colab-df-quickchart-complete:disabled:hover {\n",
              "    background-color: var(--disabled-bg-color);\n",
              "    fill: var(--disabled-fill-color);\n",
              "    box-shadow: none;\n",
              "  }\n",
              "\n",
              "  .colab-df-spinner {\n",
              "    border: 2px solid var(--fill-color);\n",
              "    border-color: transparent;\n",
              "    border-bottom-color: var(--fill-color);\n",
              "    animation:\n",
              "      spin 1s steps(1) infinite;\n",
              "  }\n",
              "\n",
              "  @keyframes spin {\n",
              "    0% {\n",
              "      border-color: transparent;\n",
              "      border-bottom-color: var(--fill-color);\n",
              "      border-left-color: var(--fill-color);\n",
              "    }\n",
              "    20% {\n",
              "      border-color: transparent;\n",
              "      border-left-color: var(--fill-color);\n",
              "      border-top-color: var(--fill-color);\n",
              "    }\n",
              "    30% {\n",
              "      border-color: transparent;\n",
              "      border-left-color: var(--fill-color);\n",
              "      border-top-color: var(--fill-color);\n",
              "      border-right-color: var(--fill-color);\n",
              "    }\n",
              "    40% {\n",
              "      border-color: transparent;\n",
              "      border-right-color: var(--fill-color);\n",
              "      border-top-color: var(--fill-color);\n",
              "    }\n",
              "    60% {\n",
              "      border-color: transparent;\n",
              "      border-right-color: var(--fill-color);\n",
              "    }\n",
              "    80% {\n",
              "      border-color: transparent;\n",
              "      border-right-color: var(--fill-color);\n",
              "      border-bottom-color: var(--fill-color);\n",
              "    }\n",
              "    90% {\n",
              "      border-color: transparent;\n",
              "      border-bottom-color: var(--fill-color);\n",
              "    }\n",
              "  }\n",
              "</style>\n",
              "\n",
              "  <script>\n",
              "    async function quickchart(key) {\n",
              "      const quickchartButtonEl =\n",
              "        document.querySelector('#' + key + ' button');\n",
              "      quickchartButtonEl.disabled = true;  // To prevent multiple clicks.\n",
              "      quickchartButtonEl.classList.add('colab-df-spinner');\n",
              "      try {\n",
              "        const charts = await google.colab.kernel.invokeFunction(\n",
              "            'suggestCharts', [key], {});\n",
              "      } catch (error) {\n",
              "        console.error('Error during call to suggestCharts:', error);\n",
              "      }\n",
              "      quickchartButtonEl.classList.remove('colab-df-spinner');\n",
              "      quickchartButtonEl.classList.add('colab-df-quickchart-complete');\n",
              "    }\n",
              "    (() => {\n",
              "      let quickchartButtonEl =\n",
              "        document.querySelector('#df-4a10eee8-86b6-40d8-990f-96554964ddc3 button');\n",
              "      quickchartButtonEl.style.display =\n",
              "        google.colab.kernel.accessAllowed ? 'block' : 'none';\n",
              "    })();\n",
              "  </script>\n",
              "</div>\n",
              "    </div>\n",
              "  </div>\n"
            ],
            "application/vnd.google.colaboratory.intrinsic+json": {
              "type": "dataframe",
              "variable_name": "vikram_dataset",
              "summary": "{\n  \"name\": \"vikram_dataset\",\n  \"rows\": 98332,\n  \"fields\": [\n    {\n      \"column\": \"seq\",\n      \"properties\": {\n        \"dtype\": \"string\",\n        \"num_unique_values\": 98332,\n        \"samples\": [\n          \"AGGACCGGATCAACTCAAGTGCGAAGGCTCAATCCAAACATGACTCCCTGTCAGCGCTCTTGTCCCGGCCAGCTGTCCCCAGCAATTACTGATGCTCTGCTGCCCCCGCCTGGCCAAGCCCATTCTAACCACTTCAAAGGCCTCACTGGACCCTTATCTGGAAAACCGCCAGCATAGCTTCTCAAAAAGCTGTTCCAAGCCTCATACACACACCTCATTGCGTGAACCGA\",\n          \"AGGACCGGATCAACTGGATGCAGAGAGACCGAATGACGGCCACCCTGCTCACAGGCCCTTCGCTGGGAACTGCTCTTTCTACACTCTGGGTGGCAGTATCGCTCCATCCCACACTTGAGCACACAAAAAAGGAAACATCTCACCTCCGGGTGAAAGAATATTTCAGGTCCCAGGAATCTTTCGTAACCAACGTCTATAACAAACTTCTTCTGGTTCATTGCGTGAACCGA\",\n          \"AGGACCGGATCAACTCTGCATGGGCGGCGCTTGGACCCGCGCTCTGGAGTCATCAGGCGGAGCAAAGCCAGCGCGCTCCGCGGCTCGGAATCCAGCTGGCTCGCTACCCTCCCACTCCTGCGATTTTACTCCCGACCGCGCTCCAGGGCAGAAGCGCCTGAGCTCCCGCTAGTGGGCATTTAAAGCCCATGCCCGGCGGGCGTGCTGACGCCACTCATTGCGTGAACCGA\"\n        ],\n        \"semantic_type\": \"\",\n        \"description\": \"\"\n      }\n    },\n    {\n      \"column\": \"score\",\n      \"properties\": {\n        \"dtype\": \"number\",\n        \"std\": 0.48472361421216226,\n        \"min\": -1.5475,\n        \"max\": 2.7165,\n        \"num_unique_values\": 7834,\n        \"samples\": [\n          -0.512,\n          1.553,\n          -0.8695\n        ],\n        \"semantic_type\": \"\",\n        \"description\": \"\"\n      }\n    }\n  ]\n}"
            }
          },
          "metadata": {},
          "execution_count": 10
        }
      ]
    },
    {
      "cell_type": "markdown",
      "source": [
        "## Обучение\n",
        "Делим на трейн, тест и вал датасеты"
      ],
      "metadata": {
        "id": "jAoK2P4iKzGs"
      }
    },
    {
      "cell_type": "code",
      "source": [
        "from torch.utils.data import DataLoader, random_split\n",
        "\n",
        "dataset = SeqDataset(vikram_dataset)\n",
        "test_size = int(0.2 * len(dataset))\n",
        "remain_size = len(dataset) - test_size\n",
        "val_size = int(0.2 * remain_size)\n",
        "train_size = remain_size - val_size\n",
        "remain_dataset, test_dataset = random_split(dataset, [remain_size, test_size])\n",
        "train_dataset, val_dataset = random_split(remain_dataset, [train_size, val_size])\n",
        "train_loader = DataLoader(train_dataset, batch_size=32, shuffle=True)\n",
        "val_loader = DataLoader(val_dataset, batch_size=32)"
      ],
      "metadata": {
        "id": "KkdWhvFRJeBJ"
      },
      "execution_count": null,
      "outputs": []
    },
    {
      "cell_type": "code",
      "source": [
        "len(train_dataset), len(val_dataset), len(test_dataset)"
      ],
      "metadata": {
        "colab": {
          "base_uri": "https://localhost:8080/"
        },
        "id": "WHAhmy1nRGwe",
        "outputId": "026c6028-5c24-4a90-d522-9ed3af8f4645"
      },
      "execution_count": null,
      "outputs": [
        {
          "output_type": "execute_result",
          "data": {
            "text/plain": [
              "(62933, 15733, 19666)"
            ]
          },
          "metadata": {},
          "execution_count": 32
        }
      ]
    },
    {
      "cell_type": "markdown",
      "source": [
        "# Запускаем"
      ],
      "metadata": {
        "id": "1OuExWdPrcS2"
      }
    },
    {
      "cell_type": "code",
      "source": [
        "model = SeqModel(lr=3e-4, onecycle=True)\n",
        "\n",
        "trainer = L.Trainer(max_epochs=10)  # gpus=1 if torch.cuda.is_available() else 0\n",
        "\n",
        "trainer.fit(model, train_loader)\n",
        "\n"
      ],
      "metadata": {
        "id": "V-gLykNsQ5bX"
      },
      "execution_count": null,
      "outputs": []
    },
    {
      "cell_type": "markdown",
      "source": [
        "# Фиксируем результат"
      ],
      "metadata": {
        "id": "5izYlGk7ri2j"
      }
    },
    {
      "cell_type": "code",
      "source": [
        "test_loader = DataLoader(test_dataset, batch_size=32)\n",
        "trainer.test(model, test_loader)"
      ],
      "metadata": {
        "id": "6KpTEi_5rpPf"
      },
      "execution_count": null,
      "outputs": []
    }
  ]
}